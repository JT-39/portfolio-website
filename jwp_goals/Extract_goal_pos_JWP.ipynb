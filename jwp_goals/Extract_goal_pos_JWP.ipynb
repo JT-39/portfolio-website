{
 "cells": [
  {
   "cell_type": "code",
   "execution_count": 1,
   "metadata": {},
   "outputs": [],
   "source": [
    "import requests\n",
    "from bs4 import BeautifulSoup\n",
    "import json\n",
    "\n",
    "import pandas as pd\n",
    "import numpy as np\n",
    "\n",
    "import matplotlib.pyplot as plt\n",
    "import seaborn as sns\n",
    "from matplotlib.patches import Arc\n",
    "from matplotlib.patches import Circle, Patch\n",
    "import matplotlib.image as mpimg\n",
    "from PIL import Image"
   ]
  },
  {
   "cell_type": "code",
   "execution_count": 2,
   "metadata": {},
   "outputs": [],
   "source": [
    "url = \"https://understat.com/player/843\"\n",
    "\n",
    "# Send an HTTP GET request to the URL\n",
    "response = requests.get(url)\n",
    "\n",
    "# Parse the HTML content using BeautifulSoup\n",
    "soup = BeautifulSoup(response.content, 'html.parser')"
   ]
  },
  {
   "cell_type": "code",
   "execution_count": 3,
   "metadata": {},
   "outputs": [
    {
     "name": "stdout",
     "output_type": "stream",
     "text": [
      "[{'id': '14494', 'minute': '39', 'result': 'SavedShot', 'X': '0.7390000152587891', 'Y': '0.6079999923706054', 'xG': '0.019021300598978996', 'player': 'James Ward-Prowse', 'h_a': 'a', 'player_id': '843', 'situation': 'OpenPlay', 'season': '2014', 'shotType': 'RightFoot', 'match_id': '4756', 'h_team': 'Liverpool', 'a_team': 'Southampton', 'h_goals': '2', 'a_goals': '1', 'date': '2014-08-17 13:30:00', 'player_assisted': 'José Fonte', 'lastAction': 'Pass'}, {'id': '14502', 'minute': '66', 'result': 'BlockedShot', 'X': '0.730999984741211', 'Y': '0.629000015258789', 'xG': '0.015140400268137455', 'player': 'James Ward-Prowse', 'h_a': 'a', 'player_id': '843', 'situation': 'OpenPlay', 'season': '2014', 'shotType': 'RightFoot', 'match_id': '4756', 'h_team': 'Liverpool', 'a_team': 'Southampton', 'h_goals': '2', 'a_goals': '1', 'date': '2014-08-17 13:30:00', 'player_assisted': 'José Fonte', 'lastAction': 'BallRecovery'}, {'id': '14507', 'minute': '85', 'result': 'SavedShot', 'X': '0.8919999694824219', 'Y': '0.69', 'xG': '0.05837570130825043', 'player': 'James Ward-Prowse', 'h_a': 'a', 'player_id': '843', 'situation': 'OpenPlay', 'season': '2014', 'shotType': 'RightFoot', 'match_id': '4756', 'h_team': 'Liverpool', 'a_team': 'Southampton', 'h_goals': '2', 'a_goals': '1', 'date': '2014-08-17 13:30:00', 'player_assisted': 'Graziano Pellè', 'lastAction': 'LayOff'}, {'id': '14810', 'minute': '69', 'result': 'ShotOnPost', 'X': '0.740999984741211', 'Y': '0.7469999694824219', 'xG': '0.03464389964938164', 'player': 'James Ward-Prowse', 'h_a': 'h', 'player_id': '843', 'situation': 'DirectFreekick', 'season': '2014', 'shotType': 'RightFoot', 'match_id': '4762', 'h_team': 'Southampton', 'a_team': 'West Bromwich Albion', 'h_goals': '0', 'a_goals': '0', 'date': '2014-08-23 15:00:00', 'player_assisted': None, 'lastAction': 'Standard'}, {'id': '15138', 'minute': '53', 'result': 'BlockedShot', 'X': '0.7119999694824218', 'Y': '0.27399999618530274', 'xG': '0.014640900306403637', 'player': 'James Ward-Prowse', 'h_a': 'a', 'player_id': '843', 'situation': 'OpenPlay', 'season': '2014', 'shotType': 'RightFoot', 'match_id': '4774', 'h_team': 'West Ham', 'a_team': 'Southampton', 'h_goals': '1', 'a_goals': '3', 'date': '2014-08-30 15:00:00', 'player_assisted': 'José Fonte', 'lastAction': 'Pass'}, {'id': '15140', 'minute': '58', 'result': 'BlockedShot', 'X': '0.6990000152587891', 'Y': '0.58', 'xG': '0.012015599757432938', 'player': 'James Ward-Prowse', 'h_a': 'a', 'player_id': '843', 'situation': 'OpenPlay', 'season': '2014', 'shotType': 'RightFoot', 'match_id': '4774', 'h_team': 'West Ham', 'a_team': 'Southampton', 'h_goals': '1', 'a_goals': '3', 'date': '2014-08-30 15:00:00', 'player_assisted': 'Morgan Schneiderlin', 'lastAction': 'Pass'}, {'id': '15341', 'minute': '80', 'result': 'MissedShots', 'X': '0.7830000305175782', 'Y': '0.6790000152587891', 'xG': '0.020660599693655968', 'player': 'James Ward-Prowse', 'h_a': 'h', 'player_id': '843', 'situation': 'OpenPlay', 'season': '2014', 'shotType': 'RightFoot', 'match_id': '4722', 'h_team': 'Southampton', 'a_team': 'Newcastle United', 'h_goals': '4', 'a_goals': '0', 'date': '2014-09-13 15:00:00', 'player_assisted': 'Victor Wanyama', 'lastAction': 'Pass'}, {'id': '17726', 'minute': '39', 'result': 'SavedShot', 'X': '0.7290000152587891', 'Y': '0.5329999923706055', 'xG': '0.014468500390648842', 'player': 'James Ward-Prowse', 'h_a': 'a', 'player_id': '843', 'situation': 'OpenPlay', 'season': '2014', 'shotType': 'LeftFoot', 'match_id': '4609', 'h_team': 'Burnley', 'a_team': 'Southampton', 'h_goals': '1', 'a_goals': '0', 'date': '2014-12-13 15:00:00', 'player_assisted': None, 'lastAction': 'None'}, {'id': '17735', 'minute': '80', 'result': 'MissedShots', 'X': '0.7340000152587891', 'Y': '0.36400001525878906', 'xG': '0.04518510028719902', 'player': 'James Ward-Prowse', 'h_a': 'a', 'player_id': '843', 'situation': 'DirectFreekick', 'season': '2014', 'shotType': 'RightFoot', 'match_id': '4609', 'h_team': 'Burnley', 'a_team': 'Southampton', 'h_goals': '1', 'a_goals': '0', 'date': '2014-12-13 15:00:00', 'player_assisted': None, 'lastAction': 'Standard'}, {'id': '17555', 'minute': '36', 'result': 'MissedShots', 'X': '0.8130000305175781', 'Y': '0.3770000076293945', 'xG': '0.05491049960255623', 'player': 'James Ward-Prowse', 'h_a': 'a', 'player_id': '843', 'situation': 'OpenPlay', 'season': '2014', 'shotType': 'RightFoot', 'match_id': '4635', 'h_team': 'Crystal Palace', 'a_team': 'Southampton', 'h_goals': '1', 'a_goals': '3', 'date': '2014-12-26 15:00:00', 'player_assisted': 'Sadio Mané', 'lastAction': 'Pass'}, {'id': '17558', 'minute': '41', 'result': 'MissedShots', 'X': '0.9280000305175782', 'Y': '0.49400001525878906', 'xG': '0.0955457016825676', 'player': 'James Ward-Prowse', 'h_a': 'a', 'player_id': '843', 'situation': 'OpenPlay', 'season': '2014', 'shotType': 'Head', 'match_id': '4635', 'h_team': 'Crystal Palace', 'a_team': 'Southampton', 'h_goals': '1', 'a_goals': '3', 'date': '2014-12-26 15:00:00', 'player_assisted': None, 'lastAction': 'None'}, {'id': '19927', 'minute': '39', 'result': 'SavedShot', 'X': '0.895', 'Y': '0.4470000076293945', 'xG': '0.39429599046707153', 'player': 'James Ward-Prowse', 'h_a': 'h', 'player_id': '843', 'situation': 'OpenPlay', 'season': '2014', 'shotType': 'LeftFoot', 'match_id': '4555', 'h_team': 'Southampton', 'a_team': 'Arsenal', 'h_goals': '2', 'a_goals': '0', 'date': '2015-01-01 15:00:00', 'player_assisted': 'Sadio Mané', 'lastAction': 'Pass'}, {'id': '19935', 'minute': '60', 'result': 'MissedShots', 'X': '0.89', 'Y': '0.5770000076293945', 'xG': '0.0989651009440422', 'player': 'James Ward-Prowse', 'h_a': 'h', 'player_id': '843', 'situation': 'OpenPlay', 'season': '2014', 'shotType': 'RightFoot', 'match_id': '4555', 'h_team': 'Southampton', 'a_team': 'Arsenal', 'h_goals': '2', 'a_goals': '0', 'date': '2015-01-01 15:00:00', 'player_assisted': None, 'lastAction': 'Rebound'}, {'id': '19939', 'minute': '69', 'result': 'SavedShot', 'X': '0.9169999694824219', 'Y': '0.5329999923706055', 'xG': '0.12137199938297272', 'player': 'James Ward-Prowse', 'h_a': 'h', 'player_id': '843', 'situation': 'OpenPlay', 'season': '2014', 'shotType': 'Head', 'match_id': '4555', 'h_team': 'Southampton', 'a_team': 'Arsenal', 'h_goals': '2', 'a_goals': '0', 'date': '2015-01-01 15:00:00', 'player_assisted': 'Dusan Tadic', 'lastAction': 'Cross'}, {'id': '23569', 'minute': '6', 'result': 'SavedShot', 'X': '0.9230000305175782', 'Y': '0.4779999923706055', 'xG': '0.3921769857406616', 'player': 'James Ward-Prowse', 'h_a': 'h', 'player_id': '843', 'situation': 'OpenPlay', 'season': '2014', 'shotType': 'RightFoot', 'match_id': '4514', 'h_team': 'Southampton', 'a_team': 'Swansea', 'h_goals': '0', 'a_goals': '1', 'date': '2015-02-01 16:00:00', 'player_assisted': 'Nathaniel Clyne', 'lastAction': 'Cross'}, {'id': '23578', 'minute': '59', 'result': 'SavedShot', 'X': '0.91', 'Y': '0.52', 'xG': '0.11409900337457657', 'player': 'James Ward-Prowse', 'h_a': 'h', 'player_id': '843', 'situation': 'OpenPlay', 'season': '2014', 'shotType': 'Head', 'match_id': '4514', 'h_team': 'Southampton', 'a_team': 'Swansea', 'h_goals': '0', 'a_goals': '1', 'date': '2015-02-01 16:00:00', 'player_assisted': 'Eljero Elia', 'lastAction': 'Cross'}, {'id': '23579', 'minute': '60', 'result': 'SavedShot', 'X': '0.7909999847412109', 'Y': '0.5279999923706055', 'xG': '0.04724929854273796', 'player': 'James Ward-Prowse', 'h_a': 'h', 'player_id': '843', 'situation': 'OpenPlay', 'season': '2014', 'shotType': 'RightFoot', 'match_id': '4514', 'h_team': 'Southampton', 'a_team': 'Swansea', 'h_goals': '0', 'a_goals': '1', 'date': '2015-02-01 16:00:00', 'player_assisted': 'Dusan Tadic', 'lastAction': 'LayOff'}, {'id': '23418', 'minute': '51', 'result': 'MissedShots', 'X': '0.8059999847412109', 'Y': '0.39599998474121095', 'xG': '0.1125129982829094', 'player': 'James Ward-Prowse', 'h_a': 'a', 'player_id': '843', 'situation': 'DirectFreekick', 'season': '2014', 'shotType': 'RightFoot', 'match_id': '4520', 'h_team': 'Queens Park Rangers', 'a_team': 'Southampton', 'h_goals': '0', 'a_goals': '1', 'date': '2015-02-07 15:00:00', 'player_assisted': None, 'lastAction': 'Standard'}, {'id': '23424', 'minute': '67', 'result': 'BlockedShot', 'X': '0.740999984741211', 'Y': '0.46099998474121096', 'xG': '0.020024200901389122', 'player': 'James Ward-Prowse', 'h_a': 'a', 'player_id': '843', 'situation': 'OpenPlay', 'season': '2014', 'shotType': 'LeftFoot', 'match_id': '4520', 'h_team': 'Queens Park Rangers', 'a_team': 'Southampton', 'h_goals': '0', 'a_goals': '1', 'date': '2015-02-07 15:00:00', 'player_assisted': 'Eljero Elia', 'lastAction': 'Pass'}, {'id': '24195', 'minute': '7', 'result': 'MissedShots', 'X': '0.7569999694824219', 'Y': '0.4', 'xG': '0.02395150065422058', 'player': 'James Ward-Prowse', 'h_a': 'h', 'player_id': '843', 'situation': 'OpenPlay', 'season': '2014', 'shotType': 'LeftFoot', 'match_id': '4544', 'h_team': 'Southampton', 'a_team': 'Liverpool', 'h_goals': '0', 'a_goals': '2', 'date': '2015-02-22 16:15:00', 'player_assisted': 'Graziano Pellè', 'lastAction': 'LayOff'}, {'id': '20456', 'minute': '81', 'result': 'SavedShot', 'X': '0.8159999847412109', 'Y': '0.5279999923706055', 'xG': '0.0693110004067421', 'player': 'James Ward-Prowse', 'h_a': 'h', 'player_id': '843', 'situation': 'OpenPlay', 'season': '2014', 'shotType': 'LeftFoot', 'match_id': '4484', 'h_team': 'Southampton', 'a_team': 'Crystal Palace', 'h_goals': '1', 'a_goals': '0', 'date': '2015-03-03 19:45:00', 'player_assisted': 'Sadio Mané', 'lastAction': 'TakeOn'}, {'id': '22387', 'minute': '86', 'result': 'BlockedShot', 'X': '0.860999984741211', 'Y': '0.49900001525878906', 'xG': '0.09775029867887497', 'player': 'James Ward-Prowse', 'h_a': 'a', 'player_id': '843', 'situation': 'OpenPlay', 'season': '2014', 'shotType': 'LeftFoot', 'match_id': '4499', 'h_team': 'Chelsea', 'a_team': 'Southampton', 'h_goals': '1', 'a_goals': '1', 'date': '2015-03-15 13:30:00', 'player_assisted': 'Filip Djuricic', 'lastAction': 'TakeOn'}, {'id': '21630', 'minute': '24', 'result': 'MissedShots', 'X': '0.775', 'Y': '0.445', 'xG': '0.08528690040111542', 'player': 'James Ward-Prowse', 'h_a': 'a', 'player_id': '843', 'situation': 'DirectFreekick', 'season': '2014', 'shotType': 'RightFoot', 'match_id': '4441', 'h_team': 'Everton', 'a_team': 'Southampton', 'h_goals': '1', 'a_goals': '0', 'date': '2015-04-04 15:00:00', 'player_assisted': None, 'lastAction': 'Standard'}, {'id': '21631', 'minute': '27', 'result': 'SavedShot', 'X': '0.7240000152587891', 'Y': '0.5279999923706055', 'xG': '0.018420599400997162', 'player': 'James Ward-Prowse', 'h_a': 'a', 'player_id': '843', 'situation': 'OpenPlay', 'season': '2014', 'shotType': 'RightFoot', 'match_id': '4441', 'h_team': 'Everton', 'a_team': 'Southampton', 'h_goals': '1', 'a_goals': '0', 'date': '2015-04-04 15:00:00', 'player_assisted': 'Ryan Bertrand', 'lastAction': 'Pass'}, {'id': '20775', 'minute': '55', 'result': 'Goal', 'X': '0.885', 'Y': '0.5', 'xG': '0.7611690163612366', 'player': 'James Ward-Prowse', 'h_a': 'h', 'player_id': '843', 'situation': 'Penalty', 'season': '2014', 'shotType': 'RightFoot', 'match_id': '4453', 'h_team': 'Southampton', 'a_team': 'Hull', 'h_goals': '2', 'a_goals': '0', 'date': '2015-04-11 15:00:00', 'player_assisted': None, 'lastAction': 'Standard'}, {'id': '21552', 'minute': '71', 'result': 'BlockedShot', 'X': '0.7969999694824219', 'Y': '0.6880000305175781', 'xG': '0.02618500031530857', 'player': 'James Ward-Prowse', 'h_a': 'a', 'player_id': '843', 'situation': 'OpenPlay', 'season': '2014', 'shotType': 'RightFoot', 'match_id': '4464', 'h_team': 'Stoke', 'a_team': 'Southampton', 'h_goals': '2', 'a_goals': '1', 'date': '2015-04-18 15:00:00', 'player_assisted': 'Morgan Schneiderlin', 'lastAction': 'Chipped'}, {'id': '22985', 'minute': '23', 'result': 'BlockedShot', 'X': '0.72', 'Y': '0.53', 'xG': '0.0157478004693985', 'player': 'James Ward-Prowse', 'h_a': 'h', 'player_id': '843', 'situation': 'OpenPlay', 'season': '2014', 'shotType': 'RightFoot', 'match_id': '4468', 'h_team': 'Southampton', 'a_team': 'Tottenham', 'h_goals': '2', 'a_goals': '2', 'date': '2015-04-25 12:45:00', 'player_assisted': 'Sadio Mané', 'lastAction': 'Pass'}, {'id': '20606', 'minute': '4', 'result': 'BlockedShot', 'X': '0.7480000305175781', 'Y': '0.37099998474121093', 'xG': '0.016632499173283577', 'player': 'James Ward-Prowse', 'h_a': 'h', 'player_id': '843', 'situation': 'OpenPlay', 'season': '2014', 'shotType': 'RightFoot', 'match_id': '4419', 'h_team': 'Southampton', 'a_team': 'Aston Villa', 'h_goals': '6', 'a_goals': '1', 'date': '2015-05-16 12:45:00', 'player_assisted': 'Graziano Pellè', 'lastAction': 'BallRecovery'}, {'id': '20613', 'minute': '17', 'result': 'SavedShot', 'X': '0.8859999847412109', 'Y': '0.32799999237060545', 'xG': '0.12519200146198273', 'player': 'James Ward-Prowse', 'h_a': 'h', 'player_id': '843', 'situation': 'OpenPlay', 'season': '2014', 'shotType': 'RightFoot', 'match_id': '4419', 'h_team': 'Southampton', 'a_team': 'Aston Villa', 'h_goals': '6', 'a_goals': '1', 'date': '2015-05-16 12:45:00', 'player_assisted': 'Nathaniel Clyne', 'lastAction': 'Throughball'}, {'id': '23023', 'minute': '71', 'result': 'BlockedShot', 'X': '0.7280000305175781', 'Y': '0.40200000762939453', 'xG': '0.01763859950006008', 'player': 'James Ward-Prowse', 'h_a': 'a', 'player_id': '843', 'situation': 'OpenPlay', 'season': '2014', 'shotType': 'RightFoot', 'match_id': '4437', 'h_team': 'Manchester City', 'a_team': 'Southampton', 'h_goals': '2', 'a_goals': '0', 'date': '2015-05-24 15:00:00', 'player_assisted': 'Graziano Pellè', 'lastAction': 'Pass'}, {'id': '57672', 'minute': '1', 'result': 'SavedShot', 'X': '0.735', 'Y': '0.5259999847412109', 'xG': '0.054307300597429276', 'player': 'James Ward-Prowse', 'h_a': 'h', 'player_id': '843', 'situation': 'DirectFreekick', 'season': '2015', 'shotType': 'RightFoot', 'match_id': '119', 'h_team': 'Southampton', 'a_team': 'Norwich', 'h_goals': '3', 'a_goals': '0', 'date': '2015-08-30 16:30:00', 'player_assisted': None, 'lastAction': 'Standard'}, {'id': '57697', 'minute': '80', 'result': 'MissedShots', 'X': '0.7519999694824219', 'Y': '0.6959999847412109', 'xG': '0.04466789960861206', 'player': 'James Ward-Prowse', 'h_a': 'h', 'player_id': '843', 'situation': 'DirectFreekick', 'season': '2015', 'shotType': 'RightFoot', 'match_id': '119', 'h_team': 'Southampton', 'a_team': 'Norwich', 'h_goals': '3', 'a_goals': '0', 'date': '2015-08-30 16:30:00', 'player_assisted': None, 'lastAction': 'Standard'}, {'id': '57999', 'minute': '36', 'result': 'BlockedShot', 'X': '0.7290000152587891', 'Y': '0.44400001525878907', 'xG': '0.01788710057735443', 'player': 'James Ward-Prowse', 'h_a': 'a', 'player_id': '843', 'situation': 'OpenPlay', 'season': '2015', 'shotType': 'RightFoot', 'match_id': '125', 'h_team': 'West Bromwich Albion', 'a_team': 'Southampton', 'h_goals': '0', 'a_goals': '0', 'date': '2015-09-12 18:00:00', 'player_assisted': 'Steven Davis', 'lastAction': 'Pass'}, {'id': '58007', 'minute': '63', 'result': 'MissedShots', 'X': '0.835', 'Y': '0.34200000762939453', 'xG': '0.03436319902539253', 'player': 'James Ward-Prowse', 'h_a': 'a', 'player_id': '843', 'situation': 'OpenPlay', 'season': '2015', 'shotType': 'RightFoot', 'match_id': '125', 'h_team': 'West Bromwich Albion', 'a_team': 'Southampton', 'h_goals': '0', 'a_goals': '0', 'date': '2015-09-12 18:00:00', 'player_assisted': 'Dusan Tadic', 'lastAction': 'Pass'}, {'id': '58008', 'minute': '66', 'result': 'MissedShots', 'X': '0.7719999694824219', 'Y': '0.46099998474121096', 'xG': '0.025884900242090225', 'player': 'James Ward-Prowse', 'h_a': 'a', 'player_id': '843', 'situation': 'OpenPlay', 'season': '2015', 'shotType': 'RightFoot', 'match_id': '125', 'h_team': 'West Bromwich Albion', 'a_team': 'Southampton', 'h_goals': '0', 'a_goals': '0', 'date': '2015-09-12 18:00:00', 'player_assisted': 'Graziano Pellè', 'lastAction': 'Pass'}, {'id': '58224', 'minute': '19', 'result': 'SavedShot', 'X': '0.8119999694824219', 'Y': '0.5479999923706055', 'xG': '0.06830289959907532', 'player': 'James Ward-Prowse', 'h_a': 'h', 'player_id': '843', 'situation': 'OpenPlay', 'season': '2015', 'shotType': 'RightFoot', 'match_id': '139', 'h_team': 'Southampton', 'a_team': 'Manchester United', 'h_goals': '2', 'a_goals': '3', 'date': '2015-09-20 19:00:00', 'player_assisted': 'Matt Targett', 'lastAction': 'Pass'}, {'id': '58705', 'minute': '48', 'result': 'MissedShots', 'X': '0.7859999847412109', 'Y': '0.45599998474121095', 'xG': '0.02712409943342209', 'player': 'James Ward-Prowse', 'h_a': 'a', 'player_id': '843', 'situation': 'OpenPlay', 'season': '2015', 'shotType': 'RightFoot', 'match_id': '157', 'h_team': 'Chelsea', 'a_team': 'Southampton', 'h_goals': '1', 'a_goals': '3', 'date': '2015-10-03 20:30:00', 'player_assisted': None, 'lastAction': 'Rebound'}, {'id': '58709', 'minute': '68', 'result': 'MissedShots', 'X': '0.715999984741211', 'Y': '0.57', 'xG': '0.010093100368976593', 'player': 'James Ward-Prowse', 'h_a': 'a', 'player_id': '843', 'situation': 'SetPiece', 'season': '2015', 'shotType': 'RightFoot', 'match_id': '157', 'h_team': 'Chelsea', 'a_team': 'Southampton', 'h_goals': '1', 'a_goals': '3', 'date': '2015-10-03 20:30:00', 'player_assisted': None, 'lastAction': 'None'}, {'id': '52763', 'minute': '26', 'result': 'BlockedShot', 'X': '0.8430000305175781', 'Y': '0.48200000762939454', 'xG': '0.0694516971707344', 'player': 'James Ward-Prowse', 'h_a': 'a', 'player_id': '843', 'situation': 'OpenPlay', 'season': '2015', 'shotType': 'LeftFoot', 'match_id': '196', 'h_team': 'Sunderland', 'a_team': 'Southampton', 'h_goals': '0', 'a_goals': '1', 'date': '2015-11-07 19:00:00', 'player_assisted': 'Graziano Pellè', 'lastAction': 'Pass'}, {'id': '52772', 'minute': '60', 'result': 'BlockedShot', 'X': '0.750999984741211', 'Y': '0.5940000152587891', 'xG': '0.019201699644327164', 'player': 'James Ward-Prowse', 'h_a': 'a', 'player_id': '843', 'situation': 'OpenPlay', 'season': '2015', 'shotType': 'LeftFoot', 'match_id': '196', 'h_team': 'Sunderland', 'a_team': 'Southampton', 'h_goals': '0', 'a_goals': '1', 'date': '2015-11-07 19:00:00', 'player_assisted': 'Sadio Mané', 'lastAction': 'Pass'}, {'id': '52776', 'minute': '83', 'result': 'MissedShots', 'X': '0.81', 'Y': '0.605999984741211', 'xG': '0.05733500048518181', 'player': 'James Ward-Prowse', 'h_a': 'a', 'player_id': '843', 'situation': 'OpenPlay', 'season': '2015', 'shotType': 'LeftFoot', 'match_id': '196', 'h_team': 'Sunderland', 'a_team': 'Southampton', 'h_goals': '0', 'a_goals': '1', 'date': '2015-11-07 19:00:00', 'player_assisted': 'Dusan Tadic', 'lastAction': 'Pass'}, {'id': '56204', 'minute': '28', 'result': 'MissedShots', 'X': '0.789000015258789', 'Y': '0.2720000076293945', 'xG': '0.05372120067477226', 'player': 'James Ward-Prowse', 'h_a': 'a', 'player_id': '843', 'situation': 'DirectFreekick', 'season': '2015', 'shotType': 'RightFoot', 'match_id': '215', 'h_team': 'Manchester City', 'a_team': 'Southampton', 'h_goals': '3', 'a_goals': '1', 'date': '2015-11-28 19:00:00', 'player_assisted': None, 'lastAction': 'Standard'}, {'id': '54764', 'minute': '26', 'result': 'SavedShot', 'X': '0.7669999694824219', 'Y': '0.43400001525878906', 'xG': '0.027876999229192734', 'player': 'James Ward-Prowse', 'h_a': 'h', 'player_id': '843', 'situation': 'OpenPlay', 'season': '2015', 'shotType': 'RightFoot', 'match_id': '227', 'h_team': 'Southampton', 'a_team': 'Aston Villa', 'h_goals': '1', 'a_goals': '1', 'date': '2015-12-05 19:00:00', 'player_assisted': 'Sadio Mané', 'lastAction': 'Pass'}, {'id': '54782', 'minute': '83', 'result': 'BlockedShot', 'X': '0.67', 'Y': '0.49900001525878906', 'xG': '0.011147799901664257', 'player': 'James Ward-Prowse', 'h_a': 'h', 'player_id': '843', 'situation': 'OpenPlay', 'season': '2015', 'shotType': 'RightFoot', 'match_id': '227', 'h_team': 'Southampton', 'a_team': 'Aston Villa', 'h_goals': '1', 'a_goals': '1', 'date': '2015-12-05 19:00:00', 'player_assisted': 'Juanmi', 'lastAction': 'Pass'}, {'id': '52410', 'minute': '91', 'result': 'SavedShot', 'X': '0.8869999694824219', 'Y': '0.44400001525878907', 'xG': '0.3138499855995178', 'player': 'James Ward-Prowse', 'h_a': 'h', 'player_id': '843', 'situation': 'OpenPlay', 'season': '2015', 'shotType': 'RightFoot', 'match_id': '242', 'h_team': 'Southampton', 'a_team': 'Tottenham', 'h_goals': '0', 'a_goals': '2', 'date': '2015-12-19 19:00:00', 'player_assisted': 'Ryan Bertrand', 'lastAction': 'Pass'}, {'id': '55160', 'minute': '24', 'result': 'MissedShots', 'X': '0.7819999694824219', 'Y': '0.43599998474121093', 'xG': '0.04672909900546074', 'player': 'James Ward-Prowse', 'h_a': 'h', 'player_id': '843', 'situation': 'OpenPlay', 'season': '2015', 'shotType': 'LeftFoot', 'match_id': '260', 'h_team': 'Southampton', 'a_team': 'Arsenal', 'h_goals': '4', 'a_goals': '0', 'date': '2015-12-26 23:45:00', 'player_assisted': None, 'lastAction': 'BallRecovery'}, {'id': '55161', 'minute': '26', 'result': 'MissedShots', 'X': '0.795', 'Y': '0.5929999923706055', 'xG': '0.047101300209760666', 'player': 'James Ward-Prowse', 'h_a': 'h', 'player_id': '843', 'situation': 'OpenPlay', 'season': '2015', 'shotType': 'RightFoot', 'match_id': '260', 'h_team': 'Southampton', 'a_team': 'Arsenal', 'h_goals': '4', 'a_goals': '0', 'date': '2015-12-26 23:45:00', 'player_assisted': 'Ryan Bertrand', 'lastAction': 'Pass'}, {'id': '55908', 'minute': '11', 'result': 'SavedShot', 'X': '0.8519999694824218', 'Y': '0.5659999847412109', 'xG': '0.08506549894809723', 'player': 'James Ward-Prowse', 'h_a': 'a', 'player_id': '843', 'situation': 'OpenPlay', 'season': '2015', 'shotType': 'LeftFoot', 'match_id': '276', 'h_team': 'Norwich', 'a_team': 'Southampton', 'h_goals': '1', 'a_goals': '0', 'date': '2016-01-02 19:00:00', 'player_assisted': 'Ryan Bertrand', 'lastAction': 'Pass'}, {'id': '52566', 'minute': '4', 'result': 'Goal', 'X': '0.75', 'Y': '0.72', 'xG': '0.04044799879193306', 'player': 'James Ward-Prowse', 'h_a': 'h', 'player_id': '843', 'situation': 'DirectFreekick', 'season': '2015', 'shotType': 'RightFoot', 'match_id': '294', 'h_team': 'Southampton', 'a_team': 'West Bromwich Albion', 'h_goals': '3', 'a_goals': '0', 'date': '2016-01-16 19:00:00', 'player_assisted': None, 'lastAction': 'Standard'}, {'id': '52572', 'minute': '34', 'result': 'Goal', 'X': '0.885', 'Y': '0.5', 'xG': '0.7611690163612366', 'player': 'James Ward-Prowse', 'h_a': 'h', 'player_id': '843', 'situation': 'Penalty', 'season': '2015', 'shotType': 'RightFoot', 'match_id': '294', 'h_team': 'Southampton', 'a_team': 'West Bromwich Albion', 'h_goals': '3', 'a_goals': '0', 'date': '2016-01-16 19:00:00', 'player_assisted': None, 'lastAction': 'Standard'}, {'id': '53209', 'minute': '71', 'result': 'BlockedShot', 'X': '0.7440000152587891', 'Y': '0.7190000152587891', 'xG': '0.011229099705815315', 'player': 'James Ward-Prowse', 'h_a': 'a', 'player_id': '843', 'situation': 'OpenPlay', 'season': '2015', 'shotType': 'RightFoot', 'match_id': '311', 'h_team': 'Arsenal', 'a_team': 'Southampton', 'h_goals': '0', 'a_goals': '0', 'date': '2016-02-02 23:45:00', 'player_assisted': None, 'lastAction': 'None'}, {'id': '56123', 'minute': '60', 'result': 'BlockedShot', 'X': '0.7530000305175781', 'Y': '0.3129999923706055', 'xG': '0.015181699767708778', 'player': 'James Ward-Prowse', 'h_a': 'a', 'player_id': '843', 'situation': 'OpenPlay', 'season': '2015', 'shotType': 'RightFoot', 'match_id': '332', 'h_team': 'Swansea', 'a_team': 'Southampton', 'h_goals': '0', 'a_goals': '1', 'date': '2016-02-13 19:00:00', 'player_assisted': 'Graziano Pellè', 'lastAction': 'Pass'}, {'id': '60165', 'minute': '68', 'result': 'BlockedShot', 'X': '0.76', 'Y': '0.48700000762939455', 'xG': '0.01856289990246296', 'player': 'James Ward-Prowse', 'h_a': 'h', 'player_id': '843', 'situation': 'OpenPlay', 'season': '2015', 'shotType': 'RightFoot', 'match_id': '360', 'h_team': 'Southampton', 'a_team': 'Sunderland', 'h_goals': '1', 'a_goals': '1', 'date': '2016-03-05 19:00:00', 'player_assisted': None, 'lastAction': 'Rebound'}, {'id': '60179', 'minute': '92', 'result': 'BlockedShot', 'X': '0.7290000152587891', 'Y': '0.415', 'xG': '0.014379399828612804', 'player': 'James Ward-Prowse', 'h_a': 'h', 'player_id': '843', 'situation': 'OpenPlay', 'season': '2015', 'shotType': 'RightFoot', 'match_id': '360', 'h_team': 'Southampton', 'a_team': 'Sunderland', 'h_goals': '1', 'a_goals': '1', 'date': '2016-03-05 19:00:00', 'player_assisted': None, 'lastAction': 'None'}, {'id': '59666', 'minute': '78', 'result': 'MissedShots', 'X': '0.7040000152587891', 'Y': '0.4979999923706055', 'xG': '0.0394895002245903', 'player': 'James Ward-Prowse', 'h_a': 'a', 'player_id': '843', 'situation': 'DirectFreekick', 'season': '2015', 'shotType': 'RightFoot', 'match_id': '370', 'h_team': 'Stoke', 'a_team': 'Southampton', 'h_goals': '1', 'a_goals': '2', 'date': '2016-03-12 19:00:00', 'player_assisted': None, 'lastAction': 'Standard'}, {'id': '59667', 'minute': '87', 'result': 'ShotOnPost', 'X': '0.754000015258789', 'Y': '0.5990000152587891', 'xG': '0.060650698840618134', 'player': 'James Ward-Prowse', 'h_a': 'a', 'player_id': '843', 'situation': 'DirectFreekick', 'season': '2015', 'shotType': 'RightFoot', 'match_id': '370', 'h_team': 'Stoke', 'a_team': 'Southampton', 'h_goals': '1', 'a_goals': '2', 'date': '2016-03-12 19:00:00', 'player_assisted': None, 'lastAction': 'Standard'}, {'id': '57338', 'minute': '83', 'result': 'BlockedShot', 'X': '0.7719999694824219', 'Y': '0.39799999237060546', 'xG': '0.040748000144958496', 'player': 'James Ward-Prowse', 'h_a': 'h', 'player_id': '843', 'situation': 'OpenPlay', 'season': '2015', 'shotType': 'RightFoot', 'match_id': '435', 'h_team': 'Southampton', 'a_team': 'Manchester City', 'h_goals': '4', 'a_goals': '2', 'date': '2016-05-01 19:30:00', 'player_assisted': 'Shane Long', 'lastAction': 'Pass'}, {'id': '56875', 'minute': '92', 'result': 'MissedShots', 'X': '0.8109999847412109', 'Y': '0.36700000762939455', 'xG': '0.04980450123548508', 'player': 'James Ward-Prowse', 'h_a': 'a', 'player_id': '843', 'situation': 'OpenPlay', 'season': '2015', 'shotType': 'RightFoot', 'match_id': '444', 'h_team': 'Tottenham', 'a_team': 'Southampton', 'h_goals': '1', 'a_goals': '2', 'date': '2016-05-08 16:30:00', 'player_assisted': 'Shane Long', 'lastAction': 'Pass'}, {'id': '112321', 'minute': '26', 'result': 'MissedShots', 'X': '0.76', 'Y': '0.7019999694824218', 'xG': '0.016915200278162956', 'player': 'James Ward-Prowse', 'h_a': 'h', 'player_id': '843', 'situation': 'FromCorner', 'season': '2016', 'shotType': 'RightFoot', 'match_id': '466', 'h_team': 'Southampton', 'a_team': 'Watford', 'h_goals': '1', 'a_goals': '1', 'date': '2016-08-13 18:00:00', 'player_assisted': 'Nathan Redmond', 'lastAction': 'Pass'}, {'id': '113070', 'minute': '83', 'result': 'BlockedShot', 'X': '0.8209999847412109', 'Y': '0.28299999237060547', 'xG': '0.07352180033922195', 'player': 'James Ward-Prowse', 'h_a': 'h', 'player_id': '843', 'situation': 'DirectFreekick', 'season': '2016', 'shotType': 'RightFoot', 'match_id': '484', 'h_team': 'Southampton', 'a_team': 'Sunderland', 'h_goals': '1', 'a_goals': '1', 'date': '2016-08-27 18:00:00', 'player_assisted': None, 'lastAction': 'Standard'}, {'id': '113976', 'minute': '85', 'result': 'SavedShot', 'X': '0.8580000305175781', 'Y': '0.3820000076293945', 'xG': '0.10159700363874435', 'player': 'James Ward-Prowse', 'h_a': 'a', 'player_id': '843', 'situation': 'OpenPlay', 'season': '2016', 'shotType': 'RightFoot', 'match_id': '519', 'h_team': 'West Ham', 'a_team': 'Southampton', 'h_goals': '0', 'a_goals': '3', 'date': '2016-09-25 19:00:00', 'player_assisted': 'Cédric Soares', 'lastAction': 'Pass'}, {'id': '113978', 'minute': '91', 'result': 'Goal', 'X': '0.925', 'Y': '0.534000015258789', 'xG': '0.5833050012588501', 'player': 'James Ward-Prowse', 'h_a': 'a', 'player_id': '843', 'situation': 'OpenPlay', 'season': '2016', 'shotType': 'LeftFoot', 'match_id': '519', 'h_team': 'West Ham', 'a_team': 'Southampton', 'h_goals': '0', 'a_goals': '3', 'date': '2016-09-25 19:00:00', 'player_assisted': None, 'lastAction': 'None'}, {'id': '114331', 'minute': '83', 'result': 'MissedShots', 'X': '0.8730000305175781', 'Y': '0.5070000076293946', 'xG': '0.08313640207052231', 'player': 'James Ward-Prowse', 'h_a': 'a', 'player_id': '843', 'situation': 'OpenPlay', 'season': '2016', 'shotType': 'LeftFoot', 'match_id': '528', 'h_team': 'Leicester', 'a_team': 'Southampton', 'h_goals': '0', 'a_goals': '0', 'date': '2016-10-02 17:15:00', 'player_assisted': None, 'lastAction': 'None'}, {'id': '114067', 'minute': '88', 'result': 'SavedShot', 'X': '0.8159999847412109', 'Y': '0.705999984741211', 'xG': '0.039855100214481354', 'player': 'James Ward-Prowse', 'h_a': 'h', 'player_id': '843', 'situation': 'OpenPlay', 'season': '2016', 'shotType': 'RightFoot', 'match_id': '539', 'h_team': 'Southampton', 'a_team': 'Burnley', 'h_goals': '3', 'a_goals': '1', 'date': '2016-10-16 19:00:00', 'player_assisted': 'Steven Davis', 'lastAction': 'Pass'}, {'id': '115581', 'minute': '79', 'result': 'MissedShots', 'X': '0.7880000305175782', 'Y': '0.8019999694824219', 'xG': '0.03823089972138405', 'player': 'James Ward-Prowse', 'h_a': 'a', 'player_id': '843', 'situation': 'DirectFreekick', 'season': '2016', 'shotType': 'RightFoot', 'match_id': '2694', 'h_team': 'Hull', 'a_team': 'Southampton', 'h_goals': '2', 'a_goals': '1', 'date': '2016-11-06 18:15:00', 'player_assisted': None, 'lastAction': 'Standard'}, {'id': '115350', 'minute': '77', 'result': 'MissedShots', 'X': '0.925', 'Y': '0.505', 'xG': '0.5683050155639648', 'player': 'James Ward-Prowse', 'h_a': 'h', 'player_id': '843', 'situation': 'OpenPlay', 'season': '2016', 'shotType': 'RightFoot', 'match_id': '2715', 'h_team': 'Southampton', 'a_team': 'Everton', 'h_goals': '1', 'a_goals': '0', 'date': '2016-11-27 20:30:00', 'player_assisted': 'Charlie Austin', 'lastAction': 'Pass'}, {'id': '115349', 'minute': '77', 'result': 'SavedShot', 'X': '0.730999984741211', 'Y': '0.4809999847412109', 'xG': '0.023487400263547897', 'player': 'James Ward-Prowse', 'h_a': 'h', 'player_id': '843', 'situation': 'OpenPlay', 'season': '2016', 'shotType': 'RightFoot', 'match_id': '2715', 'h_team': 'Southampton', 'a_team': 'Everton', 'h_goals': '1', 'a_goals': '0', 'date': '2016-11-27 20:30:00', 'player_assisted': None, 'lastAction': 'BallRecovery'}, {'id': '115351', 'minute': '79', 'result': 'BlockedShot', 'X': '0.935', 'Y': '0.59', 'xG': '0.3223620057106018', 'player': 'James Ward-Prowse', 'h_a': 'h', 'player_id': '843', 'situation': 'OpenPlay', 'season': '2016', 'shotType': 'RightFoot', 'match_id': '2715', 'h_team': 'Southampton', 'a_team': 'Everton', 'h_goals': '1', 'a_goals': '0', 'date': '2016-11-27 20:30:00', 'player_assisted': 'Cédric Soares', 'lastAction': 'Cross'}, {'id': '115355', 'minute': '89', 'result': 'BlockedShot', 'X': '0.840999984741211', 'Y': '0.41900001525878905', 'xG': '0.08864480257034302', 'player': 'James Ward-Prowse', 'h_a': 'h', 'player_id': '843', 'situation': 'OpenPlay', 'season': '2016', 'shotType': 'RightFoot', 'match_id': '2715', 'h_team': 'Southampton', 'a_team': 'Everton', 'h_goals': '1', 'a_goals': '0', 'date': '2016-11-27 20:30:00', 'player_assisted': 'Jordy Clasie', 'lastAction': 'Pass'}, {'id': '115526', 'minute': '60', 'result': 'BlockedShot', 'X': '0.825', 'Y': '0.5379999923706055', 'xG': '0.04180759936571121', 'player': 'James Ward-Prowse', 'h_a': 'a', 'player_id': '843', 'situation': 'OpenPlay', 'season': '2016', 'shotType': 'LeftFoot', 'match_id': '3106', 'h_team': 'Crystal Palace', 'a_team': 'Southampton', 'h_goals': '3', 'a_goals': '0', 'date': '2016-12-03 19:00:00', 'player_assisted': 'Ryan Bertrand', 'lastAction': 'BallTouch'}, {'id': '115534', 'minute': '76', 'result': 'MissedShots', 'X': '0.855', 'Y': '0.4209999847412109', 'xG': '0.031010299921035767', 'player': 'James Ward-Prowse', 'h_a': 'a', 'player_id': '843', 'situation': 'FromCorner', 'season': '2016', 'shotType': 'Head', 'match_id': '3106', 'h_team': 'Crystal Palace', 'a_team': 'Southampton', 'h_goals': '3', 'a_goals': '0', 'date': '2016-12-03 19:00:00', 'player_assisted': None, 'lastAction': 'None'}, {'id': '117230', 'minute': '32', 'result': 'MissedShots', 'X': '0.905', 'Y': '0.539000015258789', 'xG': '0.09587389975786209', 'player': 'James Ward-Prowse', 'h_a': 'h', 'player_id': '843', 'situation': 'OpenPlay', 'season': '2016', 'shotType': 'Head', 'match_id': '3123', 'h_team': 'Southampton', 'a_team': 'Middlesbrough', 'h_goals': '1', 'a_goals': '0', 'date': '2016-12-11 18:15:00', 'player_assisted': 'Dusan Tadic', 'lastAction': 'Cross'}, {'id': '118227', 'minute': '34', 'result': 'SavedShot', 'X': '0.740999984741211', 'Y': '0.524000015258789', 'xG': '0.058181699365377426', 'player': 'James Ward-Prowse', 'h_a': 'a', 'player_id': '843', 'situation': 'DirectFreekick', 'season': '2016', 'shotType': 'RightFoot', 'match_id': '3133', 'h_team': 'Stoke', 'a_team': 'Southampton', 'h_goals': '0', 'a_goals': '0', 'date': '2016-12-15 00:00:00', 'player_assisted': None, 'lastAction': 'Standard'}, {'id': '118237', 'minute': '79', 'result': 'BlockedShot', 'X': '0.885', 'Y': '0.5640000152587891', 'xG': '0.08003029972314835', 'player': 'James Ward-Prowse', 'h_a': 'a', 'player_id': '843', 'situation': 'FromCorner', 'season': '2016', 'shotType': 'LeftFoot', 'match_id': '3133', 'h_team': 'Stoke', 'a_team': 'Southampton', 'h_goals': '0', 'a_goals': '0', 'date': '2016-12-15 00:00:00', 'player_assisted': None, 'lastAction': 'None'}, {'id': '117183', 'minute': '39', 'result': 'SavedShot', 'X': '0.905', 'Y': '0.5879999923706055', 'xG': '0.04569369927048683', 'player': 'James Ward-Prowse', 'h_a': 'a', 'player_id': '843', 'situation': 'OpenPlay', 'season': '2016', 'shotType': 'Head', 'match_id': '3345', 'h_team': 'Burnley', 'a_team': 'Southampton', 'h_goals': '1', 'a_goals': '0', 'date': '2017-01-14 19:00:00', 'player_assisted': 'Shane Long', 'lastAction': 'Cross'}, {'id': '118629', 'minute': '25', 'result': 'Goal', 'X': '0.8430000305175781', 'Y': '0.3270000076293945', 'xG': '0.04480310156941414', 'player': 'James Ward-Prowse', 'h_a': 'h', 'player_id': '843', 'situation': 'OpenPlay', 'season': '2016', 'shotType': 'RightFoot', 'match_id': '3357', 'h_team': 'Southampton', 'a_team': 'Leicester', 'h_goals': '3', 'a_goals': '0', 'date': '2017-01-22 15:00:00', 'player_assisted': 'Cédric Soares', 'lastAction': 'Pass'}, {'id': '118638', 'minute': '60', 'result': 'MissedShots', 'X': '0.7830000305175782', 'Y': '0.455', 'xG': '0.043262798339128494', 'player': 'James Ward-Prowse', 'h_a': 'h', 'player_id': '843', 'situation': 'OpenPlay', 'season': '2016', 'shotType': 'RightFoot', 'match_id': '3357', 'h_team': 'Southampton', 'a_team': 'Leicester', 'h_goals': '3', 'a_goals': '0', 'date': '2017-01-22 15:00:00', 'player_assisted': 'Nathan Redmond', 'lastAction': 'Pass'}, {'id': '116942', 'minute': '2', 'result': 'SavedShot', 'X': '0.8040000152587891', 'Y': '0.5220000076293946', 'xG': '0.017806099727749825', 'player': 'James Ward-Prowse', 'h_a': 'h', 'player_id': '843', 'situation': 'OpenPlay', 'season': '2016', 'shotType': 'RightFoot', 'match_id': '3376', 'h_team': 'Southampton', 'a_team': 'West Ham', 'h_goals': '1', 'a_goals': '3', 'date': '2017-02-04 15:00:00', 'player_assisted': None, 'lastAction': 'Aerial'}, {'id': '116950', 'minute': '45', 'result': 'SavedShot', 'X': '0.8480000305175781', 'Y': '0.3509999847412109', 'xG': '0.05242060124874115', 'player': 'James Ward-Prowse', 'h_a': 'h', 'player_id': '843', 'situation': 'OpenPlay', 'season': '2016', 'shotType': 'RightFoot', 'match_id': '3376', 'h_team': 'Southampton', 'a_team': 'West Ham', 'h_goals': '1', 'a_goals': '3', 'date': '2017-02-04 15:00:00', 'player_assisted': 'Oriol Romeu', 'lastAction': 'Pass'}, {'id': '116951', 'minute': '47', 'result': 'SavedShot', 'X': '0.8640000152587891', 'Y': '0.845', 'xG': '0.04546229913830757', 'player': 'James Ward-Prowse', 'h_a': 'h', 'player_id': '843', 'situation': 'DirectFreekick', 'season': '2016', 'shotType': 'RightFoot', 'match_id': '3376', 'h_team': 'Southampton', 'a_team': 'West Ham', 'h_goals': '1', 'a_goals': '3', 'date': '2017-02-04 15:00:00', 'player_assisted': None, 'lastAction': 'Standard'}, {'id': '116956', 'minute': '69', 'result': 'SavedShot', 'X': '0.9080000305175782', 'Y': '0.555', 'xG': '0.054201699793338776', 'player': 'James Ward-Prowse', 'h_a': 'h', 'player_id': '843', 'situation': 'OpenPlay', 'season': '2016', 'shotType': 'Head', 'match_id': '3376', 'h_team': 'Southampton', 'a_team': 'West Ham', 'h_goals': '1', 'a_goals': '3', 'date': '2017-02-04 15:00:00', 'player_assisted': 'Cédric Soares', 'lastAction': 'Aerial'}, {'id': '116964', 'minute': '88', 'result': 'MissedShots', 'X': '0.7440000152587891', 'Y': '0.33599998474121096', 'xG': '0.04605479910969734', 'player': 'James Ward-Prowse', 'h_a': 'h', 'player_id': '843', 'situation': 'DirectFreekick', 'season': '2016', 'shotType': 'RightFoot', 'match_id': '3376', 'h_team': 'Southampton', 'a_team': 'West Ham', 'h_goals': '1', 'a_goals': '3', 'date': '2017-02-04 15:00:00', 'player_assisted': None, 'lastAction': 'Standard'}, {'id': '118022', 'minute': '69', 'result': 'MissedShots', 'X': '0.7190000152587891', 'Y': '0.45', 'xG': '0.022403599694371223', 'player': 'James Ward-Prowse', 'h_a': 'a', 'player_id': '843', 'situation': 'OpenPlay', 'season': '2016', 'shotType': 'RightFoot', 'match_id': '3384', 'h_team': 'Sunderland', 'a_team': 'Southampton', 'h_goals': '0', 'a_goals': '4', 'date': '2017-02-11 15:00:00', 'player_assisted': 'Nathan Redmond', 'lastAction': 'Pass'}, {'id': '118024', 'minute': '71', 'result': 'MissedShots', 'X': '0.9059999847412109', 'Y': '0.4620000076293945', 'xG': '0.3217810094356537', 'player': 'James Ward-Prowse', 'h_a': 'a', 'player_id': '843', 'situation': 'OpenPlay', 'season': '2016', 'shotType': 'Head', 'match_id': '3384', 'h_team': 'Sunderland', 'a_team': 'Southampton', 'h_goals': '0', 'a_goals': '4', 'date': '2017-02-11 15:00:00', 'player_assisted': 'Nathan Redmond', 'lastAction': 'Cross'}, {'id': '120077', 'minute': '12', 'result': 'BlockedShot', 'X': '0.8209999847412109', 'Y': '0.43900001525878907', 'xG': '0.04118259996175766', 'player': 'James Ward-Prowse', 'h_a': 'a', 'player_id': '843', 'situation': 'FromCorner', 'season': '2016', 'shotType': 'RightFoot', 'match_id': '3407', 'h_team': 'Watford', 'a_team': 'Southampton', 'h_goals': '3', 'a_goals': '4', 'date': '2017-03-04 15:00:00', 'player_assisted': 'Dusan Tadic', 'lastAction': 'Pass'}, {'id': '120076', 'minute': '12', 'result': 'SavedShot', 'X': '0.909000015258789', 'Y': '0.325', 'xG': '0.06397479772567749', 'player': 'James Ward-Prowse', 'h_a': 'a', 'player_id': '843', 'situation': 'OpenPlay', 'season': '2016', 'shotType': 'RightFoot', 'match_id': '3407', 'h_team': 'Watford', 'a_team': 'Southampton', 'h_goals': '3', 'a_goals': '4', 'date': '2017-03-04 15:00:00', 'player_assisted': 'Dusan Tadic', 'lastAction': 'Pass'}, {'id': '120087', 'minute': '36', 'result': 'MissedShots', 'X': '0.7519999694824219', 'Y': '0.7730000305175782', 'xG': '0.034206099808216095', 'player': 'James Ward-Prowse', 'h_a': 'a', 'player_id': '843', 'situation': 'DirectFreekick', 'season': '2016', 'shotType': 'RightFoot', 'match_id': '3407', 'h_team': 'Watford', 'a_team': 'Southampton', 'h_goals': '3', 'a_goals': '4', 'date': '2017-03-04 15:00:00', 'player_assisted': None, 'lastAction': 'Standard'}, {'id': '120422', 'minute': '51', 'result': 'Goal', 'X': '0.925', 'Y': '0.43900001525878907', 'xG': '0.08741720020771027', 'player': 'James Ward-Prowse', 'h_a': 'a', 'player_id': '843', 'situation': 'OpenPlay', 'season': '2016', 'shotType': 'LeftFoot', 'match_id': '3422', 'h_team': 'Tottenham', 'a_team': 'Southampton', 'h_goals': '2', 'a_goals': '1', 'date': '2017-03-19 14:15:00', 'player_assisted': 'Ryan Bertrand', 'lastAction': 'Cross'}, {'id': '119662', 'minute': '61', 'result': 'MissedShots', 'X': '0.8569999694824219', 'Y': '0.27399999618530274', 'xG': '0.023220600560307503', 'player': 'James Ward-Prowse', 'h_a': 'h', 'player_id': '843', 'situation': 'OpenPlay', 'season': '2016', 'shotType': 'RightFoot', 'match_id': '3437', 'h_team': 'Southampton', 'a_team': 'Bournemouth', 'h_goals': '0', 'a_goals': '0', 'date': '2017-04-01 17:30:00', 'player_assisted': None, 'lastAction': 'Rebound'}, {'id': '119503', 'minute': '33', 'result': 'MissedShots', 'X': '0.91', 'Y': '0.25799999237060545', 'xG': '0.03341339901089668', 'player': 'James Ward-Prowse', 'h_a': 'h', 'player_id': '843', 'situation': 'OpenPlay', 'season': '2016', 'shotType': 'RightFoot', 'match_id': '3447', 'h_team': 'Southampton', 'a_team': 'Crystal Palace', 'h_goals': '3', 'a_goals': '1', 'date': '2017-04-05 19:45:00', 'player_assisted': 'Dusan Tadic', 'lastAction': 'Pass'}, {'id': '119508', 'minute': '49', 'result': 'BlockedShot', 'X': '0.9130000305175782', 'Y': '0.4159999847412109', 'xG': '0.12336400151252747', 'player': 'James Ward-Prowse', 'h_a': 'h', 'player_id': '843', 'situation': 'OpenPlay', 'season': '2016', 'shotType': 'RightFoot', 'match_id': '3447', 'h_team': 'Southampton', 'a_team': 'Crystal Palace', 'h_goals': '3', 'a_goals': '1', 'date': '2017-04-05 19:45:00', 'player_assisted': 'Nathan Redmond', 'lastAction': 'Pass'}, {'id': '119531', 'minute': '84', 'result': 'Goal', 'X': '0.9180000305175782', 'Y': '0.47299999237060547', 'xG': '0.4933130145072937', 'player': 'James Ward-Prowse', 'h_a': 'h', 'player_id': '843', 'situation': 'OpenPlay', 'season': '2016', 'shotType': 'RightFoot', 'match_id': '3447', 'h_team': 'Southampton', 'a_team': 'Crystal Palace', 'h_goals': '3', 'a_goals': '1', 'date': '2017-04-05 19:45:00', 'player_assisted': 'Cédric Soares', 'lastAction': 'Pass'}, {'id': '121310', 'minute': '51', 'result': 'MissedShots', 'X': '0.7819999694824219', 'Y': '0.765', 'xG': '0.043161001056432724', 'player': 'James Ward-Prowse', 'h_a': 'h', 'player_id': '843', 'situation': 'DirectFreekick', 'season': '2016', 'shotType': 'RightFoot', 'match_id': '3462', 'h_team': 'Southampton', 'a_team': 'Manchester City', 'h_goals': '0', 'a_goals': '3', 'date': '2017-04-15 17:30:00', 'player_assisted': None, 'lastAction': 'Standard'}, {'id': '120735', 'minute': '40', 'result': 'BlockedShot', 'X': '0.7759999847412109', 'Y': '0.5609999847412109', 'xG': '0.08547540009021759', 'player': 'James Ward-Prowse', 'h_a': 'a', 'player_id': '843', 'situation': 'DirectFreekick', 'season': '2016', 'shotType': 'RightFoot', 'match_id': '3473', 'h_team': 'Chelsea', 'a_team': 'Southampton', 'h_goals': '4', 'a_goals': '2', 'date': '2017-04-25 19:45:00', 'player_assisted': None, 'lastAction': 'Standard'}, {'id': '118695', 'minute': '68', 'result': 'MissedShots', 'X': '0.9480000305175781', 'Y': '0.47', 'xG': '0.4077329933643341', 'player': 'James Ward-Prowse', 'h_a': 'h', 'player_id': '843', 'situation': 'OpenPlay', 'season': '2016', 'shotType': 'Head', 'match_id': '3390', 'h_team': 'Southampton', 'a_team': 'Arsenal', 'h_goals': '0', 'a_goals': '2', 'date': '2017-05-10 19:45:00', 'player_assisted': 'Ryan Bertrand', 'lastAction': 'Aerial'}, {'id': '119627', 'minute': '18', 'result': 'MissedShots', 'X': '0.7609999847412109', 'Y': '0.6459999847412109', 'xG': '0.057424500584602356', 'player': 'James Ward-Prowse', 'h_a': 'h', 'player_id': '843', 'situation': 'DirectFreekick', 'season': '2016', 'shotType': 'RightFoot', 'match_id': '3412', 'h_team': 'Southampton', 'a_team': 'Manchester United', 'h_goals': '0', 'a_goals': '0', 'date': '2017-05-17 19:45:00', 'player_assisted': None, 'lastAction': 'Standard'}, {'id': '119641', 'minute': '58', 'result': 'SavedShot', 'X': '0.774000015258789', 'Y': '0.5420000076293945', 'xG': '0.029117699712514877', 'player': 'James Ward-Prowse', 'h_a': 'h', 'player_id': '843', 'situation': 'OpenPlay', 'season': '2016', 'shotType': 'RightFoot', 'match_id': '3412', 'h_team': 'Southampton', 'a_team': 'Manchester United', 'h_goals': '0', 'a_goals': '0', 'date': '2017-05-17 19:45:00', 'player_assisted': None, 'lastAction': 'None'}, {'id': '119644', 'minute': '70', 'result': 'BlockedShot', 'X': '0.889000015258789', 'Y': '0.40099998474121096', 'xG': '0.07240030169487', 'player': 'James Ward-Prowse', 'h_a': 'h', 'player_id': '843', 'situation': 'OpenPlay', 'season': '2016', 'shotType': 'RightFoot', 'match_id': '3412', 'h_team': 'Southampton', 'a_team': 'Manchester United', 'h_goals': '0', 'a_goals': '0', 'date': '2017-05-17 19:45:00', 'player_assisted': 'Nathan Redmond', 'lastAction': 'Cross'}, {'id': '112552', 'minute': '19', 'result': 'BlockedShot', 'X': '0.7809999847412109', 'Y': '0.27899999618530275', 'xG': '0.019673099741339684', 'player': 'James Ward-Prowse', 'h_a': 'h', 'player_id': '843', 'situation': 'OpenPlay', 'season': '2016', 'shotType': 'RightFoot', 'match_id': '3517', 'h_team': 'Southampton', 'a_team': 'Stoke', 'h_goals': '0', 'a_goals': '1', 'date': '2017-05-21 15:00:00', 'player_assisted': 'Oriol Romeu', 'lastAction': 'Pass'}, {'id': '112566', 'minute': '72', 'result': 'SavedShot', 'X': '0.9059999847412109', 'Y': '0.5770000076293945', 'xG': '0.09051889926195145', 'player': 'James Ward-Prowse', 'h_a': 'h', 'player_id': '843', 'situation': 'OpenPlay', 'season': '2016', 'shotType': 'RightFoot', 'match_id': '3517', 'h_team': 'Southampton', 'a_team': 'Stoke', 'h_goals': '0', 'a_goals': '1', 'date': '2017-05-21 15:00:00', 'player_assisted': None, 'lastAction': 'Rebound'}, {'id': '158317', 'minute': '19', 'result': 'BlockedShot', 'X': '0.89', 'Y': '0.5359999847412109', 'xG': '0.12201599776744843', 'player': 'James Ward-Prowse', 'h_a': 'h', 'player_id': '843', 'situation': 'OpenPlay', 'season': '2017', 'shotType': 'LeftFoot', 'match_id': '7122', 'h_team': 'Southampton', 'a_team': 'Swansea', 'h_goals': '0', 'a_goals': '0', 'date': '2017-08-12 15:00:00', 'player_assisted': 'Nathan Redmond', 'lastAction': 'Pass'}, {'id': '158318', 'minute': '20', 'result': 'MissedShots', 'X': '0.924000015258789', 'Y': '0.4809999847412109', 'xG': '0.13214999437332153', 'player': 'James Ward-Prowse', 'h_a': 'h', 'player_id': '843', 'situation': 'OpenPlay', 'season': '2017', 'shotType': 'Head', 'match_id': '7122', 'h_team': 'Southampton', 'a_team': 'Swansea', 'h_goals': '0', 'a_goals': '0', 'date': '2017-08-12 15:00:00', 'player_assisted': 'Nathan Redmond', 'lastAction': 'Cross'}, {'id': '158321', 'minute': '24', 'result': 'SavedShot', 'X': '0.7619999694824219', 'Y': '0.525', 'xG': '0.02582640014588833', 'player': 'James Ward-Prowse', 'h_a': 'h', 'player_id': '843', 'situation': 'OpenPlay', 'season': '2017', 'shotType': 'RightFoot', 'match_id': '7122', 'h_team': 'Southampton', 'a_team': 'Swansea', 'h_goals': '0', 'a_goals': '0', 'date': '2017-08-12 15:00:00', 'player_assisted': 'Steven Davis', 'lastAction': 'Pass'}, {'id': '158322', 'minute': '34', 'result': 'BlockedShot', 'X': '0.845999984741211', 'Y': '0.5479999923706055', 'xG': '0.09047289937734604', 'player': 'James Ward-Prowse', 'h_a': 'h', 'player_id': '843', 'situation': 'OpenPlay', 'season': '2017', 'shotType': 'LeftFoot', 'match_id': '7122', 'h_team': 'Southampton', 'a_team': 'Swansea', 'h_goals': '0', 'a_goals': '0', 'date': '2017-08-12 15:00:00', 'player_assisted': 'Oriol Romeu', 'lastAction': 'Pass'}, {'id': '159838', 'minute': '5', 'result': 'ShotOnPost', 'X': '0.740999984741211', 'Y': '0.615', 'xG': '0.05092319846153259', 'player': 'James Ward-Prowse', 'h_a': 'a', 'player_id': '843', 'situation': 'DirectFreekick', 'season': '2017', 'shotType': 'RightFoot', 'match_id': '7211', 'h_team': 'Brighton', 'a_team': 'Southampton', 'h_goals': '1', 'a_goals': '1', 'date': '2017-10-29 13:30:00', 'player_assisted': None, 'lastAction': 'Standard'}, {'id': '161526', 'minute': '49', 'result': 'BlockedShot', 'X': '0.779000015258789', 'Y': '0.7469999694824219', 'xG': '0.013433399610221386', 'player': 'James Ward-Prowse', 'h_a': 'h', 'player_id': '843', 'situation': 'OpenPlay', 'season': '2017', 'shotType': 'RightFoot', 'match_id': '7241', 'h_team': 'Southampton', 'a_team': 'Everton', 'h_goals': '4', 'a_goals': '1', 'date': '2017-11-26 13:30:00', 'player_assisted': None, 'lastAction': 'None'}, {'id': '183022', 'minute': '83', 'result': 'MissedShots', 'X': '0.795', 'Y': '0.655', 'xG': '0.0180612001568079', 'player': 'James Ward-Prowse', 'h_a': 'h', 'player_id': '843', 'situation': 'OpenPlay', 'season': '2017', 'shotType': 'LeftFoot', 'match_id': '7285', 'h_team': 'Southampton', 'a_team': 'Leicester', 'h_goals': '1', 'a_goals': '4', 'date': '2017-12-13 19:45:00', 'player_assisted': None, 'lastAction': 'None'}, {'id': '183218', 'minute': '8', 'result': 'BlockedShot', 'X': '0.7959999847412109', 'Y': '0.39099998474121095', 'xG': '0.03597019985318184', 'player': 'James Ward-Prowse', 'h_a': 'a', 'player_id': '843', 'situation': 'OpenPlay', 'season': '2017', 'shotType': 'RightFoot', 'match_id': '7292', 'h_team': 'Chelsea', 'a_team': 'Southampton', 'h_goals': '1', 'a_goals': '0', 'date': '2017-12-16 15:00:00', 'player_assisted': 'Pierre-Emile Højbjerg', 'lastAction': 'Pass'}, {'id': '183188', 'minute': '83', 'result': 'SavedShot', 'X': '0.7290000152587891', 'Y': '0.45799999237060546', 'xG': '0.020662199705839157', 'player': 'James Ward-Prowse', 'h_a': 'h', 'player_id': '843', 'situation': 'OpenPlay', 'season': '2017', 'shotType': 'RightFoot', 'match_id': '7307', 'h_team': 'Southampton', 'a_team': 'Huddersfield', 'h_goals': '1', 'a_goals': '1', 'date': '2017-12-23 15:00:00', 'player_assisted': 'Nathan Redmond', 'lastAction': 'Pass'}, {'id': '186136', 'minute': '6', 'result': 'SavedShot', 'X': '0.865', 'Y': '0.5179999923706055', 'xG': '0.07826829701662064', 'player': 'James Ward-Prowse', 'h_a': 'a', 'player_id': '843', 'situation': 'OpenPlay', 'season': '2017', 'shotType': 'LeftFoot', 'match_id': '7324', 'h_team': 'Manchester United', 'a_team': 'Southampton', 'h_goals': '0', 'a_goals': '0', 'date': '2017-12-30 17:30:00', 'player_assisted': None, 'lastAction': 'None'}, {'id': '186137', 'minute': '18', 'result': 'SavedShot', 'X': '0.8619999694824219', 'Y': '0.8159999847412109', 'xG': '0.05311359837651253', 'player': 'James Ward-Prowse', 'h_a': 'a', 'player_id': '843', 'situation': 'DirectFreekick', 'season': '2017', 'shotType': 'RightFoot', 'match_id': '7324', 'h_team': 'Manchester United', 'a_team': 'Southampton', 'h_goals': '0', 'a_goals': '0', 'date': '2017-12-30 17:30:00', 'player_assisted': None, 'lastAction': 'Standard'}, {'id': '187443', 'minute': '19', 'result': 'Goal', 'X': '0.865999984741211', 'Y': '0.37900001525878907', 'xG': '0.061387598514556885', 'player': 'James Ward-Prowse', 'h_a': 'a', 'player_id': '843', 'situation': 'OpenPlay', 'season': '2017', 'shotType': 'RightFoot', 'match_id': '7347', 'h_team': 'Watford', 'a_team': 'Southampton', 'h_goals': '2', 'a_goals': '2', 'date': '2018-01-13 15:00:00', 'player_assisted': None, 'lastAction': 'None'}, {'id': '187446', 'minute': '28', 'result': 'MissedShots', 'X': '0.4879999923706055', 'Y': '0.39799999237060546', 'xG': '0.007152399979531765', 'player': 'James Ward-Prowse', 'h_a': 'a', 'player_id': '843', 'situation': 'OpenPlay', 'season': '2017', 'shotType': 'RightFoot', 'match_id': '7347', 'h_team': 'Watford', 'a_team': 'Southampton', 'h_goals': '2', 'a_goals': '2', 'date': '2018-01-13 15:00:00', 'player_assisted': 'Pierre-Emile Højbjerg', 'lastAction': 'Pass'}, {'id': '187451', 'minute': '43', 'result': 'Goal', 'X': '0.89', 'Y': '0.39799999237060546', 'xG': '0.4653970003128052', 'player': 'James Ward-Prowse', 'h_a': 'a', 'player_id': '843', 'situation': 'OpenPlay', 'season': '2017', 'shotType': 'RightFoot', 'match_id': '7347', 'h_team': 'Watford', 'a_team': 'Southampton', 'h_goals': '2', 'a_goals': '2', 'date': '2018-01-13 15:00:00', 'player_assisted': 'Dusan Tadic', 'lastAction': 'Pass'}, {'id': '189355', 'minute': '7', 'result': 'MissedShots', 'X': '0.71', 'Y': '0.539000015258789', 'xG': '0.016418300569057465', 'player': 'James Ward-Prowse', 'h_a': 'h', 'player_id': '843', 'situation': 'OpenPlay', 'season': '2017', 'shotType': 'RightFoot', 'match_id': '7355', 'h_team': 'Southampton', 'a_team': 'Tottenham', 'h_goals': '1', 'a_goals': '1', 'date': '2018-01-21 16:00:00', 'player_assisted': 'Oriol Romeu', 'lastAction': 'Pass'}, {'id': '189368', 'minute': '48', 'result': 'SavedShot', 'X': '0.745999984741211', 'Y': '0.43900001525878907', 'xG': '0.021611299365758896', 'player': 'James Ward-Prowse', 'h_a': 'h', 'player_id': '843', 'situation': 'OpenPlay', 'season': '2017', 'shotType': 'RightFoot', 'match_id': '7355', 'h_team': 'Southampton', 'a_team': 'Tottenham', 'h_goals': '1', 'a_goals': '1', 'date': '2018-01-21 16:00:00', 'player_assisted': 'Pierre-Emile Højbjerg', 'lastAction': 'Pass'}, {'id': '194206', 'minute': '44', 'result': 'BlockedShot', 'X': '0.845', 'Y': '0.534000015258789', 'xG': '0.0762844979763031', 'player': 'James Ward-Prowse', 'h_a': 'h', 'player_id': '843', 'situation': 'OpenPlay', 'season': '2017', 'shotType': 'RightFoot', 'match_id': '7363', 'h_team': 'Southampton', 'a_team': 'Brighton', 'h_goals': '1', 'a_goals': '1', 'date': '2018-01-31 19:45:00', 'player_assisted': 'Dusan Tadic', 'lastAction': 'Pass'}, {'id': '194214', 'minute': '71', 'result': 'BlockedShot', 'X': '0.7819999694824219', 'Y': '0.5770000076293945', 'xG': '0.03280710056424141', 'player': 'James Ward-Prowse', 'h_a': 'h', 'player_id': '843', 'situation': 'OpenPlay', 'season': '2017', 'shotType': 'RightFoot', 'match_id': '7363', 'h_team': 'Southampton', 'a_team': 'Brighton', 'h_goals': '1', 'a_goals': '1', 'date': '2018-01-31 19:45:00', 'player_assisted': 'Steven Davis', 'lastAction': 'Pass'}, {'id': '194215', 'minute': '72', 'result': 'BlockedShot', 'X': '0.8069999694824219', 'Y': '0.519000015258789', 'xG': '0.14321200549602509', 'player': 'James Ward-Prowse', 'h_a': 'h', 'player_id': '843', 'situation': 'DirectFreekick', 'season': '2017', 'shotType': 'RightFoot', 'match_id': '7363', 'h_team': 'Southampton', 'a_team': 'Brighton', 'h_goals': '1', 'a_goals': '1', 'date': '2018-01-31 19:45:00', 'player_assisted': None, 'lastAction': 'Standard'}, {'id': '193813', 'minute': '54', 'result': 'Goal', 'X': '0.8090000152587891', 'Y': '0.5359999847412109', 'xG': '0.14451999962329865', 'player': 'James Ward-Prowse', 'h_a': 'a', 'player_id': '843', 'situation': 'DirectFreekick', 'season': '2017', 'shotType': 'RightFoot', 'match_id': '7378', 'h_team': 'West Bromwich Albion', 'a_team': 'Southampton', 'h_goals': '2', 'a_goals': '3', 'date': '2018-02-03 15:00:00', 'player_assisted': None, 'lastAction': 'Standard'}, {'id': '193815', 'minute': '68', 'result': 'MissedShots', 'X': '0.7390000152587891', 'Y': '0.5709999847412109', 'xG': '0.05420929938554764', 'player': 'James Ward-Prowse', 'h_a': 'a', 'player_id': '843', 'situation': 'DirectFreekick', 'season': '2017', 'shotType': 'RightFoot', 'match_id': '7378', 'h_team': 'West Bromwich Albion', 'a_team': 'Southampton', 'h_goals': '2', 'a_goals': '3', 'date': '2018-02-03 15:00:00', 'player_assisted': None, 'lastAction': 'Standard'}, {'id': '193947', 'minute': '28', 'result': 'SavedShot', 'X': '0.935', 'Y': '0.40799999237060547', 'xG': '0.0628046989440918', 'player': 'James Ward-Prowse', 'h_a': 'h', 'player_id': '843', 'situation': 'OpenPlay', 'season': '2017', 'shotType': 'Head', 'match_id': '7384', 'h_team': 'Southampton', 'a_team': 'Liverpool', 'h_goals': '0', 'a_goals': '2', 'date': '2018-02-11 16:30:00', 'player_assisted': 'Dusan Tadic', 'lastAction': 'Cross'}, {'id': '193949', 'minute': '39', 'result': 'SavedShot', 'X': '0.9030000305175782', 'Y': '0.38799999237060545', 'xG': '0.029538899660110474', 'player': 'James Ward-Prowse', 'h_a': 'h', 'player_id': '843', 'situation': 'OpenPlay', 'season': '2017', 'shotType': 'Head', 'match_id': '7384', 'h_team': 'Southampton', 'a_team': 'Liverpool', 'h_goals': '0', 'a_goals': '2', 'date': '2018-02-11 16:30:00', 'player_assisted': 'Ryan Bertrand', 'lastAction': 'Cross'}, {'id': '206869', 'minute': '7', 'result': 'BlockedShot', 'X': '0.9', 'Y': '0.5790000152587891', 'xG': '0.37874099612236023', 'player': 'James Ward-Prowse', 'h_a': 'a', 'player_id': '843', 'situation': 'OpenPlay', 'season': '2017', 'shotType': 'LeftFoot', 'match_id': '7439', 'h_team': 'Arsenal', 'a_team': 'Southampton', 'h_goals': '3', 'a_goals': '2', 'date': '2018-04-08 13:15:00', 'player_assisted': 'Dusan Tadic', 'lastAction': 'Pass'}, {'id': '206879', 'minute': '42', 'result': 'MissedShots', 'X': '0.7730000305175782', 'Y': '0.5370000076293945', 'xG': '0.028768600896000862', 'player': 'James Ward-Prowse', 'h_a': 'a', 'player_id': '843', 'situation': 'OpenPlay', 'season': '2017', 'shotType': 'RightFoot', 'match_id': '7439', 'h_team': 'Arsenal', 'a_team': 'Southampton', 'h_goals': '3', 'a_goals': '2', 'date': '2018-04-08 13:15:00', 'player_assisted': 'Pierre-Emile Højbjerg', 'lastAction': 'BallRecovery'}, {'id': '209332', 'minute': '37', 'result': 'SavedShot', 'X': '0.784000015258789', 'Y': '0.485', 'xG': '0.049019500613212585', 'player': 'James Ward-Prowse', 'h_a': 'h', 'player_id': '843', 'situation': 'OpenPlay', 'season': '2017', 'shotType': 'RightFoot', 'match_id': '7455', 'h_team': 'Southampton', 'a_team': 'Chelsea', 'h_goals': '2', 'a_goals': '3', 'date': '2018-04-14 11:30:00', 'player_assisted': None, 'lastAction': 'None'}, {'id': '213488', 'minute': '83', 'result': 'SavedShot', 'X': '0.7709999847412109', 'Y': '0.24899999618530275', 'xG': '0.04228689894080162', 'player': 'James Ward-Prowse', 'h_a': 'a', 'player_id': '843', 'situation': 'DirectFreekick', 'season': '2017', 'shotType': 'RightFoot', 'match_id': '7486', 'h_team': 'Everton', 'a_team': 'Southampton', 'h_goals': '1', 'a_goals': '1', 'date': '2018-05-05 17:30:00', 'player_assisted': None, 'lastAction': 'Standard'}, {'id': '215563', 'minute': '69', 'result': 'SavedShot', 'X': '0.915', 'Y': '0.47200000762939454', 'xG': '0.05866819992661476', 'player': 'James Ward-Prowse', 'h_a': 'h', 'player_id': '843', 'situation': 'OpenPlay', 'season': '2017', 'shotType': 'Head', 'match_id': '7498', 'h_team': 'Southampton', 'a_team': 'Manchester City', 'h_goals': '0', 'a_goals': '1', 'date': '2018-05-13 15:00:00', 'player_assisted': None, 'lastAction': 'Aerial'}, {'id': '233080', 'minute': '78', 'result': 'SavedShot', 'X': '0.889000015258789', 'Y': '0.82', 'xG': '0.05757720023393631', 'player': 'James Ward-Prowse', 'h_a': 'a', 'player_id': '843', 'situation': 'DirectFreekick', 'season': '2018', 'shotType': 'RightFoot', 'match_id': '9211', 'h_team': 'Everton', 'a_team': 'Southampton', 'h_goals': '2', 'a_goals': '1', 'date': '2018-08-18 17:00:00', 'player_assisted': None, 'lastAction': 'Standard'}, {'id': '249933', 'minute': '48', 'result': 'SavedShot', 'X': '0.845', 'Y': '0.3029999923706055', 'xG': '0.03818659856915474', 'player': 'James Ward-Prowse', 'h_a': 'a', 'player_id': '843', 'situation': 'OpenPlay', 'season': '2018', 'shotType': 'RightFoot', 'match_id': '9300', 'h_team': 'Manchester City', 'a_team': 'Southampton', 'h_goals': '6', 'a_goals': '1', 'date': '2018-11-04 15:00:00', 'player_assisted': 'Cédric Soares', 'lastAction': 'Pass'}, {'id': '250993', 'minute': '67', 'result': 'BlockedShot', 'X': '0.9030000305175782', 'Y': '0.605999984741211', 'xG': '0.10344400256872177', 'player': 'James Ward-Prowse', 'h_a': 'a', 'player_id': '843', 'situation': 'OpenPlay', 'season': '2018', 'shotType': 'LeftFoot', 'match_id': '9346', 'h_team': 'Tottenham', 'a_team': 'Southampton', 'h_goals': '3', 'a_goals': '1', 'date': '2018-12-05 20:00:00', 'player_assisted': 'Steven Davis', 'lastAction': 'Pass'}, {'id': '250994', 'minute': '69', 'result': 'BlockedShot', 'X': '0.7959999847412109', 'Y': '0.6819999694824219', 'xG': '0.021794600412249565', 'player': 'James Ward-Prowse', 'h_a': 'a', 'player_id': '843', 'situation': 'OpenPlay', 'season': '2018', 'shotType': 'RightFoot', 'match_id': '9346', 'h_team': 'Tottenham', 'a_team': 'Southampton', 'h_goals': '3', 'a_goals': '1', 'date': '2018-12-05 20:00:00', 'player_assisted': None, 'lastAction': 'Dispossessed'}, {'id': '250998', 'minute': '74', 'result': 'SavedShot', 'X': '0.919000015258789', 'Y': '0.48700000762939455', 'xG': '0.4039120078086853', 'player': 'James Ward-Prowse', 'h_a': 'a', 'player_id': '843', 'situation': 'OpenPlay', 'season': '2018', 'shotType': 'LeftFoot', 'match_id': '9346', 'h_team': 'Tottenham', 'a_team': 'Southampton', 'h_goals': '3', 'a_goals': '1', 'date': '2018-12-05 20:00:00', 'player_assisted': None, 'lastAction': 'Rebound'}, {'id': '263760', 'minute': '44', 'result': 'OwnGoal', 'X': '0.06300000190734863', 'Y': '0.34', 'xG': '0', 'player': 'James Ward-Prowse', 'h_a': 'h', 'player_id': '843', 'situation': 'OpenPlay', 'season': '2018', 'shotType': 'RightFoot', 'match_id': '9389', 'h_team': 'Southampton', 'a_team': 'Manchester City', 'h_goals': '1', 'a_goals': '3', 'date': '2018-12-30 14:15:00', 'player_assisted': None, 'lastAction': 'Interception'}, {'id': '274298', 'minute': '10', 'result': 'MissedShots', 'X': '0.7169999694824218', 'Y': '0.66', 'xG': '0.01318180002272129', 'player': 'James Ward-Prowse', 'h_a': 'a', 'player_id': '843', 'situation': 'OpenPlay', 'season': '2018', 'shotType': 'RightFoot', 'match_id': '9403', 'h_team': 'Chelsea', 'a_team': 'Southampton', 'h_goals': '0', 'a_goals': '0', 'date': '2019-01-02 19:45:00', 'player_assisted': 'Stuart Armstrong', 'lastAction': 'Pass'}, {'id': '274313', 'minute': '62', 'result': 'BlockedShot', 'X': '0.7930000305175782', 'Y': '0.6930000305175781', 'xG': '0.06523700058460236', 'player': 'James Ward-Prowse', 'h_a': 'a', 'player_id': '843', 'situation': 'DirectFreekick', 'season': '2018', 'shotType': 'RightFoot', 'match_id': '9403', 'h_team': 'Chelsea', 'a_team': 'Southampton', 'h_goals': '0', 'a_goals': '0', 'date': '2019-01-02 19:45:00', 'player_assisted': None, 'lastAction': 'Standard'}, {'id': '274481', 'minute': '10', 'result': 'Goal', 'X': '0.885', 'Y': '0.5', 'xG': '0.7611690163612366', 'player': 'James Ward-Prowse', 'h_a': 'a', 'player_id': '843', 'situation': 'Penalty', 'season': '2018', 'shotType': 'RightFoot', 'match_id': '9410', 'h_team': 'Leicester', 'a_team': 'Southampton', 'h_goals': '1', 'a_goals': '2', 'date': '2019-01-12 15:00:00', 'player_assisted': None, 'lastAction': 'Standard'}, {'id': '274724', 'minute': '1', 'result': 'MissedShots', 'X': '0.9719999694824218', 'Y': '0.38799999237060545', 'xG': '0.07827959954738617', 'player': 'James Ward-Prowse', 'h_a': 'h', 'player_id': '843', 'situation': 'OpenPlay', 'season': '2018', 'shotType': 'LeftFoot', 'match_id': '9419', 'h_team': 'Southampton', 'a_team': 'Everton', 'h_goals': '2', 'a_goals': '1', 'date': '2019-01-19 15:00:00', 'player_assisted': 'Danny Ings', 'lastAction': 'Chipped'}, {'id': '274725', 'minute': '5', 'result': 'BlockedShot', 'X': '0.8780000305175781', 'Y': '0.5970000076293945', 'xG': '0.10159900039434433', 'player': 'James Ward-Prowse', 'h_a': 'h', 'player_id': '843', 'situation': 'OpenPlay', 'season': '2018', 'shotType': 'LeftFoot', 'match_id': '9419', 'h_team': 'Southampton', 'a_team': 'Everton', 'h_goals': '2', 'a_goals': '1', 'date': '2019-01-19 15:00:00', 'player_assisted': 'Matt Targett', 'lastAction': 'Pass'}, {'id': '274733', 'minute': '49', 'result': 'Goal', 'X': '0.755', 'Y': '0.5059999847412109', 'xG': '0.012226499617099762', 'player': 'James Ward-Prowse', 'h_a': 'h', 'player_id': '843', 'situation': 'OpenPlay', 'season': '2018', 'shotType': 'RightFoot', 'match_id': '9419', 'h_team': 'Southampton', 'a_team': 'Everton', 'h_goals': '2', 'a_goals': '1', 'date': '2019-01-19 15:00:00', 'player_assisted': None, 'lastAction': 'Aerial'}, {'id': '275072', 'minute': '76', 'result': 'Goal', 'X': '0.9219999694824219', 'Y': '0.3970000076293945', 'xG': '0.3661099970340729', 'player': 'James Ward-Prowse', 'h_a': 'h', 'player_id': '843', 'situation': 'OpenPlay', 'season': '2018', 'shotType': 'RightFoot', 'match_id': '9433', 'h_team': 'Southampton', 'a_team': 'Crystal Palace', 'h_goals': '1', 'a_goals': '1', 'date': '2019-01-30 19:45:00', 'player_assisted': 'Matt Targett', 'lastAction': 'Pass'}, {'id': '275189', 'minute': '53', 'result': 'SavedShot', 'X': '0.8880000305175781', 'Y': '0.47299999237060547', 'xG': '0.06476230174303055', 'player': 'James Ward-Prowse', 'h_a': 'a', 'player_id': '843', 'situation': 'OpenPlay', 'season': '2018', 'shotType': 'Head', 'match_id': '9445', 'h_team': 'Burnley', 'a_team': 'Southampton', 'h_goals': '1', 'a_goals': '1', 'date': '2019-02-02 15:00:00', 'player_assisted': 'Matt Targett', 'lastAction': 'Cross'}, {'id': '275480', 'minute': '84', 'result': 'SavedShot', 'X': '0.71', 'Y': '0.3370000076293945', 'xG': '0.03445670008659363', 'player': 'James Ward-Prowse', 'h_a': 'h', 'player_id': '843', 'situation': 'DirectFreekick', 'season': '2018', 'shotType': 'RightFoot', 'match_id': '9453', 'h_team': 'Southampton', 'a_team': 'Cardiff', 'h_goals': '1', 'a_goals': '2', 'date': '2019-02-09 15:00:00', 'player_assisted': None, 'lastAction': 'Standard'}, {'id': '275854', 'minute': '51', 'result': 'MissedShots', 'X': '0.815', 'Y': '0.5359999847412109', 'xG': '0.05131649971008301', 'player': 'James Ward-Prowse', 'h_a': 'a', 'player_id': '843', 'situation': 'OpenPlay', 'season': '2018', 'shotType': 'RightFoot', 'match_id': '9466', 'h_team': 'Arsenal', 'a_team': 'Southampton', 'h_goals': '2', 'a_goals': '0', 'date': '2019-02-24 14:05:00', 'player_assisted': None, 'lastAction': 'BallRecovery'}, {'id': '275858', 'minute': '75', 'result': 'BlockedShot', 'X': '0.8969999694824219', 'Y': '0.40200000762939453', 'xG': '0.05145379900932312', 'player': 'James Ward-Prowse', 'h_a': 'a', 'player_id': '843', 'situation': 'OpenPlay', 'season': '2018', 'shotType': 'RightFoot', 'match_id': '9466', 'h_team': 'Arsenal', 'a_team': 'Southampton', 'h_goals': '2', 'a_goals': '0', 'date': '2019-02-24 14:05:00', 'player_assisted': 'Pierre-Emile Højbjerg', 'lastAction': 'Cross'}, {'id': '276002', 'minute': '40', 'result': 'Goal', 'X': '0.9119999694824219', 'Y': '0.445', 'xG': '0.42350101470947266', 'player': 'James Ward-Prowse', 'h_a': 'h', 'player_id': '843', 'situation': 'OpenPlay', 'season': '2018', 'shotType': 'RightFoot', 'match_id': '9472', 'h_team': 'Southampton', 'a_team': 'Fulham', 'h_goals': '2', 'a_goals': '0', 'date': '2019-02-27 19:45:00', 'player_assisted': None, 'lastAction': 'Rebound'}, {'id': '276007', 'minute': '47', 'result': 'BlockedShot', 'X': '0.85', 'Y': '0.34900001525878904', 'xG': '0.07911030203104019', 'player': 'James Ward-Prowse', 'h_a': 'h', 'player_id': '843', 'situation': 'OpenPlay', 'season': '2018', 'shotType': 'RightFoot', 'match_id': '9472', 'h_team': 'Southampton', 'a_team': 'Fulham', 'h_goals': '2', 'a_goals': '0', 'date': '2019-02-27 19:45:00', 'player_assisted': 'Nathan Redmond', 'lastAction': 'Pass'}, {'id': '276012', 'minute': '72', 'result': 'SavedShot', 'X': '0.879000015258789', 'Y': '0.610999984741211', 'xG': '0.08874980360269547', 'player': 'James Ward-Prowse', 'h_a': 'h', 'player_id': '843', 'situation': 'OpenPlay', 'season': '2018', 'shotType': 'RightFoot', 'match_id': '9472', 'h_team': 'Southampton', 'a_team': 'Fulham', 'h_goals': '2', 'a_goals': '0', 'date': '2019-02-27 19:45:00', 'player_assisted': 'Shane Long', 'lastAction': 'HeadPass'}, {'id': '276180', 'minute': '74', 'result': 'Goal', 'X': '0.779000015258789', 'Y': '0.6120000076293945', 'xG': '0.07775980234146118', 'player': 'James Ward-Prowse', 'h_a': 'a', 'player_id': '843', 'situation': 'DirectFreekick', 'season': '2018', 'shotType': 'RightFoot', 'match_id': '9481', 'h_team': 'Manchester United', 'a_team': 'Southampton', 'h_goals': '3', 'a_goals': '2', 'date': '2019-03-02 15:00:00', 'player_assisted': None, 'lastAction': 'Standard'}, {'id': '284511', 'minute': '25', 'result': 'BlockedShot', 'X': '0.7609999847412109', 'Y': '0.4909999847412109', 'xG': '0.02691509947180748', 'player': 'James Ward-Prowse', 'h_a': 'h', 'player_id': '843', 'situation': 'OpenPlay', 'season': '2018', 'shotType': 'RightFoot', 'match_id': '9487', 'h_team': 'Southampton', 'a_team': 'Tottenham', 'h_goals': '2', 'a_goals': '1', 'date': '2019-03-09 15:00:00', 'player_assisted': 'Oriol Romeu', 'lastAction': 'Pass'}, {'id': '284529', 'minute': '80', 'result': 'Goal', 'X': '0.765', 'Y': '0.500999984741211', 'xG': '0.07835149765014648', 'player': 'James Ward-Prowse', 'h_a': 'h', 'player_id': '843', 'situation': 'DirectFreekick', 'season': '2018', 'shotType': 'RightFoot', 'match_id': '9487', 'h_team': 'Southampton', 'a_team': 'Tottenham', 'h_goals': '2', 'a_goals': '1', 'date': '2019-03-09 15:00:00', 'player_assisted': None, 'lastAction': 'Standard'}, {'id': '291751', 'minute': '79', 'result': 'BlockedShot', 'X': '0.7559999847412109', 'Y': '0.3820000076293945', 'xG': '0.025032900273799896', 'player': 'James Ward-Prowse', 'h_a': 'h', 'player_id': '843', 'situation': 'FromCorner', 'season': '2018', 'shotType': 'LeftFoot', 'match_id': '9520', 'h_team': 'Southampton', 'a_team': 'Liverpool', 'h_goals': '1', 'a_goals': '3', 'date': '2019-04-05 20:00:00', 'player_assisted': None, 'lastAction': 'TakeOn'}, {'id': '295442', 'minute': '21', 'result': 'BlockedShot', 'X': '0.8580000305175781', 'Y': '0.42900001525878906', 'xG': '0.09457360208034515', 'player': 'James Ward-Prowse', 'h_a': 'a', 'player_id': '843', 'situation': 'OpenPlay', 'season': '2018', 'shotType': 'RightFoot', 'match_id': '9539', 'h_team': 'Newcastle United', 'a_team': 'Southampton', 'h_goals': '3', 'a_goals': '1', 'date': '2019-04-20 17:30:00', 'player_assisted': 'Nathan Redmond', 'lastAction': 'Pass'}, {'id': '295445', 'minute': '32', 'result': 'BlockedShot', 'X': '0.8959999847412109', 'Y': '0.3509999847412109', 'xG': '0.051198601722717285', 'player': 'James Ward-Prowse', 'h_a': 'a', 'player_id': '843', 'situation': 'OpenPlay', 'season': '2018', 'shotType': 'RightFoot', 'match_id': '9539', 'h_team': 'Newcastle United', 'a_team': 'Southampton', 'h_goals': '3', 'a_goals': '1', 'date': '2019-04-20 17:30:00', 'player_assisted': None, 'lastAction': 'None'}, {'id': '295450', 'minute': '52', 'result': 'SavedShot', 'X': '0.735999984741211', 'Y': '0.534000015258789', 'xG': '0.05463910102844238', 'player': 'James Ward-Prowse', 'h_a': 'a', 'player_id': '843', 'situation': 'DirectFreekick', 'season': '2018', 'shotType': 'RightFoot', 'match_id': '9539', 'h_team': 'Newcastle United', 'a_team': 'Southampton', 'h_goals': '3', 'a_goals': '1', 'date': '2019-04-20 17:30:00', 'player_assisted': None, 'lastAction': 'Standard'}, {'id': '296519', 'minute': '77', 'result': 'SavedShot', 'X': '0.8909999847412109', 'Y': '0.8140000152587891', 'xG': '0.06009810045361519', 'player': 'James Ward-Prowse', 'h_a': 'a', 'player_id': '843', 'situation': 'DirectFreekick', 'season': '2018', 'shotType': 'RightFoot', 'match_id': '9499', 'h_team': 'Watford', 'a_team': 'Southampton', 'h_goals': '1', 'a_goals': '1', 'date': '2019-04-23 19:45:00', 'player_assisted': None, 'lastAction': 'Standard'}, {'id': '297393', 'minute': '2', 'result': 'BlockedShot', 'X': '0.75', 'Y': '0.5920000076293945', 'xG': '0.02140429988503456', 'player': 'James Ward-Prowse', 'h_a': 'h', 'player_id': '843', 'situation': 'FromCorner', 'season': '2018', 'shotType': 'RightFoot', 'match_id': '9549', 'h_team': 'Southampton', 'a_team': 'Bournemouth', 'h_goals': '3', 'a_goals': '3', 'date': '2019-04-27 15:00:00', 'player_assisted': None, 'lastAction': 'Rebound'}, {'id': '297407', 'minute': '54', 'result': 'Goal', 'X': '0.785', 'Y': '0.435', 'xG': '0.033907901495695114', 'player': 'James Ward-Prowse', 'h_a': 'h', 'player_id': '843', 'situation': 'OpenPlay', 'season': '2018', 'shotType': 'LeftFoot', 'match_id': '9549', 'h_team': 'Southampton', 'a_team': 'Bournemouth', 'h_goals': '3', 'a_goals': '3', 'date': '2019-04-27 15:00:00', 'player_assisted': 'Pierre-Emile Højbjerg', 'lastAction': 'Pass'}, {'id': '301417', 'minute': '20', 'result': 'BlockedShot', 'X': '0.7830000305175782', 'Y': '0.6329999923706054', 'xG': '0.045819900929927826', 'player': 'James Ward-Prowse', 'h_a': 'h', 'player_id': '843', 'situation': 'OpenPlay', 'season': '2018', 'shotType': 'RightFoot', 'match_id': '9569', 'h_team': 'Southampton', 'a_team': 'Huddersfield', 'h_goals': '1', 'a_goals': '1', 'date': '2019-05-12 14:00:00', 'player_assisted': 'Nathan Redmond', 'lastAction': 'Pass'}, {'id': '301422', 'minute': '46', 'result': 'SavedShot', 'X': '0.715', 'Y': '0.46700000762939453', 'xG': '0.016212299466133118', 'player': 'James Ward-Prowse', 'h_a': 'h', 'player_id': '843', 'situation': 'OpenPlay', 'season': '2018', 'shotType': 'RightFoot', 'match_id': '9569', 'h_team': 'Southampton', 'a_team': 'Huddersfield', 'h_goals': '1', 'a_goals': '1', 'date': '2019-05-12 14:00:00', 'player_assisted': 'Danny Ings', 'lastAction': 'Pass'}, {'id': '309963', 'minute': '12', 'result': 'SavedShot', 'X': '0.7380000305175781', 'Y': '0.44599998474121094', 'xG': '0.017030300572514534', 'player': 'James Ward-Prowse', 'h_a': 'a', 'player_id': '843', 'situation': 'OpenPlay', 'season': '2019', 'shotType': 'RightFoot', 'match_id': '11646', 'h_team': 'Burnley', 'a_team': 'Southampton', 'h_goals': '3', 'a_goals': '0', 'date': '2019-08-10 15:00:00', 'player_assisted': None, 'lastAction': 'None'}, {'id': '309964', 'minute': '20', 'result': 'BlockedShot', 'X': '0.8069999694824219', 'Y': '0.48400001525878905', 'xG': '0.04709719866514206', 'player': 'James Ward-Prowse', 'h_a': 'a', 'player_id': '843', 'situation': 'OpenPlay', 'season': '2019', 'shotType': 'RightFoot', 'match_id': '11646', 'h_team': 'Burnley', 'a_team': 'Southampton', 'h_goals': '3', 'a_goals': '0', 'date': '2019-08-10 15:00:00', 'player_assisted': None, 'lastAction': 'None'}, {'id': '312519', 'minute': '45', 'result': 'MissedShots', 'X': '0.7340000152587891', 'Y': '0.37', 'xG': '0.04583989828824997', 'player': 'James Ward-Prowse', 'h_a': 'a', 'player_id': '843', 'situation': 'DirectFreekick', 'season': '2019', 'shotType': 'RightFoot', 'match_id': '11666', 'h_team': 'Brighton', 'a_team': 'Southampton', 'h_goals': '0', 'a_goals': '2', 'date': '2019-08-24 15:00:00', 'player_assisted': None, 'lastAction': 'Standard'}, {'id': '312537', 'minute': '94', 'result': 'MissedShots', 'X': '0.769000015258789', 'Y': '0.3940000152587891', 'xG': '0.07050400227308273', 'player': 'James Ward-Prowse', 'h_a': 'a', 'player_id': '843', 'situation': 'DirectFreekick', 'season': '2019', 'shotType': 'RightFoot', 'match_id': '11666', 'h_team': 'Brighton', 'a_team': 'Southampton', 'h_goals': '0', 'a_goals': '2', 'date': '2019-08-24 15:00:00', 'player_assisted': None, 'lastAction': 'Standard'}, {'id': '320097', 'minute': '5', 'result': 'MissedShots', 'X': '0.885', 'Y': '0.575', 'xG': '0.08218040317296982', 'player': 'James Ward-Prowse', 'h_a': 'h', 'player_id': '843', 'situation': 'OpenPlay', 'season': '2019', 'shotType': 'RightFoot', 'match_id': '11693', 'h_team': 'Southampton', 'a_team': 'Bournemouth', 'h_goals': '1', 'a_goals': '3', 'date': '2019-09-20 19:00:00', 'player_assisted': 'Cédric Soares', 'lastAction': 'Cross'}, {'id': '320102', 'minute': '27', 'result': 'MissedShots', 'X': '0.7980000305175782', 'Y': '0.32799999237060545', 'xG': '0.025243299081921577', 'player': 'James Ward-Prowse', 'h_a': 'h', 'player_id': '843', 'situation': 'OpenPlay', 'season': '2019', 'shotType': 'RightFoot', 'match_id': '11693', 'h_team': 'Southampton', 'a_team': 'Bournemouth', 'h_goals': '1', 'a_goals': '3', 'date': '2019-09-20 19:00:00', 'player_assisted': 'Oriol Romeu', 'lastAction': 'BallRecovery'}, {'id': '320111', 'minute': '48', 'result': 'MissedShots', 'X': '0.875999984741211', 'Y': '0.4420000076293945', 'xG': '0.06270910054445267', 'player': 'James Ward-Prowse', 'h_a': 'h', 'player_id': '843', 'situation': 'OpenPlay', 'season': '2019', 'shotType': 'RightFoot', 'match_id': '11693', 'h_team': 'Southampton', 'a_team': 'Bournemouth', 'h_goals': '1', 'a_goals': '3', 'date': '2019-09-20 19:00:00', 'player_assisted': 'Cédric Soares', 'lastAction': 'Cross'}, {'id': '320112', 'minute': '52', 'result': 'Goal', 'X': '0.885', 'Y': '0.5', 'xG': '0.7611690163612366', 'player': 'James Ward-Prowse', 'h_a': 'h', 'player_id': '843', 'situation': 'Penalty', 'season': '2019', 'shotType': 'RightFoot', 'match_id': '11693', 'h_team': 'Southampton', 'a_team': 'Bournemouth', 'h_goals': '1', 'a_goals': '3', 'date': '2019-09-20 19:00:00', 'player_assisted': None, 'lastAction': 'Standard'}, {'id': '320114', 'minute': '60', 'result': 'MissedShots', 'X': '0.7780000305175782', 'Y': '0.4779999923706055', 'xG': '0.025046100839972496', 'player': 'James Ward-Prowse', 'h_a': 'h', 'player_id': '843', 'situation': 'OpenPlay', 'season': '2019', 'shotType': 'RightFoot', 'match_id': '11693', 'h_team': 'Southampton', 'a_team': 'Bournemouth', 'h_goals': '1', 'a_goals': '3', 'date': '2019-09-20 19:00:00', 'player_assisted': 'Che Adams', 'lastAction': 'Pass'}, {'id': '320116', 'minute': '68', 'result': 'MissedShots', 'X': '0.750999984741211', 'Y': '0.61', 'xG': '0.018102699890732765', 'player': 'James Ward-Prowse', 'h_a': 'h', 'player_id': '843', 'situation': 'OpenPlay', 'season': '2019', 'shotType': 'RightFoot', 'match_id': '11693', 'h_team': 'Southampton', 'a_team': 'Bournemouth', 'h_goals': '1', 'a_goals': '3', 'date': '2019-09-20 19:00:00', 'player_assisted': 'Sofiane Boufal', 'lastAction': 'Pass'}, {'id': '320119', 'minute': '81', 'result': 'MissedShots', 'X': '0.895', 'Y': '0.41200000762939454', 'xG': '0.09666349738836288', 'player': 'James Ward-Prowse', 'h_a': 'h', 'player_id': '843', 'situation': 'OpenPlay', 'season': '2019', 'shotType': 'RightFoot', 'match_id': '11693', 'h_team': 'Southampton', 'a_team': 'Bournemouth', 'h_goals': '1', 'a_goals': '3', 'date': '2019-09-20 19:00:00', 'player_assisted': 'Danny Ings', 'lastAction': 'Pass'}, {'id': '322691', 'minute': '56', 'result': 'SavedShot', 'X': '0.7340000152587891', 'Y': '0.49700000762939456', 'xG': '0.05408230051398277', 'player': 'James Ward-Prowse', 'h_a': 'a', 'player_id': '843', 'situation': 'DirectFreekick', 'season': '2019', 'shotType': 'RightFoot', 'match_id': '11704', 'h_team': 'Tottenham', 'a_team': 'Southampton', 'h_goals': '2', 'a_goals': '1', 'date': '2019-09-28 14:00:00', 'player_assisted': None, 'lastAction': 'Standard'}, {'id': '324692', 'minute': '58', 'result': 'MissedShots', 'X': '0.7830000305175782', 'Y': '0.455', 'xG': '0.09665480256080627', 'player': 'James Ward-Prowse', 'h_a': 'h', 'player_id': '843', 'situation': 'DirectFreekick', 'season': '2019', 'shotType': 'RightFoot', 'match_id': '11718', 'h_team': 'Southampton', 'a_team': 'Chelsea', 'h_goals': '1', 'a_goals': '4', 'date': '2019-10-06 14:00:00', 'player_assisted': None, 'lastAction': 'Standard'}, {'id': '325679', 'minute': '72', 'result': 'SavedShot', 'X': '0.895', 'Y': '0.500999984741211', 'xG': '0.1519239991903305', 'player': 'James Ward-Prowse', 'h_a': 'a', 'player_id': '843', 'situation': 'OpenPlay', 'season': '2019', 'shotType': 'LeftFoot', 'match_id': '11732', 'h_team': 'Wolverhampton Wanderers', 'a_team': 'Southampton', 'h_goals': '1', 'a_goals': '1', 'date': '2019-10-19 15:00:00', 'player_assisted': 'Pierre-Emile Højbjerg', 'lastAction': 'Pass'}, {'id': '325681', 'minute': '87', 'result': 'SavedShot', 'X': '0.735999984741211', 'Y': '0.4370000076293945', 'xG': '0.05305179953575134', 'player': 'James Ward-Prowse', 'h_a': 'a', 'player_id': '843', 'situation': 'DirectFreekick', 'season': '2019', 'shotType': 'RightFoot', 'match_id': '11732', 'h_team': 'Wolverhampton Wanderers', 'a_team': 'Southampton', 'h_goals': '1', 'a_goals': '1', 'date': '2019-10-19 15:00:00', 'player_assisted': None, 'lastAction': 'Standard'}, {'id': '326852', 'minute': '66', 'result': 'SavedShot', 'X': '0.749000015258789', 'Y': '0.30700000762939456', 'xG': '0.0439630001783371', 'player': 'James Ward-Prowse', 'h_a': 'h', 'player_id': '843', 'situation': 'DirectFreekick', 'season': '2019', 'shotType': 'RightFoot', 'match_id': '11740', 'h_team': 'Southampton', 'a_team': 'Leicester', 'h_goals': '0', 'a_goals': '9', 'date': '2019-10-25 20:00:00', 'player_assisted': None, 'lastAction': 'Standard'}, {'id': '326853', 'minute': '67', 'result': 'BlockedShot', 'X': '0.725', 'Y': '0.41', 'xG': '0.012068700045347214', 'player': 'James Ward-Prowse', 'h_a': 'h', 'player_id': '843', 'situation': 'OpenPlay', 'season': '2019', 'shotType': 'RightFoot', 'match_id': '11740', 'h_team': 'Southampton', 'a_team': 'Leicester', 'h_goals': '0', 'a_goals': '9', 'date': '2019-10-25 20:00:00', 'player_assisted': 'Pierre-Emile Højbjerg', 'lastAction': 'Pass'}, {'id': '329199', 'minute': '12', 'result': 'Goal', 'X': '0.970999984741211', 'Y': '0.485', 'xG': '0.8681849837303162', 'player': 'James Ward-Prowse', 'h_a': 'a', 'player_id': '843', 'situation': 'OpenPlay', 'season': '2019', 'shotType': 'RightFoot', 'match_id': '11749', 'h_team': 'Manchester City', 'a_team': 'Southampton', 'h_goals': '2', 'a_goals': '1', 'date': '2019-11-02 15:00:00', 'player_assisted': None, 'lastAction': 'Rebound'}, {'id': '330677', 'minute': '65', 'result': 'SavedShot', 'X': '0.8580000305175781', 'Y': '0.825999984741211', 'xG': '0.049298498779535294', 'player': 'James Ward-Prowse', 'h_a': 'h', 'player_id': '843', 'situation': 'DirectFreekick', 'season': '2019', 'shotType': 'RightFoot', 'match_id': '11758', 'h_team': 'Southampton', 'a_team': 'Everton', 'h_goals': '1', 'a_goals': '2', 'date': '2019-11-09 15:00:00', 'player_assisted': None, 'lastAction': 'Standard'}, {'id': '332317', 'minute': '15', 'result': 'SavedShot', 'X': '0.7730000305175782', 'Y': '0.555', 'xG': '0.03465009853243828', 'player': 'James Ward-Prowse', 'h_a': 'a', 'player_id': '843', 'situation': 'OpenPlay', 'season': '2019', 'shotType': 'RightFoot', 'match_id': '11763', 'h_team': 'Arsenal', 'a_team': 'Southampton', 'h_goals': '2', 'a_goals': '2', 'date': '2019-11-23 15:00:00', 'player_assisted': 'Nathan Redmond', 'lastAction': 'Pass'}, {'id': '332323', 'minute': '40', 'result': 'MissedShots', 'X': '0.48', 'Y': '0.43400001525878906', 'xG': '0.007038940209895372', 'player': 'James Ward-Prowse', 'h_a': 'a', 'player_id': '843', 'situation': 'OpenPlay', 'season': '2019', 'shotType': 'RightFoot', 'match_id': '11763', 'h_team': 'Arsenal', 'a_team': 'Southampton', 'h_goals': '2', 'a_goals': '2', 'date': '2019-11-23 15:00:00', 'player_assisted': None, 'lastAction': 'BallRecovery'}, {'id': '332334', 'minute': '70', 'result': 'Goal', 'X': '0.9580000305175781', 'Y': '0.5370000076293945', 'xG': '0.6502900123596191', 'player': 'James Ward-Prowse', 'h_a': 'a', 'player_id': '843', 'situation': 'SetPiece', 'season': '2019', 'shotType': 'LeftFoot', 'match_id': '11763', 'h_team': 'Arsenal', 'a_team': 'Southampton', 'h_goals': '2', 'a_goals': '2', 'date': '2019-11-23 15:00:00', 'player_assisted': None, 'lastAction': 'Rebound'}, {'id': '332333', 'minute': '70', 'result': 'SavedShot', 'X': '0.885', 'Y': '0.5', 'xG': '0.7611690163612366', 'player': 'James Ward-Prowse', 'h_a': 'a', 'player_id': '843', 'situation': 'Penalty', 'season': '2019', 'shotType': 'RightFoot', 'match_id': '11763', 'h_team': 'Arsenal', 'a_team': 'Southampton', 'h_goals': '2', 'a_goals': '2', 'date': '2019-11-23 15:00:00', 'player_assisted': None, 'lastAction': 'Standard'}, {'id': '333808', 'minute': '43', 'result': 'MissedShots', 'X': '0.9130000305175782', 'Y': '0.40599998474121096', 'xG': '0.08221419900655746', 'player': 'James Ward-Prowse', 'h_a': 'h', 'player_id': '843', 'situation': 'OpenPlay', 'season': '2019', 'shotType': 'RightFoot', 'match_id': '11778', 'h_team': 'Southampton', 'a_team': 'Watford', 'h_goals': '2', 'a_goals': '1', 'date': '2019-11-30 17:30:00', 'player_assisted': 'Cédric Soares', 'lastAction': 'Cross'}, {'id': '333810', 'minute': '59', 'result': 'BlockedShot', 'X': '0.7290000152587891', 'Y': '0.46599998474121096', 'xG': '0.05057860165834427', 'player': 'James Ward-Prowse', 'h_a': 'h', 'player_id': '843', 'situation': 'DirectFreekick', 'season': '2019', 'shotType': 'RightFoot', 'match_id': '11778', 'h_team': 'Southampton', 'a_team': 'Watford', 'h_goals': '2', 'a_goals': '1', 'date': '2019-11-30 17:30:00', 'player_assisted': None, 'lastAction': 'Standard'}, {'id': '333815', 'minute': '82', 'result': 'Goal', 'X': '0.7980000305175782', 'Y': '0.6569999694824219', 'xG': '0.08078709989786148', 'player': 'James Ward-Prowse', 'h_a': 'h', 'player_id': '843', 'situation': 'DirectFreekick', 'season': '2019', 'shotType': 'RightFoot', 'match_id': '11778', 'h_team': 'Southampton', 'a_team': 'Watford', 'h_goals': '2', 'a_goals': '1', 'date': '2019-11-30 17:30:00', 'player_assisted': None, 'lastAction': 'Standard'}, {'id': '336311', 'minute': '69', 'result': 'BlockedShot', 'X': '0.784000015258789', 'Y': '0.3189999961853027', 'xG': '0.06325490027666092', 'player': 'James Ward-Prowse', 'h_a': 'a', 'player_id': '843', 'situation': 'DirectFreekick', 'season': '2019', 'shotType': 'RightFoot', 'match_id': '11798', 'h_team': 'Newcastle United', 'a_team': 'Southampton', 'h_goals': '2', 'a_goals': '1', 'date': '2019-12-08 14:00:00', 'player_assisted': None, 'lastAction': 'Standard'}, {'id': '336315', 'minute': '75', 'result': 'MissedShots', 'X': '0.9119999694824219', 'Y': '0.8169999694824219', 'xG': '0.06265600025653839', 'player': 'James Ward-Prowse', 'h_a': 'a', 'player_id': '843', 'situation': 'DirectFreekick', 'season': '2019', 'shotType': 'RightFoot', 'match_id': '11798', 'h_team': 'Newcastle United', 'a_team': 'Southampton', 'h_goals': '2', 'a_goals': '1', 'date': '2019-12-08 14:00:00', 'player_assisted': None, 'lastAction': 'Standard'}, {'id': '337168', 'minute': '48', 'result': 'MissedShots', 'X': '0.9259999847412109', 'Y': '0.48400001525878905', 'xG': '0.054806899279356', 'player': 'James Ward-Prowse', 'h_a': 'h', 'player_id': '843', 'situation': 'OpenPlay', 'season': '2019', 'shotType': 'Head', 'match_id': '11811', 'h_team': 'Southampton', 'a_team': 'West Ham', 'h_goals': '0', 'a_goals': '1', 'date': '2019-12-14 17:30:00', 'player_assisted': 'Cédric Soares', 'lastAction': 'Aerial'}, {'id': '337180', 'minute': '89', 'result': 'SavedShot', 'X': '0.7680000305175781', 'Y': '0.764000015258789', 'xG': '0.03928679972887039', 'player': 'James Ward-Prowse', 'h_a': 'h', 'player_id': '843', 'situation': 'DirectFreekick', 'season': '2019', 'shotType': 'RightFoot', 'match_id': '11811', 'h_team': 'Southampton', 'a_team': 'West Ham', 'h_goals': '0', 'a_goals': '1', 'date': '2019-12-14 17:30:00', 'player_assisted': None, 'lastAction': 'Standard'}, {'id': '338680', 'minute': '3', 'result': 'SavedShot', 'X': '0.7819999694824219', 'Y': '0.6719999694824219', 'xG': '0.06440690159797668', 'player': 'James Ward-Prowse', 'h_a': 'a', 'player_id': '843', 'situation': 'DirectFreekick', 'season': '2019', 'shotType': 'RightFoot', 'match_id': '11813', 'h_team': 'Aston Villa', 'a_team': 'Southampton', 'h_goals': '1', 'a_goals': '3', 'date': '2019-12-21 15:00:00', 'player_assisted': None, 'lastAction': 'Standard'}, {'id': '338702', 'minute': '67', 'result': 'SavedShot', 'X': '0.7709999847412109', 'Y': '0.775', 'xG': '0.0383898988366127', 'player': 'James Ward-Prowse', 'h_a': 'a', 'player_id': '843', 'situation': 'DirectFreekick', 'season': '2019', 'shotType': 'RightFoot', 'match_id': '11813', 'h_team': 'Aston Villa', 'a_team': 'Southampton', 'h_goals': '1', 'a_goals': '3', 'date': '2019-12-21 15:00:00', 'player_assisted': None, 'lastAction': 'Standard'}, {'id': '339792', 'minute': '46', 'result': 'BlockedShot', 'X': '0.794000015258789', 'Y': '0.624000015258789', 'xG': '0.03074819967150688', 'player': 'James Ward-Prowse', 'h_a': 'h', 'player_id': '843', 'situation': 'OpenPlay', 'season': '2019', 'shotType': 'RightFoot', 'match_id': '11840', 'h_team': 'Southampton', 'a_team': 'Crystal Palace', 'h_goals': '1', 'a_goals': '1', 'date': '2019-12-28 15:00:00', 'player_assisted': None, 'lastAction': 'None'}, {'id': '339803', 'minute': '86', 'result': 'SavedShot', 'X': '0.759000015258789', 'Y': '0.6519999694824219', 'xG': '0.05521940067410469', 'player': 'James Ward-Prowse', 'h_a': 'h', 'player_id': '843', 'situation': 'DirectFreekick', 'season': '2019', 'shotType': 'RightFoot', 'match_id': '11840', 'h_team': 'Southampton', 'a_team': 'Crystal Palace', 'h_goals': '1', 'a_goals': '1', 'date': '2019-12-28 15:00:00', 'player_assisted': None, 'lastAction': 'Standard'}, {'id': '351709', 'minute': '35', 'result': 'BlockedShot', 'X': '0.779000015258789', 'Y': '0.595999984741211', 'xG': '0.08162529766559601', 'player': 'James Ward-Prowse', 'h_a': 'a', 'player_id': '843', 'situation': 'DirectFreekick', 'season': '2019', 'shotType': 'RightFoot', 'match_id': '11861', 'h_team': 'Leicester', 'a_team': 'Southampton', 'h_goals': '1', 'a_goals': '2', 'date': '2020-01-11 15:00:00', 'player_assisted': None, 'lastAction': 'Standard'}, {'id': '352559', 'minute': '68', 'result': 'MissedShots', 'X': '0.805', 'Y': '0.36700000762939455', 'xG': '0.020068900659680367', 'player': 'James Ward-Prowse', 'h_a': 'a', 'player_id': '843', 'situation': 'OpenPlay', 'season': '2019', 'shotType': 'LeftFoot', 'match_id': '11887', 'h_team': 'Liverpool', 'a_team': 'Southampton', 'h_goals': '4', 'a_goals': '0', 'date': '2020-02-01 15:00:00', 'player_assisted': 'Danny Ings', 'lastAction': 'Chipped'}, {'id': '352997', 'minute': '4', 'result': 'BlockedShot', 'X': '0.9330000305175781', 'Y': '0.93', 'xG': '0.034739501774311066', 'player': 'James Ward-Prowse', 'h_a': 'h', 'player_id': '843', 'situation': 'DirectFreekick', 'season': '2019', 'shotType': 'RightFoot', 'match_id': '11908', 'h_team': 'Southampton', 'a_team': 'Aston Villa', 'h_goals': '2', 'a_goals': '0', 'date': '2020-02-22 15:00:00', 'player_assisted': None, 'lastAction': 'Standard'}, {'id': '365033', 'minute': '46', 'result': 'SavedShot', 'X': '0.8590000152587891', 'Y': '0.8109999847412109', 'xG': '0.053942300379276276', 'player': 'James Ward-Prowse', 'h_a': 'a', 'player_id': '843', 'situation': 'DirectFreekick', 'season': '2019', 'shotType': 'RightFoot', 'match_id': '11937', 'h_team': 'Norwich', 'a_team': 'Southampton', 'h_goals': '0', 'a_goals': '3', 'date': '2020-06-19 17:00:00', 'player_assisted': None, 'lastAction': 'Standard'}, {'id': '365041', 'minute': '59', 'result': 'BlockedShot', 'X': '0.8690000152587891', 'Y': '0.41', 'xG': '0.11139000207185745', 'player': 'James Ward-Prowse', 'h_a': 'a', 'player_id': '843', 'situation': 'OpenPlay', 'season': '2019', 'shotType': 'RightFoot', 'match_id': '11937', 'h_team': 'Norwich', 'a_team': 'Southampton', 'h_goals': '0', 'a_goals': '3', 'date': '2020-06-19 17:00:00', 'player_assisted': None, 'lastAction': 'Rebound'}, {'id': '365042', 'minute': '62', 'result': 'BlockedShot', 'X': '0.8330000305175781', 'Y': '0.49700000762939456', 'xG': '0.10197799652814865', 'player': 'James Ward-Prowse', 'h_a': 'a', 'player_id': '843', 'situation': 'OpenPlay', 'season': '2019', 'shotType': 'RightFoot', 'match_id': '11937', 'h_team': 'Norwich', 'a_team': 'Southampton', 'h_goals': '0', 'a_goals': '3', 'date': '2020-06-19 17:00:00', 'player_assisted': 'Ryan Bertrand', 'lastAction': 'Pass'}, {'id': '365053', 'minute': '92', 'result': 'SavedShot', 'X': '0.71', 'Y': '0.67', 'xG': '0.033956099301576614', 'player': 'James Ward-Prowse', 'h_a': 'a', 'player_id': '843', 'situation': 'DirectFreekick', 'season': '2019', 'shotType': 'RightFoot', 'match_id': '11937', 'h_team': 'Norwich', 'a_team': 'Southampton', 'h_goals': '0', 'a_goals': '3', 'date': '2020-06-19 17:00:00', 'player_assisted': None, 'lastAction': 'Standard'}, {'id': '366552', 'minute': '23', 'result': 'SavedShot', 'X': '0.8009999847412109', 'Y': '0.76', 'xG': '0.01685510016977787', 'player': 'James Ward-Prowse', 'h_a': 'h', 'player_id': '843', 'situation': 'OpenPlay', 'season': '2019', 'shotType': 'RightFoot', 'match_id': '11952', 'h_team': 'Southampton', 'a_team': 'Arsenal', 'h_goals': '0', 'a_goals': '2', 'date': '2020-06-25 17:00:00', 'player_assisted': 'Stuart Armstrong', 'lastAction': 'Pass'}, {'id': '366554', 'minute': '50', 'result': 'MissedShots', 'X': '0.7609999847412109', 'Y': '0.5120000076293946', 'xG': '0.02115830034017563', 'player': 'James Ward-Prowse', 'h_a': 'h', 'player_id': '843', 'situation': 'OpenPlay', 'season': '2019', 'shotType': 'RightFoot', 'match_id': '11952', 'h_team': 'Southampton', 'a_team': 'Arsenal', 'h_goals': '0', 'a_goals': '2', 'date': '2020-06-25 17:00:00', 'player_assisted': 'Pierre-Emile Højbjerg', 'lastAction': 'Pass'}, {'id': '367399', 'minute': '23', 'result': 'MissedShots', 'X': '0.96', 'Y': '0.5770000076293945', 'xG': '0.3668369948863983', 'player': 'James Ward-Prowse', 'h_a': 'a', 'player_id': '843', 'situation': 'OpenPlay', 'season': '2019', 'shotType': 'LeftFoot', 'match_id': '11961', 'h_team': 'Watford', 'a_team': 'Southampton', 'h_goals': '1', 'a_goals': '3', 'date': '2020-06-28 15:30:00', 'player_assisted': 'Oriol Romeu', 'lastAction': 'Chipped'}, {'id': '367412', 'minute': '81', 'result': 'Goal', 'X': '0.8009999847412109', 'Y': '0.51', 'xG': '0.13120199739933014', 'player': 'James Ward-Prowse', 'h_a': 'a', 'player_id': '843', 'situation': 'DirectFreekick', 'season': '2019', 'shotType': 'RightFoot', 'match_id': '11961', 'h_team': 'Watford', 'a_team': 'Southampton', 'h_goals': '1', 'a_goals': '3', 'date': '2020-06-28 15:30:00', 'player_assisted': None, 'lastAction': 'Standard'}, {'id': '367416', 'minute': '95', 'result': 'SavedShot', 'X': '0.7809999847412109', 'Y': '0.6630000305175782', 'xG': '0.06611839681863785', 'player': 'James Ward-Prowse', 'h_a': 'a', 'player_id': '843', 'situation': 'DirectFreekick', 'season': '2019', 'shotType': 'RightFoot', 'match_id': '11961', 'h_team': 'Watford', 'a_team': 'Southampton', 'h_goals': '1', 'a_goals': '3', 'date': '2020-06-28 15:30:00', 'player_assisted': None, 'lastAction': 'Standard'}, {'id': '370072', 'minute': '15', 'result': 'BlockedShot', 'X': '0.8290000152587891', 'Y': '0.42700000762939455', 'xG': '0.054145701229572296', 'player': 'James Ward-Prowse', 'h_a': 'a', 'player_id': '843', 'situation': 'OpenPlay', 'season': '2019', 'shotType': 'RightFoot', 'match_id': '11978', 'h_team': 'Everton', 'a_team': 'Southampton', 'h_goals': '1', 'a_goals': '1', 'date': '2020-07-09 17:00:00', 'player_assisted': 'Danny Ings', 'lastAction': 'Pass'}, {'id': '370078', 'minute': '25', 'result': 'SavedShot', 'X': '0.755', 'Y': '0.7419999694824219', 'xG': '0.0388885997235775', 'player': 'James Ward-Prowse', 'h_a': 'a', 'player_id': '843', 'situation': 'DirectFreekick', 'season': '2019', 'shotType': 'RightFoot', 'match_id': '11978', 'h_team': 'Everton', 'a_team': 'Southampton', 'h_goals': '1', 'a_goals': '1', 'date': '2020-07-09 17:00:00', 'player_assisted': None, 'lastAction': 'Standard'}, {'id': '370080', 'minute': '27', 'result': 'ShotOnPost', 'X': '0.885', 'Y': '0.5', 'xG': '0.7611690163612366', 'player': 'James Ward-Prowse', 'h_a': 'a', 'player_id': '843', 'situation': 'Penalty', 'season': '2019', 'shotType': 'RightFoot', 'match_id': '11978', 'h_team': 'Everton', 'a_team': 'Southampton', 'h_goals': '1', 'a_goals': '1', 'date': '2020-07-09 17:00:00', 'player_assisted': None, 'lastAction': 'Standard'}, {'id': '370088', 'minute': '47', 'result': 'BlockedShot', 'X': '0.7719999694824219', 'Y': '0.3270000076293945', 'xG': '0.05826110020279884', 'player': 'James Ward-Prowse', 'h_a': 'a', 'player_id': '843', 'situation': 'DirectFreekick', 'season': '2019', 'shotType': 'RightFoot', 'match_id': '11978', 'h_team': 'Everton', 'a_team': 'Southampton', 'h_goals': '1', 'a_goals': '1', 'date': '2020-07-09 17:00:00', 'player_assisted': None, 'lastAction': 'Standard'}, {'id': '370090', 'minute': '48', 'result': 'BlockedShot', 'X': '0.7819999694824219', 'Y': '0.6359999847412109', 'xG': '0.014552799984812737', 'player': 'James Ward-Prowse', 'h_a': 'a', 'player_id': '843', 'situation': 'FromCorner', 'season': '2019', 'shotType': 'RightFoot', 'match_id': '11978', 'h_team': 'Everton', 'a_team': 'Southampton', 'h_goals': '1', 'a_goals': '1', 'date': '2020-07-09 17:00:00', 'player_assisted': None, 'lastAction': 'Aerial'}, {'id': '372150', 'minute': '14', 'result': 'BlockedShot', 'X': '0.8469999694824218', 'Y': '0.5459999847412109', 'xG': '0.07293339818716049', 'player': 'James Ward-Prowse', 'h_a': 'h', 'player_id': '843', 'situation': 'OpenPlay', 'season': '2019', 'shotType': 'RightFoot', 'match_id': '12002', 'h_team': 'Southampton', 'a_team': 'Brighton', 'h_goals': '1', 'a_goals': '1', 'date': '2020-07-16 19:15:00', 'player_assisted': 'Michael Obafemi', 'lastAction': 'Pass'}, {'id': '372162', 'minute': '59', 'result': 'SavedShot', 'X': '0.705999984741211', 'Y': '0.515', 'xG': '0.012660100124776363', 'player': 'James Ward-Prowse', 'h_a': 'h', 'player_id': '843', 'situation': 'OpenPlay', 'season': '2019', 'shotType': 'LeftFoot', 'match_id': '12002', 'h_team': 'Southampton', 'a_team': 'Brighton', 'h_goals': '1', 'a_goals': '1', 'date': '2020-07-16 19:15:00', 'player_assisted': None, 'lastAction': 'None'}, {'id': '372171', 'minute': '78', 'result': 'BlockedShot', 'X': '0.6990000152587891', 'Y': '0.49700000762939456', 'xG': '0.037670399993658066', 'player': 'James Ward-Prowse', 'h_a': 'h', 'player_id': '843', 'situation': 'DirectFreekick', 'season': '2019', 'shotType': 'RightFoot', 'match_id': '12002', 'h_team': 'Southampton', 'a_team': 'Brighton', 'h_goals': '1', 'a_goals': '1', 'date': '2020-07-16 19:15:00', 'player_assisted': None, 'lastAction': 'Standard'}, {'id': '372429', 'minute': '27', 'result': 'SavedShot', 'X': '0.8859999847412109', 'Y': '0.504000015258789', 'xG': '0.16439199447631836', 'player': 'James Ward-Prowse', 'h_a': 'a', 'player_id': '843', 'situation': 'OpenPlay', 'season': '2019', 'shotType': 'Head', 'match_id': '12004', 'h_team': 'Bournemouth', 'a_team': 'Southampton', 'h_goals': '0', 'a_goals': '2', 'date': '2020-07-19 13:00:00', 'player_assisted': 'Oriol Romeu', 'lastAction': 'Cross'}, {'id': '372435', 'minute': '54', 'result': 'SavedShot', 'X': '0.74', 'Y': '0.515', 'xG': '0.02745259925723076', 'player': 'James Ward-Prowse', 'h_a': 'a', 'player_id': '843', 'situation': 'OpenPlay', 'season': '2019', 'shotType': 'LeftFoot', 'match_id': '12004', 'h_team': 'Bournemouth', 'a_team': 'Southampton', 'h_goals': '0', 'a_goals': '2', 'date': '2020-07-19 13:00:00', 'player_assisted': 'Oriol Romeu', 'lastAction': 'Pass'}, {'id': '373793', 'minute': '22', 'result': 'BlockedShot', 'X': '0.8730000305175781', 'Y': '0.51', 'xG': '0.12308400124311447', 'player': 'James Ward-Prowse', 'h_a': 'h', 'player_id': '843', 'situation': 'OpenPlay', 'season': '2019', 'shotType': 'RightFoot', 'match_id': '12015', 'h_team': 'Southampton', 'a_team': 'Sheffield United', 'h_goals': '3', 'a_goals': '1', 'date': '2020-07-26 15:00:00', 'player_assisted': None, 'lastAction': 'TakeOn'}, {'id': '376525', 'minute': '73', 'result': 'MissedShots', 'X': '0.7859999847412109', 'Y': '0.77', 'xG': '0.043417900800704956', 'player': 'James Ward-Prowse', 'h_a': 'a', 'player_id': '843', 'situation': 'DirectFreekick', 'season': '2020', 'shotType': 'RightFoot', 'match_id': '14087', 'h_team': 'Crystal Palace', 'a_team': 'Southampton', 'h_goals': '1', 'a_goals': '0', 'date': '2020-09-12 14:00:00', 'player_assisted': None, 'lastAction': 'Standard'}, {'id': '376528', 'minute': '86', 'result': 'MissedShots', 'X': '0.715', 'Y': '0.59', 'xG': '0.04113470017910004', 'player': 'James Ward-Prowse', 'h_a': 'a', 'player_id': '843', 'situation': 'DirectFreekick', 'season': '2020', 'shotType': 'RightFoot', 'match_id': '14087', 'h_team': 'Crystal Palace', 'a_team': 'Southampton', 'h_goals': '1', 'a_goals': '0', 'date': '2020-09-12 14:00:00', 'player_assisted': None, 'lastAction': 'Standard'}, {'id': '377881', 'minute': '19', 'result': 'SavedShot', 'X': '0.9019999694824219', 'Y': '0.44799999237060545', 'xG': '0.11791999638080597', 'player': 'James Ward-Prowse', 'h_a': 'h', 'player_id': '843', 'situation': 'OpenPlay', 'season': '2020', 'shotType': 'RightFoot', 'match_id': '14100', 'h_team': 'Southampton', 'a_team': 'Tottenham', 'h_goals': '2', 'a_goals': '5', 'date': '2020-09-20 11:00:00', 'player_assisted': None, 'lastAction': 'Rebound'}, {'id': '377889', 'minute': '49', 'result': 'SavedShot', 'X': '0.7280000305175781', 'Y': '0.4279999923706055', 'xG': '0.018159599974751472', 'player': 'James Ward-Prowse', 'h_a': 'h', 'player_id': '843', 'situation': 'OpenPlay', 'season': '2020', 'shotType': 'RightFoot', 'match_id': '14100', 'h_team': 'Southampton', 'a_team': 'Tottenham', 'h_goals': '2', 'a_goals': '5', 'date': '2020-09-20 11:00:00', 'player_assisted': 'Oriol Romeu', 'lastAction': 'Pass'}, {'id': '377899', 'minute': '85', 'result': 'SavedShot', 'X': '0.710999984741211', 'Y': '0.4370000076293945', 'xG': '0.04093509912490845', 'player': 'James Ward-Prowse', 'h_a': 'h', 'player_id': '843', 'situation': 'DirectFreekick', 'season': '2020', 'shotType': 'RightFoot', 'match_id': '14100', 'h_team': 'Southampton', 'a_team': 'Tottenham', 'h_goals': '2', 'a_goals': '5', 'date': '2020-09-20 11:00:00', 'player_assisted': None, 'lastAction': 'Standard'}, {'id': '383918', 'minute': '26', 'result': 'Goal', 'X': '0.899000015258789', 'Y': '0.36200000762939455', 'xG': '0.09319490194320679', 'player': 'James Ward-Prowse', 'h_a': 'h', 'player_id': '843', 'situation': 'OpenPlay', 'season': '2020', 'shotType': 'RightFoot', 'match_id': '14492', 'h_team': 'Southampton', 'a_team': 'Everton', 'h_goals': '2', 'a_goals': '0', 'date': '2020-10-25 14:00:00', 'player_assisted': 'Danny Ings', 'lastAction': 'Pass'}, {'id': '384953', 'minute': '32', 'result': 'Goal', 'X': '0.769000015258789', 'Y': '0.5459999847412109', 'xG': '0.07998579740524292', 'player': 'James Ward-Prowse', 'h_a': 'a', 'player_id': '843', 'situation': 'DirectFreekick', 'season': '2020', 'shotType': 'RightFoot', 'match_id': '14495', 'h_team': 'Aston Villa', 'a_team': 'Southampton', 'h_goals': '3', 'a_goals': '4', 'date': '2020-11-01 12:00:00', 'player_assisted': None, 'lastAction': 'Standard'}, {'id': '384954', 'minute': '44', 'result': 'Goal', 'X': '0.8069999694824219', 'Y': '0.504000015258789', 'xG': '0.1443769931793213', 'player': 'James Ward-Prowse', 'h_a': 'a', 'player_id': '843', 'situation': 'DirectFreekick', 'season': '2020', 'shotType': 'RightFoot', 'match_id': '14495', 'h_team': 'Aston Villa', 'a_team': 'Southampton', 'h_goals': '3', 'a_goals': '4', 'date': '2020-11-01 12:00:00', 'player_assisted': None, 'lastAction': 'Standard'}, {'id': '384959', 'minute': '58', 'result': 'MissedShots', 'X': '0.8040000152587891', 'Y': '0.5179999923706055', 'xG': '0.06830540299415588', 'player': 'James Ward-Prowse', 'h_a': 'a', 'player_id': '843', 'situation': 'OpenPlay', 'season': '2020', 'shotType': 'LeftFoot', 'match_id': '14495', 'h_team': 'Aston Villa', 'a_team': 'Southampton', 'h_goals': '3', 'a_goals': '4', 'date': '2020-11-01 12:00:00', 'player_assisted': 'Ryan Bertrand', 'lastAction': 'Pass'}, {'id': '389417', 'minute': '32', 'result': 'Goal', 'X': '0.8119999694824219', 'Y': '0.720999984741211', 'xG': '0.06691060215234756', 'player': 'James Ward-Prowse', 'h_a': 'h', 'player_id': '843', 'situation': 'DirectFreekick', 'season': '2020', 'shotType': 'RightFoot', 'match_id': '14534', 'h_team': 'Southampton', 'a_team': 'Manchester United', 'h_goals': '2', 'a_goals': '3', 'date': '2020-11-29 14:00:00', 'player_assisted': None, 'lastAction': 'Standard'}, {'id': '391920', 'minute': '38', 'result': 'SavedShot', 'X': '0.7909999847412109', 'Y': '0.6959999847412109', 'xG': '0.02445410005748272', 'player': 'James Ward-Prowse', 'h_a': 'h', 'player_id': '843', 'situation': 'OpenPlay', 'season': '2020', 'shotType': 'RightFoot', 'match_id': '14551', 'h_team': 'Southampton', 'a_team': 'Sheffield United', 'h_goals': '3', 'a_goals': '0', 'date': '2020-12-13 12:00:00', 'player_assisted': 'Danny Ings', 'lastAction': 'Pass'}, {'id': '391925', 'minute': '68', 'result': 'MissedShots', 'X': '0.7030000305175781', 'Y': '0.4159999847412109', 'xG': '0.03710789978504181', 'player': 'James Ward-Prowse', 'h_a': 'h', 'player_id': '843', 'situation': 'DirectFreekick', 'season': '2020', 'shotType': 'RightFoot', 'match_id': '14551', 'h_team': 'Southampton', 'a_team': 'Sheffield United', 'h_goals': '3', 'a_goals': '0', 'date': '2020-12-13 12:00:00', 'player_assisted': None, 'lastAction': 'Standard'}, {'id': '393078', 'minute': '65', 'result': 'MissedShots', 'X': '0.7340000152587891', 'Y': '0.485', 'xG': '0.017777299508452415', 'player': 'James Ward-Prowse', 'h_a': 'a', 'player_id': '843', 'situation': 'OpenPlay', 'season': '2020', 'shotType': 'RightFoot', 'match_id': '14555', 'h_team': 'Arsenal', 'a_team': 'Southampton', 'h_goals': '1', 'a_goals': '1', 'date': '2020-12-16 18:00:00', 'player_assisted': None, 'lastAction': 'None'}, {'id': '393080', 'minute': '77', 'result': 'BlockedShot', 'X': '0.8909999847412109', 'Y': '0.5459999847412109', 'xG': '0.12318000197410583', 'player': 'James Ward-Prowse', 'h_a': 'a', 'player_id': '843', 'situation': 'OpenPlay', 'season': '2020', 'shotType': 'RightFoot', 'match_id': '14555', 'h_team': 'Arsenal', 'a_team': 'Southampton', 'h_goals': '1', 'a_goals': '1', 'date': '2020-12-16 18:00:00', 'player_assisted': 'Moussa Djenepo', 'lastAction': 'Pass'}, {'id': '395619', 'minute': '26', 'result': 'SavedShot', 'X': '0.740999984741211', 'Y': '0.6559999847412109', 'xG': '0.045828599482774734', 'player': 'James Ward-Prowse', 'h_a': 'a', 'player_id': '843', 'situation': 'DirectFreekick', 'season': '2020', 'shotType': 'RightFoot', 'match_id': '14577', 'h_team': 'Fulham', 'a_team': 'Southampton', 'h_goals': '0', 'a_goals': '0', 'date': '2020-12-26 15:00:00', 'player_assisted': None, 'lastAction': 'Standard'}, {'id': '395909', 'minute': '43', 'result': 'MissedShots', 'X': '0.8109999847412109', 'Y': '0.59', 'xG': '0.1275559961795807', 'player': 'James Ward-Prowse', 'h_a': 'h', 'player_id': '843', 'situation': 'DirectFreekick', 'season': '2020', 'shotType': 'RightFoot', 'match_id': '14588', 'h_team': 'Southampton', 'a_team': 'West Ham', 'h_goals': '0', 'a_goals': '0', 'date': '2020-12-29 18:00:00', 'player_assisted': None, 'lastAction': 'Standard'}, {'id': '399176', 'minute': '77', 'result': 'MissedShots', 'X': '0.8480000305175781', 'Y': '0.4520000076293945', 'xG': '0.07967209815979004', 'player': 'James Ward-Prowse', 'h_a': 'a', 'player_id': '843', 'situation': 'OpenPlay', 'season': '2020', 'shotType': 'RightFoot', 'match_id': '14619', 'h_team': 'Leicester', 'a_team': 'Southampton', 'h_goals': '2', 'a_goals': '0', 'date': '2021-01-16 20:00:00', 'player_assisted': 'Stuart Armstrong', 'lastAction': 'Pass'}, {'id': '401195', 'minute': '85', 'result': 'SavedShot', 'X': '0.7930000305175782', 'Y': '0.3629999923706055', 'xG': '0.08343909680843353', 'player': 'James Ward-Prowse', 'h_a': 'h', 'player_id': '843', 'situation': 'DirectFreekick', 'season': '2020', 'shotType': 'RightFoot', 'match_id': '14632', 'h_team': 'Southampton', 'a_team': 'Arsenal', 'h_goals': '1', 'a_goals': '3', 'date': '2021-01-26 20:15:00', 'player_assisted': None, 'lastAction': 'Standard'}, {'id': '401901', 'minute': '52', 'result': 'BlockedShot', 'X': '0.7959999847412109', 'Y': '0.43099998474121093', 'xG': '0.11041799932718277', 'player': 'James Ward-Prowse', 'h_a': 'h', 'player_id': '843', 'situation': 'DirectFreekick', 'season': '2020', 'shotType': 'RightFoot', 'match_id': '14641', 'h_team': 'Southampton', 'a_team': 'Aston Villa', 'h_goals': '0', 'a_goals': '1', 'date': '2021-01-30 20:00:00', 'player_assisted': None, 'lastAction': 'Standard'}, {'id': '402471', 'minute': '16', 'result': 'MissedShots', 'X': '0.7280000305175781', 'Y': '0.47', 'xG': '0.016576699912548065', 'player': 'James Ward-Prowse', 'h_a': 'a', 'player_id': '843', 'situation': 'OpenPlay', 'season': '2020', 'shotType': 'RightFoot', 'match_id': '14651', 'h_team': 'Manchester United', 'a_team': 'Southampton', 'h_goals': '9', 'a_goals': '0', 'date': '2021-02-02 20:15:00', 'player_assisted': 'Che Adams', 'lastAction': 'Pass'}, {'id': '402474', 'minute': '27', 'result': 'SavedShot', 'X': '0.82', 'Y': '0.5670000076293945', 'xG': '0.15800899267196655', 'player': 'James Ward-Prowse', 'h_a': 'a', 'player_id': '843', 'situation': 'DirectFreekick', 'season': '2020', 'shotType': 'RightFoot', 'match_id': '14651', 'h_team': 'Manchester United', 'a_team': 'Southampton', 'h_goals': '9', 'a_goals': '0', 'date': '2021-02-02 20:15:00', 'player_assisted': None, 'lastAction': 'Standard'}, {'id': '403258', 'minute': '47', 'result': 'Goal', 'X': '0.7419999694824219', 'Y': '0.65', 'xG': '0.047049298882484436', 'player': 'James Ward-Prowse', 'h_a': 'a', 'player_id': '843', 'situation': 'DirectFreekick', 'season': '2020', 'shotType': 'RightFoot', 'match_id': '14661', 'h_team': 'Newcastle United', 'a_team': 'Southampton', 'h_goals': '3', 'a_goals': '2', 'date': '2021-02-06 15:00:00', 'player_assisted': None, 'lastAction': 'Standard'}, {'id': '404642', 'minute': '78', 'result': 'SavedShot', 'X': '0.75', 'Y': '0.5209999847412109', 'xG': '0.02124059945344925', 'player': 'James Ward-Prowse', 'h_a': 'h', 'player_id': '843', 'situation': 'OpenPlay', 'season': '2020', 'shotType': 'RightFoot', 'match_id': '14672', 'h_team': 'Southampton', 'a_team': 'Wolverhampton Wanderers', 'h_goals': '1', 'a_goals': '2', 'date': '2021-02-14 12:00:00', 'player_assisted': None, 'lastAction': 'None'}, {'id': '406373', 'minute': '72', 'result': 'SavedShot', 'X': '0.7390000152587891', 'Y': '0.6170000076293946', 'xG': '0.014666499570012093', 'player': 'James Ward-Prowse', 'h_a': 'a', 'player_id': '843', 'situation': 'OpenPlay', 'season': '2020', 'shotType': 'RightFoot', 'match_id': '14608', 'h_team': 'Leeds', 'a_team': 'Southampton', 'h_goals': '3', 'a_goals': '0', 'date': '2021-02-23 20:00:00', 'player_assisted': 'Danny Ings', 'lastAction': 'BlockedPass'}, {'id': '408574', 'minute': '31', 'result': 'Goal', 'X': '0.885', 'Y': '0.5', 'xG': '0.7611690163612366', 'player': 'James Ward-Prowse', 'h_a': 'a', 'player_id': '843', 'situation': 'Penalty', 'season': '2020', 'shotType': 'RightFoot', 'match_id': '14701', 'h_team': 'Sheffield United', 'a_team': 'Southampton', 'h_goals': '0', 'a_goals': '2', 'date': '2021-03-06 15:00:00', 'player_assisted': None, 'lastAction': 'Standard'}, {'id': '409497', 'minute': '24', 'result': 'Goal', 'X': '0.885', 'Y': '0.5', 'xG': '0.7611690163612366', 'player': 'James Ward-Prowse', 'h_a': 'a', 'player_id': '843', 'situation': 'Penalty', 'season': '2020', 'shotType': 'RightFoot', 'match_id': '14761', 'h_team': 'Manchester City', 'a_team': 'Southampton', 'h_goals': '5', 'a_goals': '2', 'date': '2021-03-10 18:00:00', 'player_assisted': None, 'lastAction': 'Standard'}, {'id': '409500', 'minute': '32', 'result': 'SavedShot', 'X': '0.6840000152587891', 'Y': '0.4209999847412109', 'xG': '0.010723399929702282', 'player': 'James Ward-Prowse', 'h_a': 'a', 'player_id': '843', 'situation': 'OpenPlay', 'season': '2020', 'shotType': 'RightFoot', 'match_id': '14761', 'h_team': 'Manchester City', 'a_team': 'Southampton', 'h_goals': '5', 'a_goals': '2', 'date': '2021-03-10 18:00:00', 'player_assisted': 'Che Adams', 'lastAction': 'Pass'}, {'id': '409501', 'minute': '35', 'result': 'MissedShots', 'X': '0.7190000152587891', 'Y': '0.5729999923706055', 'xG': '0.04379979893565178', 'player': 'James Ward-Prowse', 'h_a': 'a', 'player_id': '843', 'situation': 'DirectFreekick', 'season': '2020', 'shotType': 'RightFoot', 'match_id': '14761', 'h_team': 'Manchester City', 'a_team': 'Southampton', 'h_goals': '5', 'a_goals': '2', 'date': '2021-03-10 18:00:00', 'player_assisted': None, 'lastAction': 'Standard'}, {'id': '409517', 'minute': '82', 'result': 'SavedShot', 'X': '0.7090000152587891', 'Y': '0.415', 'xG': '0.039139699190855026', 'player': 'James Ward-Prowse', 'h_a': 'a', 'player_id': '843', 'situation': 'DirectFreekick', 'season': '2020', 'shotType': 'RightFoot', 'match_id': '14761', 'h_team': 'Manchester City', 'a_team': 'Southampton', 'h_goals': '5', 'a_goals': '2', 'date': '2021-03-10 18:00:00', 'player_assisted': None, 'lastAction': 'Standard'}, {'id': '410284', 'minute': '52', 'result': 'SavedShot', 'X': '0.8419999694824218', 'Y': '0.6220000076293946', 'xG': '0.05239139869809151', 'player': 'James Ward-Prowse', 'h_a': 'h', 'player_id': '843', 'situation': 'OpenPlay', 'season': '2020', 'shotType': 'RightFoot', 'match_id': '14713', 'h_team': 'Southampton', 'a_team': 'Brighton', 'h_goals': '1', 'a_goals': '2', 'date': '2021-03-14 12:00:00', 'player_assisted': None, 'lastAction': 'None'}, {'id': '410286', 'minute': '60', 'result': 'BlockedShot', 'X': '0.8130000305175781', 'Y': '0.48700000762939455', 'xG': '0.15801000595092773', 'player': 'James Ward-Prowse', 'h_a': 'h', 'player_id': '843', 'situation': 'DirectFreekick', 'season': '2020', 'shotType': 'RightFoot', 'match_id': '14713', 'h_team': 'Southampton', 'a_team': 'Brighton', 'h_goals': '1', 'a_goals': '2', 'date': '2021-03-14 12:00:00', 'player_assisted': None, 'lastAction': 'Standard'}, {'id': '412910', 'minute': '59', 'result': 'BlockedShot', 'X': '0.8090000152587891', 'Y': '0.42900001525878906', 'xG': '0.05227530002593994', 'player': 'James Ward-Prowse', 'h_a': 'h', 'player_id': '843', 'situation': 'OpenPlay', 'season': '2020', 'shotType': 'RightFoot', 'match_id': '14733', 'h_team': 'Southampton', 'a_team': 'Burnley', 'h_goals': '3', 'a_goals': '2', 'date': '2021-04-04 11:00:00', 'player_assisted': 'Nathan Redmond', 'lastAction': 'Pass'}, {'id': '414909', 'minute': '93', 'result': 'SavedShot', 'X': '0.885', 'Y': '0.5', 'xG': '0.7611690163612366', 'player': 'James Ward-Prowse', 'h_a': 'a', 'player_id': '843', 'situation': 'Penalty', 'season': '2020', 'shotType': 'RightFoot', 'match_id': '14743', 'h_team': 'West Bromwich Albion', 'a_team': 'Southampton', 'h_goals': '3', 'a_goals': '0', 'date': '2021-04-12 17:00:00', 'player_assisted': None, 'lastAction': 'Standard'}, {'id': '414910', 'minute': '94', 'result': 'MissedShots', 'X': '0.779000015258789', 'Y': '0.355', 'xG': '0.06938660144805908', 'player': 'James Ward-Prowse', 'h_a': 'a', 'player_id': '843', 'situation': 'DirectFreekick', 'season': '2020', 'shotType': 'RightFoot', 'match_id': '14743', 'h_team': 'West Bromwich Albion', 'a_team': 'Southampton', 'h_goals': '3', 'a_goals': '0', 'date': '2021-04-12 17:00:00', 'player_assisted': None, 'lastAction': 'Standard'}, {'id': '418372', 'minute': '60', 'result': 'Goal', 'X': '0.885', 'Y': '0.5', 'xG': '0.7611690163612366', 'player': 'James Ward-Prowse', 'h_a': 'h', 'player_id': '843', 'situation': 'Penalty', 'season': '2020', 'shotType': 'RightFoot', 'match_id': '14772', 'h_team': 'Southampton', 'a_team': 'Leicester', 'h_goals': '1', 'a_goals': '1', 'date': '2021-04-30 19:00:00', 'player_assisted': None, 'lastAction': 'Standard'}, {'id': '420360', 'minute': '68', 'result': 'SavedShot', 'X': '0.735', 'Y': '0.44099998474121094', 'xG': '0.010490800254046917', 'player': 'James Ward-Prowse', 'h_a': 'a', 'player_id': '843', 'situation': 'OpenPlay', 'season': '2020', 'shotType': 'RightFoot', 'match_id': '14780', 'h_team': 'Liverpool', 'a_team': 'Southampton', 'h_goals': '2', 'a_goals': '0', 'date': '2021-05-08 19:15:00', 'player_assisted': None, 'lastAction': 'Aerial'}, {'id': '421155', 'minute': '46', 'result': 'MissedShots', 'X': '0.7440000152587891', 'Y': '0.549000015258789', 'xG': '0.05898730084300041', 'player': 'James Ward-Prowse', 'h_a': 'h', 'player_id': '843', 'situation': 'DirectFreekick', 'season': '2020', 'shotType': 'RightFoot', 'match_id': '14753', 'h_team': 'Southampton', 'a_team': 'Crystal Palace', 'h_goals': '3', 'a_goals': '1', 'date': '2021-05-11 21:00:00', 'player_assisted': None, 'lastAction': 'Standard'}, {'id': '421167', 'minute': '79', 'result': 'SavedShot', 'X': '0.8469999694824218', 'Y': '0.610999984741211', 'xG': '0.040494099259376526', 'player': 'James Ward-Prowse', 'h_a': 'h', 'player_id': '843', 'situation': 'OpenPlay', 'season': '2020', 'shotType': 'LeftFoot', 'match_id': '14753', 'h_team': 'Southampton', 'a_team': 'Crystal Palace', 'h_goals': '3', 'a_goals': '1', 'date': '2021-05-11 21:00:00', 'player_assisted': None, 'lastAction': 'Rebound'}, {'id': '421985', 'minute': '35', 'result': 'SavedShot', 'X': '0.8109999847412109', 'Y': '0.455', 'xG': '0.14648699760437012', 'player': 'James Ward-Prowse', 'h_a': 'h', 'player_id': '843', 'situation': 'DirectFreekick', 'season': '2020', 'shotType': 'RightFoot', 'match_id': '14792', 'h_team': 'Southampton', 'a_team': 'Fulham', 'h_goals': '3', 'a_goals': '1', 'date': '2021-05-15 14:00:00', 'player_assisted': None, 'lastAction': 'Standard'}, {'id': '423139', 'minute': '39', 'result': 'BlockedShot', 'X': '0.7069999694824218', 'Y': '0.33099998474121095', 'xG': '0.01168929971754551', 'player': 'James Ward-Prowse', 'h_a': 'h', 'player_id': '843', 'situation': 'OpenPlay', 'season': '2020', 'shotType': 'RightFoot', 'match_id': '14802', 'h_team': 'Southampton', 'a_team': 'Leeds', 'h_goals': '0', 'a_goals': '2', 'date': '2021-05-18 17:00:00', 'player_assisted': None, 'lastAction': 'BallRecovery'}, {'id': '423140', 'minute': '46', 'result': 'ShotOnPost', 'X': '0.7230000305175781', 'Y': '0.6329999923706054', 'xG': '0.04101400077342987', 'player': 'James Ward-Prowse', 'h_a': 'h', 'player_id': '843', 'situation': 'DirectFreekick', 'season': '2020', 'shotType': 'RightFoot', 'match_id': '14802', 'h_team': 'Southampton', 'a_team': 'Leeds', 'h_goals': '0', 'a_goals': '2', 'date': '2021-05-18 17:00:00', 'player_assisted': None, 'lastAction': 'Standard'}, {'id': '423144', 'minute': '63', 'result': 'BlockedShot', 'X': '0.7830000305175782', 'Y': '0.36', 'xG': '0.026280000805854797', 'player': 'James Ward-Prowse', 'h_a': 'h', 'player_id': '843', 'situation': 'OpenPlay', 'season': '2020', 'shotType': 'RightFoot', 'match_id': '14802', 'h_team': 'Southampton', 'a_team': 'Leeds', 'h_goals': '0', 'a_goals': '2', 'date': '2021-05-18 17:00:00', 'player_assisted': 'Jack Stephens', 'lastAction': 'Pass'}, {'id': '424125', 'minute': '20', 'result': 'BlockedShot', 'X': '0.7330000305175781', 'Y': '0.3579999923706055', 'xG': '0.014875099994242191', 'player': 'James Ward-Prowse', 'h_a': 'a', 'player_id': '843', 'situation': 'OpenPlay', 'season': '2020', 'shotType': 'LeftFoot', 'match_id': '14813', 'h_team': 'West Ham', 'a_team': 'Southampton', 'h_goals': '3', 'a_goals': '0', 'date': '2021-05-23 15:00:00', 'player_assisted': 'Kyle Walker-Peters', 'lastAction': 'Pass'}, {'id': '427514', 'minute': '0', 'result': 'SavedShot', 'X': '0.7240000152587891', 'Y': '0.7090000152587891', 'xG': '0.03432229906320572', 'player': 'James Ward-Prowse', 'h_a': 'h', 'player_id': '843', 'situation': 'DirectFreekick', 'season': '2021', 'shotType': 'RightFoot', 'match_id': '16392', 'h_team': 'Southampton', 'a_team': 'Manchester United', 'h_goals': '1', 'a_goals': '1', 'date': '2021-08-22 13:00:00', 'player_assisted': None, 'lastAction': 'Standard'}, {'id': '427536', 'minute': '78', 'result': 'SavedShot', 'X': '0.71', 'Y': '0.385', 'xG': '0.03775139898061752', 'player': 'James Ward-Prowse', 'h_a': 'h', 'player_id': '843', 'situation': 'DirectFreekick', 'season': '2021', 'shotType': 'RightFoot', 'match_id': '16392', 'h_team': 'Southampton', 'a_team': 'Manchester United', 'h_goals': '1', 'a_goals': '1', 'date': '2021-08-22 13:00:00', 'player_assisted': None, 'lastAction': 'Standard'}, {'id': '428732', 'minute': '13', 'result': 'MissedShots', 'X': '0.7559999847412109', 'Y': '0.4159999847412109', 'xG': '0.01837339997291565', 'player': 'James Ward-Prowse', 'h_a': 'a', 'player_id': '843', 'situation': 'OpenPlay', 'season': '2021', 'shotType': 'LeftFoot', 'match_id': '16397', 'h_team': 'Newcastle United', 'a_team': 'Southampton', 'h_goals': '2', 'a_goals': '2', 'date': '2021-08-28 14:00:00', 'player_assisted': 'Valentino Livramento', 'lastAction': 'Pass'}, {'id': '428739', 'minute': '38', 'result': 'SavedShot', 'X': '0.8719999694824219', 'Y': '0.8540000152587891', 'xG': '0.04458490014076233', 'player': 'James Ward-Prowse', 'h_a': 'a', 'player_id': '843', 'situation': 'DirectFreekick', 'season': '2021', 'shotType': 'RightFoot', 'match_id': '16397', 'h_team': 'Newcastle United', 'a_team': 'Southampton', 'h_goals': '2', 'a_goals': '2', 'date': '2021-08-28 14:00:00', 'player_assisted': None, 'lastAction': 'Standard'}, {'id': '428756', 'minute': '81', 'result': 'BlockedShot', 'X': '0.8130000305175781', 'Y': '0.4209999847412109', 'xG': '0.042836401611566544', 'player': 'James Ward-Prowse', 'h_a': 'a', 'player_id': '843', 'situation': 'OpenPlay', 'season': '2021', 'shotType': 'RightFoot', 'match_id': '16397', 'h_team': 'Newcastle United', 'a_team': 'Southampton', 'h_goals': '2', 'a_goals': '2', 'date': '2021-08-28 14:00:00', 'player_assisted': 'Mohamed Elyounoussi', 'lastAction': 'Pass'}, {'id': '428757', 'minute': '88', 'result': 'MissedShots', 'X': '0.750999984741211', 'Y': '0.5', 'xG': '0.01959490031003952', 'player': 'James Ward-Prowse', 'h_a': 'a', 'player_id': '843', 'situation': 'OpenPlay', 'season': '2021', 'shotType': 'RightFoot', 'match_id': '16397', 'h_team': 'Newcastle United', 'a_team': 'Southampton', 'h_goals': '2', 'a_goals': '2', 'date': '2021-08-28 14:00:00', 'player_assisted': 'Valentino Livramento', 'lastAction': 'Pass'}, {'id': '428760', 'minute': '95', 'result': 'Goal', 'X': '0.885', 'Y': '0.5', 'xG': '0.7611690163612366', 'player': 'James Ward-Prowse', 'h_a': 'a', 'player_id': '843', 'situation': 'Penalty', 'season': '2021', 'shotType': 'RightFoot', 'match_id': '16397', 'h_team': 'Newcastle United', 'a_team': 'Southampton', 'h_goals': '2', 'a_goals': '2', 'date': '2021-08-28 14:00:00', 'player_assisted': None, 'lastAction': 'Standard'}, {'id': '434101', 'minute': '69', 'result': 'SavedShot', 'X': '0.7290000152587891', 'Y': '0.7780000305175782', 'xG': '0.02954139932990074', 'player': 'James Ward-Prowse', 'h_a': 'h', 'player_id': '843', 'situation': 'DirectFreekick', 'season': '2021', 'shotType': 'RightFoot', 'match_id': '16433', 'h_team': 'Southampton', 'a_team': 'Wolverhampton Wanderers', 'h_goals': '0', 'a_goals': '1', 'date': '2021-09-26 13:00:00', 'player_assisted': None, 'lastAction': 'Standard'}, {'id': '434882', 'minute': '20', 'result': 'MissedShots', 'X': '0.7659999847412109', 'Y': '0.5359999847412109', 'xG': '0.021903200075030327', 'player': 'James Ward-Prowse', 'h_a': 'a', 'player_id': '843', 'situation': 'OpenPlay', 'season': '2021', 'shotType': 'RightFoot', 'match_id': '16438', 'h_team': 'Chelsea', 'a_team': 'Southampton', 'h_goals': '3', 'a_goals': '1', 'date': '2021-10-02 14:00:00', 'player_assisted': 'Theo Walcott', 'lastAction': 'Pass'}, {'id': '434891', 'minute': '60', 'result': 'Goal', 'X': '0.885', 'Y': '0.5', 'xG': '0.7611690163612366', 'player': 'James Ward-Prowse', 'h_a': 'a', 'player_id': '843', 'situation': 'Penalty', 'season': '2021', 'shotType': 'RightFoot', 'match_id': '16438', 'h_team': 'Chelsea', 'a_team': 'Southampton', 'h_goals': '3', 'a_goals': '1', 'date': '2021-10-02 14:00:00', 'player_assisted': None, 'lastAction': 'Standard'}, {'id': '440767', 'minute': '33', 'result': 'SavedShot', 'X': '0.7669999694824219', 'Y': '0.42700000762939455', 'xG': '0.03318890184164047', 'player': 'James Ward-Prowse', 'h_a': 'h', 'player_id': '843', 'situation': 'OpenPlay', 'season': '2021', 'shotType': 'RightFoot', 'match_id': '16484', 'h_team': 'Southampton', 'a_team': 'Aston Villa', 'h_goals': '1', 'a_goals': '0', 'date': '2021-11-05 20:00:00', 'player_assisted': 'Stuart Armstrong', 'lastAction': 'Pass'}, {'id': '442642', 'minute': '14', 'result': 'SavedShot', 'X': '0.835', 'Y': '0.625999984741211', 'xG': '0.039144501090049744', 'player': 'James Ward-Prowse', 'h_a': 'a', 'player_id': '843', 'situation': 'OpenPlay', 'season': '2021', 'shotType': 'LeftFoot', 'match_id': '16492', 'h_team': 'Norwich', 'a_team': 'Southampton', 'h_goals': '2', 'a_goals': '1', 'date': '2021-11-20 15:00:00', 'player_assisted': None, 'lastAction': 'Rebound'}, {'id': '442650', 'minute': '39', 'result': 'MissedShots', 'X': '0.7169999694824218', 'Y': '0.5690000152587891', 'xG': '0.01487599965184927', 'player': 'James Ward-Prowse', 'h_a': 'a', 'player_id': '843', 'situation': 'OpenPlay', 'season': '2021', 'shotType': 'RightFoot', 'match_id': '16492', 'h_team': 'Norwich', 'a_team': 'Southampton', 'h_goals': '2', 'a_goals': '1', 'date': '2021-11-20 15:00:00', 'player_assisted': None, 'lastAction': 'BallRecovery'}, {'id': '446177', 'minute': '52', 'result': 'MissedShots', 'X': '0.8669999694824219', 'Y': '0.8959999847412109', 'xG': '0.03533089905977249', 'player': 'James Ward-Prowse', 'h_a': 'h', 'player_id': '843', 'situation': 'DirectFreekick', 'season': '2021', 'shotType': 'RightFoot', 'match_id': '16521', 'h_team': 'Southampton', 'a_team': 'Brighton', 'h_goals': '1', 'a_goals': '1', 'date': '2021-12-04 15:00:00', 'player_assisted': None, 'lastAction': 'Standard'}, {'id': '446185', 'minute': '99', 'result': 'BlockedShot', 'X': '0.7859999847412109', 'Y': '0.40400001525878904', 'xG': '0.026224300265312195', 'player': 'James Ward-Prowse', 'h_a': 'h', 'player_id': '843', 'situation': 'OpenPlay', 'season': '2021', 'shotType': 'RightFoot', 'match_id': '16521', 'h_team': 'Southampton', 'a_team': 'Brighton', 'h_goals': '1', 'a_goals': '1', 'date': '2021-12-04 15:00:00', 'player_assisted': 'Valentino Livramento', 'lastAction': 'Pass'}, {'id': '447731', 'minute': '12', 'result': 'SavedShot', 'X': '0.7190000152587891', 'Y': '0.425', 'xG': '0.04368659853935242', 'player': 'James Ward-Prowse', 'h_a': 'a', 'player_id': '843', 'situation': 'DirectFreekick', 'season': '2021', 'shotType': 'RightFoot', 'match_id': '16526', 'h_team': 'Arsenal', 'a_team': 'Southampton', 'h_goals': '3', 'a_goals': '0', 'date': '2021-12-11 15:00:00', 'player_assisted': None, 'lastAction': 'Standard'}, {'id': '447732', 'minute': '17', 'result': 'MissedShots', 'X': '0.8190000152587891', 'Y': '0.7290000152587891', 'xG': '0.06772500276565552', 'player': 'James Ward-Prowse', 'h_a': 'a', 'player_id': '843', 'situation': 'DirectFreekick', 'season': '2021', 'shotType': 'RightFoot', 'match_id': '16526', 'h_team': 'Arsenal', 'a_team': 'Southampton', 'h_goals': '3', 'a_goals': '0', 'date': '2021-12-11 15:00:00', 'player_assisted': None, 'lastAction': 'Standard'}, {'id': '447736', 'minute': '45', 'result': 'BlockedShot', 'X': '0.8040000152587891', 'Y': '0.759000015258789', 'xG': '0.05189869925379753', 'player': 'James Ward-Prowse', 'h_a': 'a', 'player_id': '843', 'situation': 'DirectFreekick', 'season': '2021', 'shotType': 'RightFoot', 'match_id': '16526', 'h_team': 'Arsenal', 'a_team': 'Southampton', 'h_goals': '3', 'a_goals': '0', 'date': '2021-12-11 15:00:00', 'player_assisted': None, 'lastAction': 'Standard'}, {'id': '449088', 'minute': '31', 'result': 'Goal', 'X': '0.7369999694824219', 'Y': '0.5270000076293946', 'xG': '0.05550780147314072', 'player': 'James Ward-Prowse', 'h_a': 'a', 'player_id': '843', 'situation': 'DirectFreekick', 'season': '2021', 'shotType': 'RightFoot', 'match_id': '16542', 'h_team': 'Crystal Palace', 'a_team': 'Southampton', 'h_goals': '2', 'a_goals': '2', 'date': '2021-12-15 19:30:00', 'player_assisted': None, 'lastAction': 'Standard'}, {'id': '449090', 'minute': '37', 'result': 'BlockedShot', 'X': '0.784000015258789', 'Y': '0.35400001525878905', 'xG': '0.03584429994225502', 'player': 'James Ward-Prowse', 'h_a': 'a', 'player_id': '843', 'situation': 'OpenPlay', 'season': '2021', 'shotType': 'RightFoot', 'match_id': '16542', 'h_team': 'Crystal Palace', 'a_team': 'Southampton', 'h_goals': '2', 'a_goals': '2', 'date': '2021-12-15 19:30:00', 'player_assisted': None, 'lastAction': 'None'}, {'id': '449091', 'minute': '40', 'result': 'MissedShots', 'X': '0.7980000305175782', 'Y': '0.6309999847412109', 'xG': '0.035916298627853394', 'player': 'James Ward-Prowse', 'h_a': 'a', 'player_id': '843', 'situation': 'OpenPlay', 'season': '2021', 'shotType': 'RightFoot', 'match_id': '16542', 'h_team': 'Crystal Palace', 'a_team': 'Southampton', 'h_goals': '2', 'a_goals': '2', 'date': '2021-12-15 19:30:00', 'player_assisted': 'Kyle Walker-Peters', 'lastAction': 'Pass'}, {'id': '449100', 'minute': '74', 'result': 'BlockedShot', 'X': '0.795', 'Y': '0.6120000076293945', 'xG': '0.03318740054965019', 'player': 'James Ward-Prowse', 'h_a': 'a', 'player_id': '843', 'situation': 'OpenPlay', 'season': '2021', 'shotType': 'RightFoot', 'match_id': '16542', 'h_team': 'Crystal Palace', 'a_team': 'Southampton', 'h_goals': '2', 'a_goals': '2', 'date': '2021-12-15 19:30:00', 'player_assisted': None, 'lastAction': 'None'}, {'id': '450637', 'minute': '60', 'result': 'Goal', 'X': '0.885', 'Y': '0.5', 'xG': '0.7611690163612366', 'player': 'James Ward-Prowse', 'h_a': 'a', 'player_id': '843', 'situation': 'Penalty', 'season': '2021', 'shotType': 'RightFoot', 'match_id': '16564', 'h_team': 'West Ham', 'a_team': 'Southampton', 'h_goals': '2', 'a_goals': '3', 'date': '2021-12-26 15:00:00', 'player_assisted': None, 'lastAction': 'Standard'}, {'id': '450723', 'minute': '24', 'result': 'Goal', 'X': '0.8569999694824219', 'Y': '0.6459999847412109', 'xG': '0.053774598985910416', 'player': 'James Ward-Prowse', 'h_a': 'h', 'player_id': '843', 'situation': 'OpenPlay', 'season': '2021', 'shotType': 'RightFoot', 'match_id': '16575', 'h_team': 'Southampton', 'a_team': 'Tottenham', 'h_goals': '1', 'a_goals': '1', 'date': '2021-12-28 15:00:00', 'player_assisted': None, 'lastAction': 'None'}, {'id': '450730', 'minute': '53', 'result': 'SavedShot', 'X': '0.7980000305175782', 'Y': '0.285', 'xG': '0.016808100044727325', 'player': 'James Ward-Prowse', 'h_a': 'h', 'player_id': '843', 'situation': 'OpenPlay', 'season': '2021', 'shotType': 'LeftFoot', 'match_id': '16575', 'h_team': 'Southampton', 'a_team': 'Tottenham', 'h_goals': '1', 'a_goals': '1', 'date': '2021-12-28 15:00:00', 'player_assisted': 'Stuart Armstrong', 'lastAction': 'Pass'}, {'id': '452935', 'minute': '13', 'result': 'BlockedShot', 'X': '0.7469999694824219', 'Y': '0.445', 'xG': '0.02583179995417595', 'player': 'James Ward-Prowse', 'h_a': 'h', 'player_id': '843', 'situation': 'OpenPlay', 'season': '2021', 'shotType': 'RightFoot', 'match_id': '16551', 'h_team': 'Southampton', 'a_team': 'Brentford', 'h_goals': '4', 'a_goals': '1', 'date': '2022-01-11 21:45:00', 'player_assisted': 'Ibrahima Diallo', 'lastAction': 'Pass'}, {'id': '453279', 'minute': '47', 'result': 'SavedShot', 'X': '0.7240000152587891', 'Y': '0.5370000076293945', 'xG': '0.017208199948072433', 'player': 'James Ward-Prowse', 'h_a': 'a', 'player_id': '843', 'situation': 'OpenPlay', 'season': '2021', 'shotType': 'RightFoot', 'match_id': '16595', 'h_team': 'Wolverhampton Wanderers', 'a_team': 'Southampton', 'h_goals': '3', 'a_goals': '1', 'date': '2022-01-15 15:00:00', 'player_assisted': 'Mohammed Salisu', 'lastAction': 'Pass'}, {'id': '453284', 'minute': '70', 'result': 'MissedShots', 'X': '0.685', 'Y': '0.8809999847412109', 'xG': '0.021476199850440025', 'player': 'James Ward-Prowse', 'h_a': 'a', 'player_id': '843', 'situation': 'DirectFreekick', 'season': '2021', 'shotType': 'RightFoot', 'match_id': '16595', 'h_team': 'Wolverhampton Wanderers', 'a_team': 'Southampton', 'h_goals': '3', 'a_goals': '1', 'date': '2022-01-15 15:00:00', 'player_assisted': None, 'lastAction': 'Standard'}, {'id': '453286', 'minute': '83', 'result': 'Goal', 'X': '0.7090000152587891', 'Y': '0.5829999923706055', 'xG': '0.039241500198841095', 'player': 'James Ward-Prowse', 'h_a': 'a', 'player_id': '843', 'situation': 'DirectFreekick', 'season': '2021', 'shotType': 'RightFoot', 'match_id': '16595', 'h_team': 'Wolverhampton Wanderers', 'a_team': 'Southampton', 'h_goals': '3', 'a_goals': '1', 'date': '2022-01-15 15:00:00', 'player_assisted': None, 'lastAction': 'Standard'}, {'id': '456611', 'minute': '20', 'result': 'SavedShot', 'X': '0.7440000152587891', 'Y': '0.6309999847412109', 'xG': '0.016670899465680122', 'player': 'James Ward-Prowse', 'h_a': 'a', 'player_id': '843', 'situation': 'OpenPlay', 'season': '2021', 'shotType': 'RightFoot', 'match_id': '16613', 'h_team': 'Tottenham', 'a_team': 'Southampton', 'h_goals': '2', 'a_goals': '3', 'date': '2022-02-09 19:45:00', 'player_assisted': 'Mohamed Elyounoussi', 'lastAction': 'Pass'}, {'id': '456630', 'minute': '67', 'result': 'BlockedShot', 'X': '0.7340000152587891', 'Y': '0.5179999923706055', 'xG': '0.01519909966737032', 'player': 'James Ward-Prowse', 'h_a': 'a', 'player_id': '843', 'situation': 'OpenPlay', 'season': '2021', 'shotType': 'RightFoot', 'match_id': '16613', 'h_team': 'Tottenham', 'a_team': 'Southampton', 'h_goals': '2', 'a_goals': '3', 'date': '2022-02-09 19:45:00', 'player_assisted': None, 'lastAction': 'None'}, {'id': '456804', 'minute': '8', 'result': 'BlockedShot', 'X': '0.8569999694824219', 'Y': '0.4590000152587891', 'xG': '0.08266119658946991', 'player': 'James Ward-Prowse', 'h_a': 'a', 'player_id': '843', 'situation': 'OpenPlay', 'season': '2021', 'shotType': 'RightFoot', 'match_id': '16621', 'h_team': 'Manchester United', 'a_team': 'Southampton', 'h_goals': '1', 'a_goals': '1', 'date': '2022-02-12 12:30:00', 'player_assisted': 'Che Adams', 'lastAction': 'BallTouch'}, {'id': '458332', 'minute': '17', 'result': 'SavedShot', 'X': '0.73', 'Y': '0.3129999923706055', 'xG': '0.038131799548864365', 'player': 'James Ward-Prowse', 'h_a': 'h', 'player_id': '843', 'situation': 'DirectFreekick', 'season': '2021', 'shotType': 'RightFoot', 'match_id': '16633', 'h_team': 'Southampton', 'a_team': 'Everton', 'h_goals': '2', 'a_goals': '0', 'date': '2022-02-19 15:00:00', 'player_assisted': None, 'lastAction': 'Standard'}, {'id': '459383', 'minute': '20', 'result': 'MissedShots', 'X': '0.7780000305175782', 'Y': '0.5720000076293945', 'xG': '0.031851399689912796', 'player': 'James Ward-Prowse', 'h_a': 'h', 'player_id': '843', 'situation': 'OpenPlay', 'season': '2021', 'shotType': 'RightFoot', 'match_id': '16644', 'h_team': 'Southampton', 'a_team': 'Norwich', 'h_goals': '2', 'a_goals': '0', 'date': '2022-02-25 20:00:00', 'player_assisted': None, 'lastAction': 'None'}, {'id': '459411', 'minute': '83', 'result': 'MissedShots', 'X': '0.715999984741211', 'Y': '0.4279999923706055', 'xG': '0.042560700327157974', 'player': 'James Ward-Prowse', 'h_a': 'h', 'player_id': '843', 'situation': 'DirectFreekick', 'season': '2021', 'shotType': 'RightFoot', 'match_id': '16644', 'h_team': 'Southampton', 'a_team': 'Norwich', 'h_goals': '2', 'a_goals': '0', 'date': '2022-02-25 20:00:00', 'player_assisted': None, 'lastAction': 'Standard'}, {'id': '461053', 'minute': '65', 'result': 'BlockedShot', 'X': '0.8209999847412109', 'Y': '0.42400001525878905', 'xG': '0.048047199845314026', 'player': 'James Ward-Prowse', 'h_a': 'a', 'player_id': '843', 'situation': 'OpenPlay', 'season': '2021', 'shotType': 'RightFoot', 'match_id': '16646', 'h_team': 'Aston Villa', 'a_team': 'Southampton', 'h_goals': '4', 'a_goals': '0', 'date': '2022-03-05 15:00:00', 'player_assisted': 'Valentino Livramento', 'lastAction': 'Pass'}, {'id': '461056', 'minute': '79', 'result': 'BlockedShot', 'X': '0.7769999694824219', 'Y': '0.745', 'xG': '0.045354798436164856', 'player': 'James Ward-Prowse', 'h_a': 'a', 'player_id': '843', 'situation': 'DirectFreekick', 'season': '2021', 'shotType': 'RightFoot', 'match_id': '16646', 'h_team': 'Aston Villa', 'a_team': 'Southampton', 'h_goals': '4', 'a_goals': '0', 'date': '2022-03-05 15:00:00', 'player_assisted': None, 'lastAction': 'Standard'}, {'id': '463112', 'minute': '85', 'result': 'MissedShots', 'X': '0.8190000152587891', 'Y': '0.6919999694824219', 'xG': '0.08319339901208878', 'player': 'James Ward-Prowse', 'h_a': 'h', 'player_id': '843', 'situation': 'DirectFreekick', 'season': '2021', 'shotType': 'RightFoot', 'match_id': '16664', 'h_team': 'Southampton', 'a_team': 'Watford', 'h_goals': '1', 'a_goals': '2', 'date': '2022-03-13 14:00:00', 'player_assisted': None, 'lastAction': 'Standard'}, {'id': '465280', 'minute': '26', 'result': 'BlockedShot', 'X': '0.764000015258789', 'Y': '0.4540000152587891', 'xG': '0.026556700468063354', 'player': 'James Ward-Prowse', 'h_a': 'a', 'player_id': '843', 'situation': 'OpenPlay', 'season': '2021', 'shotType': 'RightFoot', 'match_id': '16681', 'h_team': 'Leeds', 'a_team': 'Southampton', 'h_goals': '1', 'a_goals': '1', 'date': '2022-04-02 14:00:00', 'player_assisted': 'Armando Broja', 'lastAction': 'Pass'}, {'id': '465286', 'minute': '48', 'result': 'Goal', 'X': '0.7780000305175782', 'Y': '0.64', 'xG': '0.06991259753704071', 'player': 'James Ward-Prowse', 'h_a': 'a', 'player_id': '843', 'situation': 'DirectFreekick', 'season': '2021', 'shotType': 'RightFoot', 'match_id': '16681', 'h_team': 'Leeds', 'a_team': 'Southampton', 'h_goals': '1', 'a_goals': '1', 'date': '2022-04-02 14:00:00', 'player_assisted': None, 'lastAction': 'Standard'}, {'id': '468180', 'minute': '91', 'result': 'SavedShot', 'X': '0.8269999694824218', 'Y': '0.805', 'xG': '0.04737510159611702', 'player': 'James Ward-Prowse', 'h_a': 'h', 'player_id': '843', 'situation': 'DirectFreekick', 'season': '2021', 'shotType': 'RightFoot', 'match_id': '16700', 'h_team': 'Southampton', 'a_team': 'Arsenal', 'h_goals': '1', 'a_goals': '0', 'date': '2022-04-16 14:00:00', 'player_assisted': None, 'lastAction': 'Standard'}, {'id': '469697', 'minute': '70', 'result': 'SavedShot', 'X': '0.745', 'Y': '0.33799999237060546', 'xG': '0.046764399856328964', 'player': 'James Ward-Prowse', 'h_a': 'a', 'player_id': '843', 'situation': 'DirectFreekick', 'season': '2021', 'shotType': 'RightFoot', 'match_id': '16667', 'h_team': 'Burnley', 'a_team': 'Southampton', 'h_goals': '2', 'a_goals': '0', 'date': '2022-04-21 18:45:00', 'player_assisted': None, 'lastAction': 'Standard'}, {'id': '470475', 'minute': '48', 'result': 'Goal', 'X': '0.7440000152587891', 'Y': '0.49400001525878906', 'xG': '0.06059899926185608', 'player': 'James Ward-Prowse', 'h_a': 'a', 'player_id': '843', 'situation': 'DirectFreekick', 'season': '2021', 'shotType': 'RightFoot', 'match_id': '16713', 'h_team': 'Brighton', 'a_team': 'Southampton', 'h_goals': '2', 'a_goals': '2', 'date': '2022-04-24 13:00:00', 'player_assisted': None, 'lastAction': 'Standard'}, {'id': '470477', 'minute': '50', 'result': 'BlockedShot', 'X': '0.7659999847412109', 'Y': '0.3629999923706055', 'xG': '0.020670399069786072', 'player': 'James Ward-Prowse', 'h_a': 'a', 'player_id': '843', 'situation': 'OpenPlay', 'season': '2021', 'shotType': 'RightFoot', 'match_id': '16713', 'h_team': 'Brighton', 'a_team': 'Southampton', 'h_goals': '2', 'a_goals': '2', 'date': '2022-04-24 13:00:00', 'player_assisted': 'Nathan Redmond', 'lastAction': 'Pass'}, {'id': '470476', 'minute': '50', 'result': 'BlockedShot', 'X': '0.7580000305175781', 'Y': '0.6270000076293946', 'xG': '0.020291900262236595', 'player': 'James Ward-Prowse', 'h_a': 'a', 'player_id': '843', 'situation': 'OpenPlay', 'season': '2021', 'shotType': 'RightFoot', 'match_id': '16713', 'h_team': 'Brighton', 'a_team': 'Southampton', 'h_goals': '2', 'a_goals': '2', 'date': '2022-04-24 13:00:00', 'player_assisted': 'Nathan Tella', 'lastAction': 'Pass'}, {'id': '470480', 'minute': '53', 'result': 'Goal', 'X': '0.7880000305175782', 'Y': '0.4979999923706055', 'xG': '0.036666400730609894', 'player': 'James Ward-Prowse', 'h_a': 'a', 'player_id': '843', 'situation': 'OpenPlay', 'season': '2021', 'shotType': 'RightFoot', 'match_id': '16713', 'h_team': 'Brighton', 'a_team': 'Southampton', 'h_goals': '2', 'a_goals': '2', 'date': '2022-04-24 13:00:00', 'player_assisted': 'Oriol Romeu', 'lastAction': 'Pass'}, {'id': '470488', 'minute': '88', 'result': 'MissedShots', 'X': '0.7659999847412109', 'Y': '0.5270000076293946', 'xG': '0.025919899344444275', 'player': 'James Ward-Prowse', 'h_a': 'a', 'player_id': '843', 'situation': 'OpenPlay', 'season': '2021', 'shotType': 'RightFoot', 'match_id': '16713', 'h_team': 'Brighton', 'a_team': 'Southampton', 'h_goals': '2', 'a_goals': '2', 'date': '2022-04-24 13:00:00', 'player_assisted': None, 'lastAction': 'None'}, {'id': '471635', 'minute': '70', 'result': 'MissedShots', 'X': '0.7869999694824219', 'Y': '0.40700000762939453', 'xG': '0.03173710033297539', 'player': 'James Ward-Prowse', 'h_a': 'h', 'player_id': '843', 'situation': 'OpenPlay', 'season': '2021', 'shotType': 'RightFoot', 'match_id': '16720', 'h_team': 'Southampton', 'a_team': 'Crystal Palace', 'h_goals': '1', 'a_goals': '2', 'date': '2022-04-30 14:00:00', 'player_assisted': 'Oriol Romeu', 'lastAction': 'Pass'}, {'id': '474713', 'minute': '21', 'result': 'SavedShot', 'X': '0.759000015258789', 'Y': '0.585999984741211', 'xG': '0.01551089994609356', 'player': 'James Ward-Prowse', 'h_a': 'a', 'player_id': '843', 'situation': 'OpenPlay', 'season': '2021', 'shotType': 'RightFoot', 'match_id': '16734', 'h_team': 'Brentford', 'a_team': 'Southampton', 'h_goals': '3', 'a_goals': '0', 'date': '2022-05-07 14:00:00', 'player_assisted': None, 'lastAction': 'None'}, {'id': '474716', 'minute': '30', 'result': 'BlockedShot', 'X': '0.8159999847412109', 'Y': '0.5070000076293946', 'xG': '0.1660580039024353', 'player': 'James Ward-Prowse', 'h_a': 'a', 'player_id': '843', 'situation': 'DirectFreekick', 'season': '2021', 'shotType': 'RightFoot', 'match_id': '16734', 'h_team': 'Brentford', 'a_team': 'Southampton', 'h_goals': '3', 'a_goals': '0', 'date': '2022-05-07 14:00:00', 'player_assisted': None, 'lastAction': 'Standard'}, {'id': '474729', 'minute': '74', 'result': 'BlockedShot', 'X': '0.7290000152587891', 'Y': '0.625999984741211', 'xG': '0.04406990110874176', 'player': 'James Ward-Prowse', 'h_a': 'a', 'player_id': '843', 'situation': 'DirectFreekick', 'season': '2021', 'shotType': 'RightFoot', 'match_id': '16734', 'h_team': 'Brentford', 'a_team': 'Southampton', 'h_goals': '3', 'a_goals': '0', 'date': '2022-05-07 14:00:00', 'player_assisted': None, 'lastAction': 'Standard'}, {'id': '476915', 'minute': '50', 'result': 'BlockedShot', 'X': '0.72', 'Y': '0.649000015258789', 'xG': '0.03854620084166527', 'player': 'James Ward-Prowse', 'h_a': 'h', 'player_id': '843', 'situation': 'DirectFreekick', 'season': '2021', 'shotType': 'RightFoot', 'match_id': '16740', 'h_team': 'Southampton', 'a_team': 'Liverpool', 'h_goals': '1', 'a_goals': '2', 'date': '2022-05-17 18:45:00', 'player_assisted': None, 'lastAction': 'Standard'}, {'id': '477882', 'minute': '29', 'result': 'MissedShots', 'X': '0.7630000305175781', 'Y': '0.47700000762939454', 'xG': '0.025944599881768227', 'player': 'James Ward-Prowse', 'h_a': 'a', 'player_id': '843', 'situation': 'OpenPlay', 'season': '2021', 'shotType': 'RightFoot', 'match_id': '16752', 'h_team': 'Leicester', 'a_team': 'Southampton', 'h_goals': '4', 'a_goals': '1', 'date': '2022-05-22 15:00:00', 'player_assisted': 'Mohamed Elyounoussi', 'lastAction': 'Pass'}, {'id': '477892', 'minute': '78', 'result': 'Goal', 'X': '0.885', 'Y': '0.5', 'xG': '0.7611690163612366', 'player': 'James Ward-Prowse', 'h_a': 'a', 'player_id': '843', 'situation': 'Penalty', 'season': '2021', 'shotType': 'RightFoot', 'match_id': '16752', 'h_team': 'Leicester', 'a_team': 'Southampton', 'h_goals': '4', 'a_goals': '1', 'date': '2022-05-22 15:00:00', 'player_assisted': None, 'lastAction': 'Standard'}, {'id': '477894', 'minute': '84', 'result': 'MissedShots', 'X': '0.7809999847412109', 'Y': '0.34700000762939454', 'xG': '0.06874839961528778', 'player': 'James Ward-Prowse', 'h_a': 'a', 'player_id': '843', 'situation': 'DirectFreekick', 'season': '2021', 'shotType': 'RightFoot', 'match_id': '16752', 'h_team': 'Leicester', 'a_team': 'Southampton', 'h_goals': '4', 'a_goals': '1', 'date': '2022-05-22 15:00:00', 'player_assisted': None, 'lastAction': 'Standard'}, {'id': '479322', 'minute': '11', 'result': 'Goal', 'X': '0.8469999694824218', 'Y': '0.45299999237060545', 'xG': '0.04496359825134277', 'player': 'James Ward-Prowse', 'h_a': 'a', 'player_id': '843', 'situation': 'OpenPlay', 'season': '2022', 'shotType': 'RightFoot', 'match_id': '18207', 'h_team': 'Tottenham', 'a_team': 'Southampton', 'h_goals': '4', 'a_goals': '1', 'date': '2022-08-06 14:00:00', 'player_assisted': 'Moussa Djenepo', 'lastAction': 'Chipped'}, {'id': '479335', 'minute': '58', 'result': 'MissedShots', 'X': '0.795', 'Y': '0.38599998474121094', 'xG': '0.012899099849164486', 'player': 'James Ward-Prowse', 'h_a': 'a', 'player_id': '843', 'situation': 'OpenPlay', 'season': '2022', 'shotType': 'RightFoot', 'match_id': '18207', 'h_team': 'Tottenham', 'a_team': 'Southampton', 'h_goals': '4', 'a_goals': '1', 'date': '2022-08-06 14:00:00', 'player_assisted': 'Jan Bednarek', 'lastAction': 'Aerial'}, {'id': '480351', 'minute': '86', 'result': 'MissedShots', 'X': '0.705', 'Y': '0.6469999694824219', 'xG': '0.034206800162792206', 'player': 'James Ward-Prowse', 'h_a': 'h', 'player_id': '843', 'situation': 'DirectFreekick', 'season': '2022', 'shotType': 'RightFoot', 'match_id': '18215', 'h_team': 'Southampton', 'a_team': 'Leeds', 'h_goals': '2', 'a_goals': '2', 'date': '2022-08-13 14:00:00', 'player_assisted': None, 'lastAction': 'Standard'}, {'id': '485922', 'minute': '47', 'result': 'BlockedShot', 'X': '0.815', 'Y': '0.51', 'xG': '0.044934701174497604', 'player': 'James Ward-Prowse', 'h_a': 'a', 'player_id': '843', 'situation': 'OpenPlay', 'season': '2022', 'shotType': 'RightFoot', 'match_id': '18256', 'h_team': 'Wolverhampton Wanderers', 'a_team': 'Southampton', 'h_goals': '1', 'a_goals': '0', 'date': '2022-09-03 14:00:00', 'player_assisted': 'Joe Ayodele-Aribo', 'lastAction': 'Pass'}, {'id': '485925', 'minute': '59', 'result': 'SavedShot', 'X': '0.7869999694824219', 'Y': '0.3970000076293945', 'xG': '0.08820980042219162', 'player': 'James Ward-Prowse', 'h_a': 'a', 'player_id': '843', 'situation': 'DirectFreekick', 'season': '2022', 'shotType': 'RightFoot', 'match_id': '18256', 'h_team': 'Wolverhampton Wanderers', 'a_team': 'Southampton', 'h_goals': '1', 'a_goals': '0', 'date': '2022-09-03 14:00:00', 'player_assisted': None, 'lastAction': 'Standard'}, {'id': '488469', 'minute': '25', 'result': 'BlockedShot', 'X': '0.8080000305175781', 'Y': '0.565', 'xG': '0.049834299832582474', 'player': 'James Ward-Prowse', 'h_a': 'a', 'player_id': '843', 'situation': 'OpenPlay', 'season': '2022', 'shotType': 'RightFoot', 'match_id': '18272', 'h_team': 'Aston Villa', 'a_team': 'Southampton', 'h_goals': '1', 'a_goals': '0', 'date': '2022-09-16 19:00:00', 'player_assisted': 'Romain Perraud', 'lastAction': 'BallTouch'}, {'id': '488478', 'minute': '47', 'result': 'BlockedShot', 'X': '0.715', 'Y': '0.580999984741211', 'xG': '0.013204500079154968', 'player': 'James Ward-Prowse', 'h_a': 'a', 'player_id': '843', 'situation': 'OpenPlay', 'season': '2022', 'shotType': 'RightFoot', 'match_id': '18272', 'h_team': 'Aston Villa', 'a_team': 'Southampton', 'h_goals': '1', 'a_goals': '0', 'date': '2022-09-16 19:00:00', 'player_assisted': None, 'lastAction': 'None'}, {'id': '490122', 'minute': '53', 'result': 'BlockedShot', 'X': '0.8209999847412109', 'Y': '0.48200000762939454', 'xG': '0.04611850157380104', 'player': 'James Ward-Prowse', 'h_a': 'h', 'player_id': '843', 'situation': 'OpenPlay', 'season': '2022', 'shotType': 'RightFoot', 'match_id': '18290', 'h_team': 'Southampton', 'a_team': 'Everton', 'h_goals': '1', 'a_goals': '2', 'date': '2022-10-01 14:00:00', 'player_assisted': None, 'lastAction': 'Rebound'}, {'id': '490136', 'minute': '83', 'result': 'BlockedShot', 'X': '0.7369999694824219', 'Y': '0.575999984741211', 'xG': '0.05264069885015488', 'player': 'James Ward-Prowse', 'h_a': 'h', 'player_id': '843', 'situation': 'DirectFreekick', 'season': '2022', 'shotType': 'RightFoot', 'match_id': '18290', 'h_team': 'Southampton', 'a_team': 'Everton', 'h_goals': '1', 'a_goals': '2', 'date': '2022-10-01 14:00:00', 'player_assisted': None, 'lastAction': 'Standard'}, {'id': '494403', 'minute': '76', 'result': 'MissedShots', 'X': '0.7909999847412109', 'Y': '0.5659999847412109', 'xG': '0.048723701387643814', 'player': 'James Ward-Prowse', 'h_a': 'a', 'player_id': '843', 'situation': 'OpenPlay', 'season': '2022', 'shotType': 'LeftFoot', 'match_id': '18313', 'h_team': 'Bournemouth', 'a_team': 'Southampton', 'h_goals': '0', 'a_goals': '1', 'date': '2022-10-19 18:30:00', 'player_assisted': 'Adam Armstrong', 'lastAction': 'Pass'}, {'id': '496502', 'minute': '68', 'result': 'MissedShots', 'X': '0.7290000152587891', 'Y': '0.46700000762939453', 'xG': '0.019171399995684624', 'player': 'James Ward-Prowse', 'h_a': 'a', 'player_id': '843', 'situation': 'OpenPlay', 'season': '2022', 'shotType': 'RightFoot', 'match_id': '18336', 'h_team': 'Crystal Palace', 'a_team': 'Southampton', 'h_goals': '1', 'a_goals': '0', 'date': '2022-10-29 14:00:00', 'player_assisted': 'Che Adams', 'lastAction': 'Pass'}, {'id': '498652', 'minute': '46', 'result': 'SavedShot', 'X': '0.715', 'Y': '0.59', 'xG': '0.04113470017910004', 'player': 'James Ward-Prowse', 'h_a': 'h', 'player_id': '843', 'situation': 'DirectFreekick', 'season': '2022', 'shotType': 'RightFoot', 'match_id': '18348', 'h_team': 'Southampton', 'a_team': 'Newcastle United', 'h_goals': '1', 'a_goals': '4', 'date': '2022-11-06 14:00:00', 'player_assisted': None, 'lastAction': 'Standard'}, {'id': '500939', 'minute': '25', 'result': 'MissedShots', 'X': '0.764000015258789', 'Y': '0.61', 'xG': '0.06591960042715073', 'player': 'James Ward-Prowse', 'h_a': 'h', 'player_id': '843', 'situation': 'DirectFreekick', 'season': '2022', 'shotType': 'RightFoot', 'match_id': '18371', 'h_team': 'Southampton', 'a_team': 'Brighton', 'h_goals': '1', 'a_goals': '3', 'date': '2022-12-26 15:00:00', 'player_assisted': None, 'lastAction': 'Standard'}, {'id': '500955', 'minute': '72', 'result': 'Goal', 'X': '0.9219999694824219', 'Y': '0.46900001525878904', 'xG': '0.3684599995613098', 'player': 'James Ward-Prowse', 'h_a': 'h', 'player_id': '843', 'situation': 'SetPiece', 'season': '2022', 'shotType': 'Head', 'match_id': '18371', 'h_team': 'Southampton', 'a_team': 'Brighton', 'h_goals': '1', 'a_goals': '3', 'date': '2022-12-26 15:00:00', 'player_assisted': None, 'lastAction': 'Rebound'}, {'id': '500954', 'minute': '72', 'result': 'SavedShot', 'X': '0.885', 'Y': '0.5', 'xG': '0.7611690163612366', 'player': 'James Ward-Prowse', 'h_a': 'h', 'player_id': '843', 'situation': 'Penalty', 'season': '2022', 'shotType': 'RightFoot', 'match_id': '18371', 'h_team': 'Southampton', 'a_team': 'Brighton', 'h_goals': '1', 'a_goals': '3', 'date': '2022-12-26 15:00:00', 'player_assisted': None, 'lastAction': 'Standard'}, {'id': '501712', 'minute': '31', 'result': 'OwnGoal', 'X': '0.10800000190734864', 'Y': '0.46', 'xG': '0', 'player': 'James Ward-Prowse', 'h_a': 'a', 'player_id': '843', 'situation': 'FromCorner', 'season': '2022', 'shotType': 'RightFoot', 'match_id': '18374', 'h_team': 'Fulham', 'a_team': 'Southampton', 'h_goals': '2', 'a_goals': '1', 'date': '2022-12-31 15:00:00', 'player_assisted': None, 'lastAction': 'None'}, {'id': '501716', 'minute': '55', 'result': 'Goal', 'X': '0.7290000152587891', 'Y': '0.4809999847412109', 'xG': '0.05098289996385574', 'player': 'James Ward-Prowse', 'h_a': 'a', 'player_id': '843', 'situation': 'DirectFreekick', 'season': '2022', 'shotType': 'RightFoot', 'match_id': '18374', 'h_team': 'Fulham', 'a_team': 'Southampton', 'h_goals': '2', 'a_goals': '1', 'date': '2022-12-31 15:00:00', 'player_assisted': None, 'lastAction': 'Standard'}, {'id': '502453', 'minute': '18', 'result': 'MissedShots', 'X': '0.7709999847412109', 'Y': '0.5740000152587891', 'xG': '0.07811550050973892', 'player': 'James Ward-Prowse', 'h_a': 'h', 'player_id': '843', 'situation': 'DirectFreekick', 'season': '2022', 'shotType': 'RightFoot', 'match_id': '18391', 'h_team': 'Southampton', 'a_team': 'Nottingham Forest', 'h_goals': '0', 'a_goals': '1', 'date': '2023-01-04 19:30:00', 'player_assisted': None, 'lastAction': 'Standard'}, {'id': '503614', 'minute': '45', 'result': 'Goal', 'X': '0.91', 'Y': '0.4370000076293945', 'xG': '0.3953999876976013', 'player': 'James Ward-Prowse', 'h_a': 'a', 'player_id': '843', 'situation': 'OpenPlay', 'season': '2022', 'shotType': 'RightFoot', 'match_id': '18396', 'h_team': 'Everton', 'a_team': 'Southampton', 'h_goals': '1', 'a_goals': '2', 'date': '2023-01-14 15:00:00', 'player_assisted': 'Che Adams', 'lastAction': 'TakeOn'}, {'id': '503613', 'minute': '46', 'result': 'SavedShot', 'X': '0.8490000152587891', 'Y': '0.6179999923706054', 'xG': '0.10672999918460846', 'player': 'James Ward-Prowse', 'h_a': 'a', 'player_id': '843', 'situation': 'OpenPlay', 'season': '2022', 'shotType': 'RightFoot', 'match_id': '18396', 'h_team': 'Everton', 'a_team': 'Southampton', 'h_goals': '1', 'a_goals': '2', 'date': '2023-01-14 15:00:00', 'player_assisted': 'Samuel Edozie', 'lastAction': 'Pass'}, {'id': '503619', 'minute': '63', 'result': 'SavedShot', 'X': '0.7240000152587891', 'Y': '0.524000015258789', 'xG': '0.015800699591636658', 'player': 'James Ward-Prowse', 'h_a': 'a', 'player_id': '843', 'situation': 'OpenPlay', 'season': '2022', 'shotType': 'RightFoot', 'match_id': '18396', 'h_team': 'Everton', 'a_team': 'Southampton', 'h_goals': '1', 'a_goals': '2', 'date': '2023-01-14 15:00:00', 'player_assisted': 'Carlos Alcaraz', 'lastAction': 'Pass'}, {'id': '503623', 'minute': '73', 'result': 'BlockedShot', 'X': '0.7240000152587891', 'Y': '0.5029999923706054', 'xG': '0.048454400151968', 'player': 'James Ward-Prowse', 'h_a': 'a', 'player_id': '843', 'situation': 'DirectFreekick', 'season': '2022', 'shotType': 'RightFoot', 'match_id': '18396', 'h_team': 'Everton', 'a_team': 'Southampton', 'h_goals': '1', 'a_goals': '2', 'date': '2023-01-14 15:00:00', 'player_assisted': None, 'lastAction': 'Standard'}, {'id': '503624', 'minute': '77', 'result': 'Goal', 'X': '0.7730000305175782', 'Y': '0.6669999694824219', 'xG': '0.06016780063509941', 'player': 'James Ward-Prowse', 'h_a': 'a', 'player_id': '843', 'situation': 'DirectFreekick', 'season': '2022', 'shotType': 'RightFoot', 'match_id': '18396', 'h_team': 'Everton', 'a_team': 'Southampton', 'h_goals': '1', 'a_goals': '2', 'date': '2023-01-14 15:00:00', 'player_assisted': None, 'lastAction': 'Standard'}, {'id': '507077', 'minute': '56', 'result': 'MissedShots', 'X': '0.7919999694824219', 'Y': '0.3940000152587891', 'xG': '0.029519300907850266', 'player': 'James Ward-Prowse', 'h_a': 'a', 'player_id': '843', 'situation': 'OpenPlay', 'season': '2022', 'shotType': 'RightFoot', 'match_id': '18413', 'h_team': 'Brentford', 'a_team': 'Southampton', 'h_goals': '3', 'a_goals': '0', 'date': '2023-02-04 15:00:00', 'player_assisted': 'James Bree', 'lastAction': 'Pass'}, {'id': '507085', 'minute': '74', 'result': 'MissedShots', 'X': '0.7380000305175781', 'Y': '0.47', 'xG': '0.016550499945878983', 'player': 'James Ward-Prowse', 'h_a': 'a', 'player_id': '843', 'situation': 'OpenPlay', 'season': '2022', 'shotType': 'RightFoot', 'match_id': '18413', 'h_team': 'Brentford', 'a_team': 'Southampton', 'h_goals': '3', 'a_goals': '0', 'date': '2023-02-04 15:00:00', 'player_assisted': 'Paul Onuachu', 'lastAction': 'BallTouch'}, {'id': '508409', 'minute': '64', 'result': 'BlockedShot', 'X': '0.755', 'Y': '0.38599998474121094', 'xG': '0.019068099558353424', 'player': 'James Ward-Prowse', 'h_a': 'h', 'player_id': '843', 'situation': 'SetPiece', 'season': '2022', 'shotType': 'RightFoot', 'match_id': '18430', 'h_team': 'Southampton', 'a_team': 'Wolverhampton Wanderers', 'h_goals': '1', 'a_goals': '2', 'date': '2023-02-11 15:00:00', 'player_assisted': 'Romain Perraud', 'lastAction': 'Pass'}, {'id': '509666', 'minute': '45', 'result': 'Goal', 'X': '0.754000015258789', 'Y': '0.5870000076293945', 'xG': '0.06223990023136139', 'player': 'James Ward-Prowse', 'h_a': 'a', 'player_id': '843', 'situation': 'DirectFreekick', 'season': '2022', 'shotType': 'RightFoot', 'match_id': '18435', 'h_team': 'Chelsea', 'a_team': 'Southampton', 'h_goals': '0', 'a_goals': '1', 'date': '2023-02-18 15:00:00', 'player_assisted': None, 'lastAction': 'Standard'}, {'id': '510851', 'minute': '65', 'result': 'SavedShot', 'X': '0.7230000305175781', 'Y': '0.5020000076293946', 'xG': '0.016147200018167496', 'player': 'James Ward-Prowse', 'h_a': 'a', 'player_id': '843', 'situation': 'OpenPlay', 'season': '2022', 'shotType': 'RightFoot', 'match_id': '18446', 'h_team': 'Leeds', 'a_team': 'Southampton', 'h_goals': '1', 'a_goals': '0', 'date': '2023-02-25 15:00:00', 'player_assisted': 'Sékou Mara', 'lastAction': 'BallTouch'}, {'id': '512337', 'minute': '31', 'result': 'SavedShot', 'X': '0.885', 'Y': '0.5', 'xG': '0.7611690163612366', 'player': 'James Ward-Prowse', 'h_a': 'h', 'player_id': '843', 'situation': 'Penalty', 'season': '2022', 'shotType': 'RightFoot', 'match_id': '18460', 'h_team': 'Southampton', 'a_team': 'Leicester', 'h_goals': '1', 'a_goals': '0', 'date': '2023-03-04 17:30:00', 'player_assisted': None, 'lastAction': 'Standard'}, {'id': '512342', 'minute': '47', 'result': 'SavedShot', 'X': '0.785', 'Y': '0.8469999694824218', 'xG': '0.0315232016146183', 'player': 'James Ward-Prowse', 'h_a': 'h', 'player_id': '843', 'situation': 'DirectFreekick', 'season': '2022', 'shotType': 'RightFoot', 'match_id': '18460', 'h_team': 'Southampton', 'a_team': 'Leicester', 'h_goals': '1', 'a_goals': '0', 'date': '2023-03-04 17:30:00', 'player_assisted': None, 'lastAction': 'Standard'}, {'id': '512346', 'minute': '67', 'result': 'BlockedShot', 'X': '0.715999984741211', 'Y': '0.575', 'xG': '0.01679770089685917', 'player': 'James Ward-Prowse', 'h_a': 'h', 'player_id': '843', 'situation': 'OpenPlay', 'season': '2022', 'shotType': 'RightFoot', 'match_id': '18460', 'h_team': 'Southampton', 'a_team': 'Leicester', 'h_goals': '1', 'a_goals': '0', 'date': '2023-03-04 17:30:00', 'player_assisted': None, 'lastAction': 'None'}, {'id': '513913', 'minute': '35', 'result': 'BlockedShot', 'X': '0.7290000152587891', 'Y': '0.4620000076293945', 'xG': '0.05043359845876694', 'player': 'James Ward-Prowse', 'h_a': 'a', 'player_id': '843', 'situation': 'DirectFreekick', 'season': '2022', 'shotType': 'RightFoot', 'match_id': '18468', 'h_team': 'Manchester United', 'a_team': 'Southampton', 'h_goals': '0', 'a_goals': '0', 'date': '2023-03-12 14:00:00', 'player_assisted': None, 'lastAction': 'Standard'}, {'id': '513916', 'minute': '53', 'result': 'ShotOnPost', 'X': '0.7669999694824219', 'Y': '0.40299999237060546', 'xG': '0.0705597996711731', 'player': 'James Ward-Prowse', 'h_a': 'a', 'player_id': '843', 'situation': 'DirectFreekick', 'season': '2022', 'shotType': 'RightFoot', 'match_id': '18468', 'h_team': 'Manchester United', 'a_team': 'Southampton', 'h_goals': '0', 'a_goals': '0', 'date': '2023-03-12 14:00:00', 'player_assisted': None, 'lastAction': 'Standard'}, {'id': '514523', 'minute': '35', 'result': 'BlockedShot', 'X': '0.7340000152587891', 'Y': '0.4229999923706055', 'xG': '0.010274400003254414', 'player': 'James Ward-Prowse', 'h_a': 'h', 'player_id': '843', 'situation': 'OpenPlay', 'season': '2022', 'shotType': 'RightFoot', 'match_id': '18265', 'h_team': 'Southampton', 'a_team': 'Brentford', 'h_goals': '0', 'a_goals': '2', 'date': '2023-03-15 19:30:00', 'player_assisted': None, 'lastAction': 'Aerial'}, {'id': '514526', 'minute': '62', 'result': 'MissedShots', 'X': '0.7780000305175782', 'Y': '0.27700000762939453', 'xG': '0.05021139979362488', 'player': 'James Ward-Prowse', 'h_a': 'h', 'player_id': '843', 'situation': 'DirectFreekick', 'season': '2022', 'shotType': 'RightFoot', 'match_id': '18265', 'h_team': 'Southampton', 'a_team': 'Brentford', 'h_goals': '0', 'a_goals': '2', 'date': '2023-03-15 19:30:00', 'player_assisted': None, 'lastAction': 'Standard'}, {'id': '514995', 'minute': '2', 'result': 'MissedShots', 'X': '0.8130000305175781', 'Y': '0.455', 'xG': '0.039395399391651154', 'player': 'James Ward-Prowse', 'h_a': 'h', 'player_id': '843', 'situation': 'OpenPlay', 'season': '2022', 'shotType': 'RightFoot', 'match_id': '18480', 'h_team': 'Southampton', 'a_team': 'Tottenham', 'h_goals': '3', 'a_goals': '3', 'date': '2023-03-18 15:00:00', 'player_assisted': None, 'lastAction': 'Rebound'}, {'id': '514997', 'minute': '9', 'result': 'MissedShots', 'X': '0.8040000152587891', 'Y': '0.365', 'xG': '0.031143000349402428', 'player': 'James Ward-Prowse', 'h_a': 'h', 'player_id': '843', 'situation': 'OpenPlay', 'season': '2022', 'shotType': 'LeftFoot', 'match_id': '18480', 'h_team': 'Southampton', 'a_team': 'Tottenham', 'h_goals': '3', 'a_goals': '3', 'date': '2023-03-18 15:00:00', 'player_assisted': 'Che Adams', 'lastAction': 'Pass'}, {'id': '515011', 'minute': '50', 'result': 'MissedShots', 'X': '0.710999984741211', 'Y': '0.5570000076293945', 'xG': '0.04117700085043907', 'player': 'James Ward-Prowse', 'h_a': 'h', 'player_id': '843', 'situation': 'DirectFreekick', 'season': '2022', 'shotType': 'RightFoot', 'match_id': '18480', 'h_team': 'Southampton', 'a_team': 'Tottenham', 'h_goals': '3', 'a_goals': '3', 'date': '2023-03-18 15:00:00', 'player_assisted': None, 'lastAction': 'Standard'}, {'id': '515018', 'minute': '68', 'result': 'SavedShot', 'X': '0.6980000305175781', 'Y': '0.6619999694824219', 'xG': '0.012768000364303589', 'player': 'James Ward-Prowse', 'h_a': 'h', 'player_id': '843', 'situation': 'OpenPlay', 'season': '2022', 'shotType': 'RightFoot', 'match_id': '18480', 'h_team': 'Southampton', 'a_team': 'Tottenham', 'h_goals': '3', 'a_goals': '3', 'date': '2023-03-18 15:00:00', 'player_assisted': 'Romeo Lavia', 'lastAction': 'Pass'}, {'id': '515026', 'minute': '92', 'result': 'Goal', 'X': '0.885', 'Y': '0.5', 'xG': '0.7611690163612366', 'player': 'James Ward-Prowse', 'h_a': 'h', 'player_id': '843', 'situation': 'Penalty', 'season': '2022', 'shotType': 'RightFoot', 'match_id': '18480', 'h_team': 'Southampton', 'a_team': 'Tottenham', 'h_goals': '3', 'a_goals': '3', 'date': '2023-03-18 15:00:00', 'player_assisted': None, 'lastAction': 'Standard'}, {'id': '525537', 'minute': '93', 'result': 'SavedShot', 'X': '0.9130000305175782', 'Y': '0.655', 'xG': '0.012484366074204445', 'player': 'James Ward-Prowse', 'h_a': 'a', 'player_id': '843', 'situation': 'FromCorner', 'season': '2022', 'shotType': 'Head', 'match_id': '18548', 'h_team': 'Nottingham Forest', 'a_team': 'Southampton', 'h_goals': '4', 'a_goals': '3', 'date': '2023-05-08 19:00:00', 'player_assisted': 'Ainsley Maitland-Niles', 'lastAction': 'Chipped'}, {'id': '525538', 'minute': '95', 'result': 'Goal', 'X': '0.885', 'Y': '0.5', 'xG': '0.7611688375473022', 'player': 'James Ward-Prowse', 'h_a': 'a', 'player_id': '843', 'situation': 'Penalty', 'season': '2022', 'shotType': 'RightFoot', 'match_id': '18548', 'h_team': 'Nottingham Forest', 'a_team': 'Southampton', 'h_goals': '4', 'a_goals': '3', 'date': '2023-05-08 19:00:00', 'player_assisted': None, 'lastAction': 'Standard'}, {'id': '527962', 'minute': '71', 'result': 'BlockedShot', 'X': '0.840999984741211', 'Y': '0.8590000152587891', 'xG': '0.03845875337719917', 'player': 'James Ward-Prowse', 'h_a': 'a', 'player_id': '843', 'situation': 'DirectFreekick', 'season': '2022', 'shotType': 'RightFoot', 'match_id': '18563', 'h_team': 'Brighton', 'a_team': 'Southampton', 'h_goals': '3', 'a_goals': '1', 'date': '2023-05-21 13:00:00', 'player_assisted': None, 'lastAction': 'Standard'}, {'id': '529892', 'minute': '18', 'result': 'Goal', 'X': '0.8690000152587891', 'Y': '0.5570000076293945', 'xG': '0.09558911621570587', 'player': 'James Ward-Prowse', 'h_a': 'h', 'player_id': '843', 'situation': 'OpenPlay', 'season': '2022', 'shotType': 'RightFoot', 'match_id': '18581', 'h_team': 'Southampton', 'a_team': 'Liverpool', 'h_goals': '4', 'a_goals': '4', 'date': '2023-05-28 15:30:00', 'player_assisted': 'Carlos Alcaraz', 'lastAction': 'Pass'}, {'id': '529898', 'minute': '30', 'result': 'SavedShot', 'X': '0.8159999847412109', 'Y': '0.8640000152587891', 'xG': '0.033821314573287964', 'player': 'James Ward-Prowse', 'h_a': 'h', 'player_id': '843', 'situation': 'DirectFreekick', 'season': '2022', 'shotType': 'RightFoot', 'match_id': '18581', 'h_team': 'Southampton', 'a_team': 'Liverpool', 'h_goals': '4', 'a_goals': '4', 'date': '2023-05-28 15:30:00', 'player_assisted': None, 'lastAction': 'Standard'}, {'id': '533856', 'minute': '50', 'result': 'BlockedShot', 'X': '0.7419999694824219', 'Y': '0.56', 'xG': '0.020264754071831703', 'player': 'James Ward-Prowse', 'h_a': 'h', 'player_id': '843', 'situation': 'OpenPlay', 'season': '2023', 'shotType': 'RightFoot', 'match_id': '22293', 'h_team': 'West Ham', 'a_team': 'Chelsea', 'h_goals': '3', 'a_goals': '1', 'date': '2023-08-20 15:30:00', 'player_assisted': 'Lucas Paquetá', 'lastAction': 'Pass'}, {'id': '534782', 'minute': '18', 'result': 'Goal', 'X': '0.9769999694824218', 'Y': '0.45299999237060545', 'xG': '0.8582800030708313', 'player': 'James Ward-Prowse', 'h_a': 'a', 'player_id': '843', 'situation': 'OpenPlay', 'season': '2023', 'shotType': 'RightFoot', 'match_id': '22301', 'h_team': 'Brighton', 'a_team': 'West Ham', 'h_goals': '1', 'a_goals': '3', 'date': '2023-08-26 16:30:00', 'player_assisted': None, 'lastAction': 'Rebound'}, {'id': '534781', 'minute': '18', 'result': 'BlockedShot', 'X': '0.9319999694824219', 'Y': '0.545', 'xG': '0.15586480498313904', 'player': 'James Ward-Prowse', 'h_a': 'a', 'player_id': '843', 'situation': 'OpenPlay', 'season': '2023', 'shotType': 'LeftFoot', 'match_id': '22301', 'h_team': 'Brighton', 'a_team': 'West Ham', 'h_goals': '1', 'a_goals': '3', 'date': '2023-08-26 16:30:00', 'player_assisted': 'Michail Antonio', 'lastAction': 'Pass'}, {'id': '534803', 'minute': '67', 'result': 'SavedShot', 'X': '0.7680000305175781', 'Y': '0.5570000076293945', 'xG': '0.026833074167370796', 'player': 'James Ward-Prowse', 'h_a': 'a', 'player_id': '843', 'situation': 'OpenPlay', 'season': '2023', 'shotType': 'RightFoot', 'match_id': '22301', 'h_team': 'Brighton', 'a_team': 'West Ham', 'h_goals': '1', 'a_goals': '3', 'date': '2023-08-26 16:30:00', 'player_assisted': 'Said Benrahma', 'lastAction': 'Pass'}, {'id': '537609', 'minute': '34', 'result': 'SavedShot', 'X': '0.8109999847412109', 'Y': '0.4', 'xG': '0.04874338582158089', 'player': 'James Ward-Prowse', 'h_a': 'h', 'player_id': '843', 'situation': 'OpenPlay', 'season': '2023', 'shotType': 'RightFoot', 'match_id': '21937', 'h_team': 'West Ham', 'a_team': 'Manchester City', 'h_goals': '1', 'a_goals': '3', 'date': '2023-09-16 14:00:00', 'player_assisted': 'Emerson', 'lastAction': 'Pass'}, {'id': '537610', 'minute': '35', 'result': 'Goal', 'X': '0.9290000152587891', 'Y': '0.5359999847412109', 'xG': '0.48241332173347473', 'player': 'James Ward-Prowse', 'h_a': 'h', 'player_id': '843', 'situation': 'OpenPlay', 'season': '2023', 'shotType': 'Head', 'match_id': '21937', 'h_team': 'West Ham', 'a_team': 'Manchester City', 'h_goals': '1', 'a_goals': '3', 'date': '2023-09-16 14:00:00', 'player_assisted': 'Vladimir Coufal', 'lastAction': 'Cross'}, {'id': '541254', 'minute': '18', 'result': 'SavedShot', 'X': '0.795', 'Y': '0.32599998474121095', 'xG': '0.07250095903873444', 'player': 'James Ward-Prowse', 'h_a': 'h', 'player_id': '843', 'situation': 'DirectFreekick', 'season': '2023', 'shotType': 'RightFoot', 'match_id': '21960', 'h_team': 'West Ham', 'a_team': 'Sheffield United', 'h_goals': '2', 'a_goals': '0', 'date': '2023-09-30 14:00:00', 'player_assisted': None, 'lastAction': 'Standard'}, {'id': '541263', 'minute': '41', 'result': 'SavedShot', 'X': '0.8619999694824219', 'Y': '0.5320000076293945', 'xG': '0.018839700147509575', 'player': 'James Ward-Prowse', 'h_a': 'h', 'player_id': '843', 'situation': 'OpenPlay', 'season': '2023', 'shotType': 'Head', 'match_id': '21960', 'h_team': 'West Ham', 'a_team': 'Sheffield United', 'h_goals': '2', 'a_goals': '0', 'date': '2023-09-30 14:00:00', 'player_assisted': 'Vladimir Coufal', 'lastAction': 'Aerial'}, {'id': '543079', 'minute': '79', 'result': 'MissedShots', 'X': '0.7969999694824219', 'Y': '0.624000015258789', 'xG': '0.09229016304016113', 'player': 'James Ward-Prowse', 'h_a': 'h', 'player_id': '843', 'situation': 'DirectFreekick', 'season': '2023', 'shotType': 'RightFoot', 'match_id': '21973', 'h_team': 'West Ham', 'a_team': 'Newcastle United', 'h_goals': '2', 'a_goals': '2', 'date': '2023-10-08 13:00:00', 'player_assisted': None, 'lastAction': 'Standard'}, {'id': '544769', 'minute': '41', 'result': 'BlockedShot', 'X': '0.79', 'Y': '0.36', 'xG': '0.07968739420175552', 'player': 'James Ward-Prowse', 'h_a': 'a', 'player_id': '843', 'situation': 'DirectFreekick', 'season': '2023', 'shotType': 'RightFoot', 'match_id': '21976', 'h_team': 'Aston Villa', 'a_team': 'West Ham', 'h_goals': '4', 'a_goals': '1', 'date': '2023-10-22 15:30:00', 'player_assisted': None, 'lastAction': 'Standard'}, {'id': '546877', 'minute': '78', 'result': 'BlockedShot', 'X': '0.865999984741211', 'Y': '0.27399999618530274', 'xG': '0.029922183603048325', 'player': 'James Ward-Prowse', 'h_a': 'a', 'player_id': '843', 'situation': 'OpenPlay', 'season': '2023', 'shotType': 'RightFoot', 'match_id': '21995', 'h_team': 'Brentford', 'a_team': 'West Ham', 'h_goals': '3', 'a_goals': '2', 'date': '2023-11-04 15:00:00', 'player_assisted': 'Jarrod Bowen', 'lastAction': 'BallRecovery'}, {'id': '548753', 'minute': '55', 'result': 'MissedShots', 'X': '0.905', 'Y': '0.88', 'xG': '0.04265140742063522', 'player': 'James Ward-Prowse', 'h_a': 'h', 'player_id': '843', 'situation': 'DirectFreekick', 'season': '2023', 'shotType': 'RightFoot', 'match_id': '22013', 'h_team': 'West Ham', 'a_team': 'Nottingham Forest', 'h_goals': '3', 'a_goals': '2', 'date': '2023-11-12 14:00:00', 'player_assisted': None, 'lastAction': 'Standard'}, {'id': '548757', 'minute': '71', 'result': 'BlockedShot', 'X': '0.7369999694824219', 'Y': '0.4809999847412109', 'xG': '0.018973181024193764', 'player': 'James Ward-Prowse', 'h_a': 'h', 'player_id': '843', 'situation': 'OpenPlay', 'season': '2023', 'shotType': 'RightFoot', 'match_id': '22013', 'h_team': 'West Ham', 'a_team': 'Nottingham Forest', 'h_goals': '3', 'a_goals': '2', 'date': '2023-11-12 14:00:00', 'player_assisted': 'Mohammed Kudus', 'lastAction': 'Pass'}, {'id': '548763', 'minute': '96', 'result': 'BlockedShot', 'X': '0.8040000152587891', 'Y': '0.475', 'xG': '0.0876803770661354', 'player': 'James Ward-Prowse', 'h_a': 'h', 'player_id': '843', 'situation': 'OpenPlay', 'season': '2023', 'shotType': 'RightFoot', 'match_id': '22013', 'h_team': 'West Ham', 'a_team': 'Nottingham Forest', 'h_goals': '3', 'a_goals': '2', 'date': '2023-11-12 14:00:00', 'player_assisted': 'Lucas Paquetá', 'lastAction': 'Pass'}, {'id': '549699', 'minute': '54', 'result': 'BlockedShot', 'X': '0.8569999694824219', 'Y': '0.575999984741211', 'xG': '0.025828005746006966', 'player': 'James Ward-Prowse', 'h_a': 'a', 'player_id': '843', 'situation': 'OpenPlay', 'season': '2023', 'shotType': 'RightFoot', 'match_id': '22016', 'h_team': 'Burnley', 'a_team': 'West Ham', 'h_goals': '1', 'a_goals': '2', 'date': '2023-11-25 15:00:00', 'player_assisted': None, 'lastAction': 'Aerial'}, {'id': '551768', 'minute': '59', 'result': 'BlockedShot', 'X': '0.7680000305175781', 'Y': '0.35200000762939454', 'xG': '0.06125284358859062', 'player': 'James Ward-Prowse', 'h_a': 'h', 'player_id': '843', 'situation': 'DirectFreekick', 'season': '2023', 'shotType': 'RightFoot', 'match_id': '22034', 'h_team': 'West Ham', 'a_team': 'Crystal Palace', 'h_goals': '1', 'a_goals': '1', 'date': '2023-12-03 14:00:00', 'player_assisted': None, 'lastAction': 'Standard'}, {'id': '552473', 'minute': '73', 'result': 'Goal', 'X': '0.9269999694824219', 'Y': '0.5259999847412109', 'xG': '0.5380217432975769', 'player': 'James Ward-Prowse', 'h_a': 'a', 'player_id': '843', 'situation': 'OpenPlay', 'season': '2023', 'shotType': 'LeftFoot', 'match_id': '22041', 'h_team': 'Tottenham', 'a_team': 'West Ham', 'h_goals': '1', 'a_goals': '2', 'date': '2023-12-07 20:15:00', 'player_assisted': None, 'lastAction': 'None'}, {'id': '552472', 'minute': '73', 'result': 'ShotOnPost', 'X': '0.8190000152587891', 'Y': '0.544000015258789', 'xG': '0.05812818929553032', 'player': 'James Ward-Prowse', 'h_a': 'a', 'player_id': '843', 'situation': 'OpenPlay', 'season': '2023', 'shotType': 'LeftFoot', 'match_id': '22041', 'h_team': 'Tottenham', 'a_team': 'West Ham', 'h_goals': '1', 'a_goals': '2', 'date': '2023-12-07 20:15:00', 'player_assisted': None, 'lastAction': 'Goal'}, {'id': '553415', 'minute': '5', 'result': 'SavedShot', 'X': '0.665', 'Y': '0.37', 'xG': '0.026970509439706802', 'player': 'James Ward-Prowse', 'h_a': 'a', 'player_id': '843', 'situation': 'DirectFreekick', 'season': '2023', 'shotType': 'RightFoot', 'match_id': '22049', 'h_team': 'Fulham', 'a_team': 'West Ham', 'h_goals': '5', 'a_goals': '0', 'date': '2023-12-10 14:00:00', 'player_assisted': None, 'lastAction': 'Standard'}, {'id': '554766', 'minute': '18', 'result': 'SavedShot', 'X': '0.6940000152587891', 'Y': '0.6730000305175782', 'xG': '0.030213475227355957', 'player': 'James Ward-Prowse', 'h_a': 'h', 'player_id': '843', 'situation': 'DirectFreekick', 'season': '2023', 'shotType': 'RightFoot', 'match_id': '22064', 'h_team': 'West Ham', 'a_team': 'Wolverhampton Wanderers', 'h_goals': '3', 'a_goals': '0', 'date': '2023-12-17 14:00:00', 'player_assisted': None, 'lastAction': 'Standard'}, {'id': '554787', 'minute': '80', 'result': 'MissedShots', 'X': '0.765', 'Y': '0.6329999923706054', 'xG': '0.06233489140868187', 'player': 'James Ward-Prowse', 'h_a': 'h', 'player_id': '843', 'situation': 'DirectFreekick', 'season': '2023', 'shotType': 'RightFoot', 'match_id': '22064', 'h_team': 'West Ham', 'a_team': 'Wolverhampton Wanderers', 'h_goals': '3', 'a_goals': '0', 'date': '2023-12-17 14:00:00', 'player_assisted': None, 'lastAction': 'Standard'}, {'id': '556117', 'minute': '4', 'result': 'MissedShots', 'X': '0.8030000305175782', 'Y': '0.534000015258789', 'xG': '0.04480624943971634', 'player': 'James Ward-Prowse', 'h_a': 'h', 'player_id': '843', 'situation': 'OpenPlay', 'season': '2023', 'shotType': 'RightFoot', 'match_id': '22072', 'h_team': 'West Ham', 'a_team': 'Manchester United', 'h_goals': '2', 'a_goals': '0', 'date': '2023-12-23 12:30:00', 'player_assisted': None, 'lastAction': 'None'}]\n"
     ]
    }
   ],
   "source": [
    "script_tag = soup.find('script', string=lambda x: x and 'var shotsData' in x)\n",
    "\n",
    "javascript_content = script_tag.text if script_tag else \"\"\n",
    "\n",
    "# Extract data from shotsData\n",
    "start_index = javascript_content.find(\"JSON.parse('\") + len(\"JSON.parse('\")\n",
    "end_index = javascript_content.find(\"')\")\n",
    "\n",
    "# Unescape Unicode and decode the JavaScript string\n",
    "escaped_json = javascript_content[start_index:end_index]\n",
    "unescaped_json = bytes(escaped_json, 'utf-8').decode('unicode_escape')\n",
    "\n",
    "# Parse the JSON data\n",
    "shots_data = json.loads(unescaped_json)\n",
    "\n",
    "# Now, shots_data contains the data in var shotsData\n",
    "print(shots_data)"
   ]
  },
  {
   "cell_type": "code",
   "execution_count": 4,
   "metadata": {},
   "outputs": [
    {
     "data": {
      "text/html": [
       "<div>\n",
       "<style scoped>\n",
       "    .dataframe tbody tr th:only-of-type {\n",
       "        vertical-align: middle;\n",
       "    }\n",
       "\n",
       "    .dataframe tbody tr th {\n",
       "        vertical-align: top;\n",
       "    }\n",
       "\n",
       "    .dataframe thead th {\n",
       "        text-align: right;\n",
       "    }\n",
       "</style>\n",
       "<table border=\"1\" class=\"dataframe\">\n",
       "  <thead>\n",
       "    <tr style=\"text-align: right;\">\n",
       "      <th></th>\n",
       "      <th>X</th>\n",
       "      <th>Y</th>\n",
       "    </tr>\n",
       "  </thead>\n",
       "  <tbody>\n",
       "    <tr>\n",
       "      <th>count</th>\n",
       "      <td>382.000000</td>\n",
       "      <td>382.000000</td>\n",
       "    </tr>\n",
       "    <tr>\n",
       "      <th>mean</th>\n",
       "      <td>0.799026</td>\n",
       "      <td>0.519416</td>\n",
       "    </tr>\n",
       "    <tr>\n",
       "      <th>std</th>\n",
       "      <td>0.089054</td>\n",
       "      <td>0.130092</td>\n",
       "    </tr>\n",
       "    <tr>\n",
       "      <th>min</th>\n",
       "      <td>0.063000</td>\n",
       "      <td>0.249000</td>\n",
       "    </tr>\n",
       "    <tr>\n",
       "      <th>25%</th>\n",
       "      <td>0.744250</td>\n",
       "      <td>0.429500</td>\n",
       "    </tr>\n",
       "    <tr>\n",
       "      <th>50%</th>\n",
       "      <td>0.790500</td>\n",
       "      <td>0.500500</td>\n",
       "    </tr>\n",
       "    <tr>\n",
       "      <th>75%</th>\n",
       "      <td>0.862000</td>\n",
       "      <td>0.590000</td>\n",
       "    </tr>\n",
       "    <tr>\n",
       "      <th>max</th>\n",
       "      <td>0.977000</td>\n",
       "      <td>0.930000</td>\n",
       "    </tr>\n",
       "  </tbody>\n",
       "</table>\n",
       "</div>"
      ],
      "text/plain": [
       "                X           Y\n",
       "count  382.000000  382.000000\n",
       "mean     0.799026    0.519416\n",
       "std      0.089054    0.130092\n",
       "min      0.063000    0.249000\n",
       "25%      0.744250    0.429500\n",
       "50%      0.790500    0.500500\n",
       "75%      0.862000    0.590000\n",
       "max      0.977000    0.930000"
      ]
     },
     "execution_count": 4,
     "metadata": {},
     "output_type": "execute_result"
    }
   ],
   "source": [
    "df_jwp_shots = pd.DataFrame(shots_data)\n",
    "\n",
    "# Summary stats \n",
    "# Checking X and Y coordinates are between 0 and 1\n",
    "df_jwp_shots.loc[:,[\"X\", \"Y\"]].astype(float).describe()"
   ]
  },
  {
   "cell_type": "code",
   "execution_count": 5,
   "metadata": {},
   "outputs": [
    {
     "name": "stdout",
     "output_type": "stream",
     "text": [
      "Images resized successfully.\n"
     ]
    },
    {
     "data": {
      "image/png": "[encoded data removed]",
      "text/plain": [
       "<Figure size 800x600 with 1 Axes>"
      ]
     },
     "metadata": {},
     "output_type": "display_data"
    }
   ],
   "source": [
    "# Define pitch dimensions\n",
    "pitch_length = 130.0\n",
    "pitch_width = 90.0\n",
    "\n",
    "#Create figure\n",
    "fig=plt.figure()\n",
    "fig.set_size_inches(8, 6)\n",
    "fig.set_facecolor('#4CAF50')\n",
    "ax=fig.add_subplot(1,1,1)\n",
    "\n",
    "#Pitch Outline & Centre Line\n",
    "plt.plot([0,0],[0,90], color=\"white\")\n",
    "plt.plot([0,130],[90,90], color=\"white\")\n",
    "plt.plot([130,130],[90,0], color=\"white\")\n",
    "plt.plot([130,0],[0,0], color=\"white\")\n",
    "plt.plot([65,65],[0,90], color=\"white\")\n",
    "\n",
    "#Left Penalty Area\n",
    "plt.plot([16.5,16.5],[65,25],color=\"white\")\n",
    "plt.plot([0,16.5],[65,65],color=\"white\")\n",
    "plt.plot([16.5,0],[25,25],color=\"white\")\n",
    "\n",
    "#Right Penalty Area\n",
    "plt.plot([130,113.5],[65,65],color=\"white\")\n",
    "plt.plot([113.5,113.5],[65,25],color=\"white\")\n",
    "plt.plot([113.5,130],[25,25],color=\"white\")\n",
    "\n",
    "#Left 6-yard Box\n",
    "plt.plot([0,5.5],[54,54],color=\"white\")\n",
    "plt.plot([5.5,5.5],[54,36],color=\"white\")\n",
    "plt.plot([5.5,0.5],[36,36],color=\"white\")\n",
    "\n",
    "#Right 6-yard Box\n",
    "plt.plot([130,124.5],[54,54],color=\"white\")\n",
    "plt.plot([124.5,124.5],[54,36],color=\"white\")\n",
    "plt.plot([124.5,130],[36,36],color=\"white\")\n",
    "\n",
    "#Prepare Circles\n",
    "centreCircle = plt.Circle((65,45),9.15,color=\"white\",fill=False)\n",
    "centreSpot = plt.Circle((65,45),0.8,color=\"white\")\n",
    "leftPenSpot = plt.Circle((11,45),0.8,color=\"white\")\n",
    "rightPenSpot = plt.Circle((119,45),0.8,color=\"white\")\n",
    "\n",
    "#Draw Circles\n",
    "ax.add_patch(centreCircle)\n",
    "ax.add_patch(centreSpot)\n",
    "ax.add_patch(leftPenSpot)\n",
    "ax.add_patch(rightPenSpot)\n",
    "\n",
    "#Prepare Arcs\n",
    "leftArc = Arc((11,45),height=18.3,width=18.3,angle=0,theta1=310,theta2=50,color=\"white\")\n",
    "rightArc = Arc((119,45),height=18.3,width=18.3,angle=0,theta1=130,theta2=230,color=\"white\")\n",
    "\n",
    "#Draw Arcs\n",
    "ax.add_patch(leftArc)\n",
    "ax.add_patch(rightArc)\n",
    "\n",
    "#Tidy Axes\n",
    "plt.axis('off')\n",
    "\n",
    "\n",
    "# Goals scored\n",
    "df_jwp_goals = df_jwp_shots[df_jwp_shots[\"result\"] == \"Goal\"]\n",
    "df_jwp_goals_2223 = df_jwp_goals.query(\"season == '2022'\").reset_index()\n",
    "\n",
    "# Setting team colours\n",
    "team_colors = {\n",
    "    'Liverpool': 'Red',\n",
    "    'Nottingham Forest': 'Red',\n",
    "    'Tottenham': 'White',\n",
    "    'Chelsea': 'Blue',\n",
    "    'Everton': 'Blue',\n",
    "    'Fulham': 'White',\n",
    "    'Brighton': 'Light_blue'\n",
    "}\n",
    "\n",
    "from PIL import Image\n",
    "\n",
    "# Specify the desired width and height for the scaled images\n",
    "desired_width = 100\n",
    "desired_height = 100\n",
    "\n",
    "# Load and resize the images\n",
    "image_paths = ['Liverpool.png', 'Everton.png', 'Tottenham.png', 'Chelsea.png', 'Fulham.png', \n",
    "               'Brighton.png', 'Nottingham Forest.png']  # Replace with the paths to your .png files\n",
    "for image_path in image_paths:\n",
    "    image = Image.open(f'./images/{image_path}')\n",
    "    resized_image = image.resize((desired_width, desired_height), Image.LANCZOS)  # Use LANCZOS for anti-aliasing\n",
    "    resized_image.save(f\"./images/resized_{image_path}\", optimize=True, quality=95)  # Save the resized image with a new name\n",
    "\n",
    "print(\"Images resized successfully.\")\n",
    "\n",
    "\n",
    "# Plot Parameters\n",
    "X = df_jwp_goals_2223['X'].astype(float) * 100 * (130/100)\n",
    "Y = df_jwp_goals_2223['Y'].astype(float) * 100 * (90/100)\n",
    "team_names =  pd.Series(np.where(df_jwp_goals_2223[\"h_team\"] == \"Southampton\", \n",
    "                                 df_jwp_goals_2223[\"a_team\"], \n",
    "                                 df_jwp_goals_2223[\"h_team\"]), \n",
    "                                 name=\"team_names\")\n",
    "oppo_colour = team_names.map(team_colors)\n",
    "\n",
    "# Load the team badge image\n",
    "team_badges = [mpimg.imread(f'./images/resized_{team}.png') for team in team_names]\n",
    "\n",
    "# Display the image on the pitch at its respective position\n",
    "image_size = 3  # Adjust the size of the displayed images\n",
    "\n",
    "for goal, unused in enumerate(df_jwp_goals_2223[\"result\"]):\n",
    "    \n",
    "    badge = mpimg.imread(f'./images/resized_{team_names[goal]}.png')\n",
    "    x = X[goal]\n",
    "    y = Y[goal]\n",
    "\n",
    "    ax.imshow(badge, extent=[x - image_size, x + image_size, y - image_size, y + image_size], alpha=1.0, aspect='auto')\n",
    "\n",
    "    # Set x-axis and y-axis limits for the specific axes\n",
    "    ax.set_xlim(0, 130)\n",
    "    ax.set_ylim(0, 90)\n",
    "\n",
    "\n",
    "# Save the figure\n",
    "plt.savefig('../images/jwp_goal_map_2223.png')"
   ]
  },
  {
   "cell_type": "code",
   "execution_count": 6,
   "metadata": {},
   "outputs": [
    {
     "name": "stdout",
     "output_type": "stream",
     "text": [
      "Images resized successfully.\n"
     ]
    },
    {
     "data": {
      "application/vnd.plotly.v1+json": {
       "config": {
        "plotlyServerURL": "https://plot.ly"
       },
       "data": [
        {
         "line": {
          "color": "white"
         },
         "mode": "lines",
         "type": "scatter",
         "x": [
          0,
          0,
          130,
          130,
          0
         ],
         "y": [
          0,
          90,
          90,
          0,
          0
         ]
        },
        {
         "line": {
          "color": "white"
         },
         "mode": "lines",
         "type": "scatter",
         "x": [
          65,
          65
         ],
         "y": [
          0,
          90
         ]
        },
        {
         "line": {
          "color": "white"
         },
         "mode": "lines",
         "type": "scatter",
         "x": [
          0,
          16.5,
          16.5,
          0,
          0
         ],
         "y": [
          65,
          65,
          25,
          25,
          65
         ]
        },
        {
         "line": {
          "color": "white"
         },
         "mode": "lines",
         "type": "scatter",
         "x": [
          130,
          113.5,
          113.5,
          130,
          130
         ],
         "y": [
          65,
          65,
          25,
          25,
          65
         ]
        },
        {
         "line": {
          "color": "white"
         },
         "mode": "lines",
         "type": "scatter",
         "x": [
          0,
          5.5,
          5.5,
          0,
          0
         ],
         "y": [
          54,
          54,
          36,
          36,
          54
         ]
        },
        {
         "line": {
          "color": "white"
         },
         "mode": "lines",
         "type": "scatter",
         "x": [
          130,
          124.5,
          124.5,
          130,
          130
         ],
         "y": [
          54,
          54,
          36,
          36,
          54
         ]
        },
        {
         "marker": {
          "color": "rgba(0,0,0,0)",
          "line": {
           "color": "white",
           "width": 2
          },
          "size": 80
         },
         "mode": "markers",
         "showlegend": false,
         "type": "scatter",
         "x": [
          65
         ],
         "y": [
          45
         ]
        },
        {
         "marker": {
          "color": "white",
          "line": {
           "color": "white"
          },
          "size": 6
         },
         "mode": "markers",
         "showlegend": false,
         "type": "scatter",
         "x": [
          65
         ],
         "y": [
          45
         ]
        },
        {
         "marker": {
          "color": "white",
          "line": {
           "color": "white"
          },
          "size": 6
         },
         "mode": "markers",
         "showlegend": false,
         "type": "scatter",
         "x": [
          11
         ],
         "y": [
          45
         ]
        },
        {
         "marker": {
          "color": "white",
          "line": {
           "color": "white"
          },
          "size": 6
         },
         "mode": "markers",
         "showlegend": false,
         "type": "scatter",
         "x": [
          119
         ],
         "y": [
          45
         ]
        },
        {
         "line": {
          "color": "white"
         },
         "mode": "lines",
         "type": "scatter",
         "x": [
          16.76301325726367,
          17.00831489906615,
          17.249884424594676,
          17.487646755408598,
          17.721527996321818,
          17.95145545836901,
          18.177357681396924,
          18.3991644562738,
          18.616806846709984,
          18.830217210682925,
          19.03932922145993,
          19.24407788821213,
          19.444399576213286,
          19.640232026617085,
          19.831514375806826,
          20.018187174311528,
          20.200192405282433,
          20.377473502524353,
          20.549975368076115,
          20.717644389334694,
          20.880428455717695,
          21.03827697485906,
          21.19114088833284,
          21.338972686900316,
          21.48172642527559,
          21.61935773640511,
          21.751823845256705,
          21.87908358211384,
          22.0010973953709,
          22.117827363825615,
          22.22923720846478,
          22.335292303739525,
          22.435959688326786,
          22.53120807537345,
          22.62100786222016,
          22.70533113960166,
          22.784151700320816,
          22.85744504739367,
          22.92518840166298,
          22.98736070887783,
          23.043942646237184,
          23.09491662839531,
          23.140266812927187,
          23.179979105252258,
          23.214041163014937,
          23.242442399920545,
          23.265173989025477,
          23.282228865480555,
          23.29360172872675,
          23.299289044142558,
          23.299289044142558,
          23.29360172872675,
          23.282228865480555,
          23.265173989025477,
          23.242442399920545,
          23.214041163014937,
          23.179979105252254,
          23.140266812927187,
          23.094916628395307,
          23.043942646237188,
          22.98736070887783,
          22.92518840166298,
          22.857445047393668,
          22.784151700320816,
          22.705331139601657,
          22.62100786222016,
          22.531208075373446,
          22.435959688326786,
          22.335292303739525,
          22.22923720846478,
          22.11782736382561,
          22.0010973953709,
          21.87908358211384,
          21.751823845256705,
          21.619357736405103,
          21.48172642527559,
          21.338972686900313,
          21.19114088833284,
          21.038276974859055,
          20.8804284557177,
          20.717644389334687,
          20.54997536807611,
          20.377473502524346,
          20.200192405282436,
          20.018187174311525,
          19.831514375806833,
          19.640232026617078,
          19.444399576213286,
          19.244077888212125,
          19.03932922145993,
          18.830217210682925,
          18.616806846709984,
          18.399164456273795,
          18.177357681396927,
          17.951455458369008,
          17.721527996321825,
          17.487646755408598,
          17.249884424594676,
          17.008314899066146,
          16.763013257263673
         ],
         "y": [
          59.0186133090773,
          58.8090685161913,
          58.59523194300387,
          58.37717004871109,
          58.15495060571495,
          57.92864267856002,
          57.698316602468594,
          57.46404396148091,
          57.22589756620724,
          56.98395143119872,
          56.7382807519441,
          56.48896188149941,
          56.23607230675779,
          55.97969062436713,
          55.71989651630254,
          55.45677072510174,
          55.19039502877069,
          54.92085221536746,
          54.64822605727219,
          54.37260128515108,
          54.09406356162259,
          53.812699454633965,
          53.52859641055646,
          53.241842727007445,
          52.95252752540803,
          52.66074072328464,
          52.366573006323144,
          52.070115800184254,
          51.77146124208896,
          51.47070215218279,
          51.167932004687856,
          50.86324489885158,
          50.55673552970117,
          50.24849915861295,
          49.938631583705686,
          49.627229110067034,
          49.314388519822515,
          49.00020704205611,
          48.68478232259208,
          48.36821239364713,
          48.05059564336263,
          47.732030785226065,
          47.41261682739149,
          47.09245304190833,
          46.771638933868175,
          46.45027421047923,
          46.12845875007779,
          45.806292571086686,
          45.4838758009301,
          45.16130864491452,
          44.83869135508549,
          44.51612419906991,
          44.19370742891331,
          43.87154124992222,
          43.54972578952077,
          43.22836106613183,
          42.90754695809167,
          42.58738317260851,
          42.26796921477392,
          41.94940435663737,
          41.631787606352866,
          41.31521767740793,
          40.99979295794388,
          40.685611480177485,
          40.37277088993295,
          40.06136841629432,
          39.75150084138705,
          39.443264470298836,
          39.13675510114841,
          38.83206799531214,
          38.5292978478172,
          38.228538757911046,
          37.929884199815746,
          37.633426993676856,
          37.33925927671535,
          37.04747247459197,
          36.75815727299255,
          36.47140358944354,
          36.18730054536603,
          35.90593643837742,
          35.62739871484891,
          35.3517739427278,
          35.079147784632525,
          34.80960497122932,
          34.54322927489826,
          34.28010348369746,
          34.02030937563286,
          33.7639276932422,
          33.51103811850059,
          33.2617192480559,
          33.01604856880128,
          32.77410243379276,
          32.535956038519075,
          32.301683397531406,
          32.071357321439976,
          31.845049394285052,
          31.622829951288907,
          31.40476805699613,
          31.19093148380869,
          30.981386690922704
         ]
        },
        {
         "line": {
          "color": "white"
         },
         "mode": "lines",
         "type": "scatter",
         "x": [
          113.23698674273633,
          112.99168510093385,
          112.75011557540532,
          112.51235324459141,
          112.27847200367817,
          112.04854454163099,
          111.82264231860307,
          111.60083554372619,
          111.38319315329002,
          111.16978278931708,
          110.96067077854008,
          110.75592211178787,
          110.55560042378671,
          110.35976797338292,
          110.16848562419317,
          109.98181282568848,
          109.79980759471756,
          109.62252649747565,
          109.45002463192388,
          109.2823556106653,
          109.11957154428231,
          108.96172302514094,
          108.80885911166716,
          108.66102731309968,
          108.51827357472442,
          108.3806422635949,
          108.24817615474329,
          108.12091641788616,
          107.99890260462911,
          107.88217263617439,
          107.77076279153522,
          107.66470769626048,
          107.56404031167321,
          107.46879192462654,
          107.37899213777985,
          107.29466886039833,
          107.21584829967918,
          107.14255495260633,
          107.07481159833702,
          107.01263929112217,
          106.95605735376282,
          106.90508337160469,
          106.8597331870728,
          106.82002089474774,
          106.78595883698506,
          106.75755760007945,
          106.73482601097453,
          106.71777113451944,
          106.70639827127326,
          106.70071095585745,
          106.70071095585745,
          106.70639827127326,
          106.71777113451944,
          106.73482601097453,
          106.75755760007945,
          106.78595883698506,
          106.82002089474774,
          106.8597331870728,
          106.90508337160469,
          106.95605735376282,
          107.01263929112217,
          107.07481159833702,
          107.14255495260633,
          107.21584829967918,
          107.29466886039835,
          107.37899213777985,
          107.46879192462656,
          107.56404031167321,
          107.66470769626048,
          107.77076279153522,
          107.88217263617439,
          107.99890260462911,
          108.12091641788616,
          108.24817615474329,
          108.3806422635949,
          108.51827357472442,
          108.66102731309968,
          108.80885911166716,
          108.96172302514094,
          109.11957154428231,
          109.28235561066532,
          109.45002463192388,
          109.62252649747566,
          109.79980759471756,
          109.98181282568848,
          110.16848562419317,
          110.35976797338293,
          110.55560042378671,
          110.75592211178787,
          110.96067077854008,
          111.16978278931708,
          111.38319315329001,
          111.6008355437262,
          111.82264231860307,
          112.04854454163099,
          112.27847200367817,
          112.5123532445914,
          112.75011557540532,
          112.99168510093385,
          113.23698674273632
         ],
         "y": [
          59.0186133090773,
          58.8090685161913,
          58.59523194300387,
          58.37717004871109,
          58.15495060571495,
          57.92864267856002,
          57.698316602468594,
          57.46404396148091,
          57.22589756620724,
          56.98395143119872,
          56.7382807519441,
          56.48896188149941,
          56.23607230675779,
          55.97969062436713,
          55.71989651630254,
          55.45677072510174,
          55.19039502877069,
          54.92085221536746,
          54.64822605727219,
          54.37260128515108,
          54.09406356162259,
          53.812699454633965,
          53.52859641055646,
          53.241842727007445,
          52.95252752540803,
          52.66074072328464,
          52.366573006323144,
          52.070115800184254,
          51.77146124208896,
          51.47070215218279,
          51.167932004687856,
          50.86324489885158,
          50.55673552970117,
          50.24849915861295,
          49.938631583705686,
          49.627229110067034,
          49.314388519822515,
          49.00020704205611,
          48.68478232259208,
          48.36821239364713,
          48.05059564336263,
          47.732030785226065,
          47.41261682739149,
          47.09245304190833,
          46.771638933868175,
          46.45027421047923,
          46.12845875007779,
          45.806292571086686,
          45.4838758009301,
          45.16130864491452,
          44.83869135508549,
          44.51612419906991,
          44.19370742891331,
          43.87154124992222,
          43.54972578952077,
          43.22836106613183,
          42.90754695809167,
          42.58738317260851,
          42.26796921477392,
          41.94940435663737,
          41.631787606352866,
          41.31521767740793,
          40.99979295794388,
          40.685611480177485,
          40.37277088993295,
          40.06136841629432,
          39.75150084138705,
          39.443264470298836,
          39.13675510114841,
          38.83206799531214,
          38.5292978478172,
          38.228538757911046,
          37.929884199815746,
          37.633426993676856,
          37.33925927671535,
          37.04747247459197,
          36.75815727299255,
          36.47140358944354,
          36.18730054536603,
          35.90593643837742,
          35.62739871484891,
          35.3517739427278,
          35.079147784632525,
          34.80960497122932,
          34.54322927489826,
          34.28010348369746,
          34.02030937563286,
          33.7639276932422,
          33.51103811850059,
          33.2617192480559,
          33.01604856880128,
          32.77410243379276,
          32.535956038519075,
          32.301683397531406,
          32.071357321439976,
          31.845049394285052,
          31.622829951288907,
          31.40476805699613,
          31.19093148380869,
          30.981386690922704
         ]
        },
        {
         "customdata": [
          "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",
          "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",
          "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",
          "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",
          "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",
          "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",
          "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",
          "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",
          "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"
         ],
         "hovertemplate": "<b>%{text}</b><br><img src='data:image/png;base64,%{customdata}' height='50' width='50'><extra></extra>",
         "marker": {
          "color": [
           "white",
           "lightblue",
           "white",
           "blue",
           "blue",
           "blue",
           "white",
           "red",
           "red"
          ],
          "line": {
           "color": "black",
           "width": 1
          },
          "size": 8
         },
         "mode": "markers",
         "name": "Goals",
         "text": [
          "Tottenham",
          "Brighton",
          "Fulham",
          "Everton",
          "Everton",
          "Chelsea",
          "Tottenham",
          "Nottingham Forest",
          "Liverpool"
         ],
         "type": "scatter",
         "x": [
          110.10999603271485,
          119.85999603271485,
          94.77000198364259,
          118.3,
          100.49000396728516,
          98.02000198364259,
          115.05,
          115.05,
          112.97000198364258
         ],
         "y": [
          40.7699993133545,
          42.210001373291014,
          43.289998626708986,
          39.33000068664551,
          60.02999725341797,
          52.83000068664551,
          45,
          45,
          50.13000068664551
         ]
        }
       ],
       "layout": {
        "height": 500,
        "template": {
         "data": {
          "bar": [
           {
            "error_x": {
             "color": "#2a3f5f"
            },
            "error_y": {
             "color": "#2a3f5f"
            },
            "marker": {
             "line": {
              "color": "#E5ECF6",
              "width": 0.5
             },
             "pattern": {
              "fillmode": "overlay",
              "size": 10,
              "solidity": 0.2
             }
            },
            "type": "bar"
           }
          ],
          "barpolar": [
           {
            "marker": {
             "line": {
              "color": "#E5ECF6",
              "width": 0.5
             },
             "pattern": {
              "fillmode": "overlay",
              "size": 10,
              "solidity": 0.2
             }
            },
            "type": "barpolar"
           }
          ],
          "carpet": [
           {
            "aaxis": {
             "endlinecolor": "#2a3f5f",
             "gridcolor": "white",
             "linecolor": "white",
             "minorgridcolor": "white",
             "startlinecolor": "#2a3f5f"
            },
            "baxis": {
             "endlinecolor": "#2a3f5f",
             "gridcolor": "white",
             "linecolor": "white",
             "minorgridcolor": "white",
             "startlinecolor": "#2a3f5f"
            },
            "type": "carpet"
           }
          ],
          "choropleth": [
           {
            "colorbar": {
             "outlinewidth": 0,
             "ticks": ""
            },
            "type": "choropleth"
           }
          ],
          "contour": [
           {
            "colorbar": {
             "outlinewidth": 0,
             "ticks": ""
            },
            "colorscale": [
             [
              0,
              "#0d0887"
             ],
             [
              0.1111111111111111,
              "#46039f"
             ],
             [
              0.2222222222222222,
              "#7201a8"
             ],
             [
              0.3333333333333333,
              "#9c179e"
             ],
             [
              0.4444444444444444,
              "#bd3786"
             ],
             [
              0.5555555555555556,
              "#d8576b"
             ],
             [
              0.6666666666666666,
              "#ed7953"
             ],
             [
              0.7777777777777778,
              "#fb9f3a"
             ],
             [
              0.8888888888888888,
              "#fdca26"
             ],
             [
              1,
              "#f0f921"
             ]
            ],
            "type": "contour"
           }
          ],
          "contourcarpet": [
           {
            "colorbar": {
             "outlinewidth": 0,
             "ticks": ""
            },
            "type": "contourcarpet"
           }
          ],
          "heatmap": [
           {
            "colorbar": {
             "outlinewidth": 0,
             "ticks": ""
            },
            "colorscale": [
             [
              0,
              "#0d0887"
             ],
             [
              0.1111111111111111,
              "#46039f"
             ],
             [
              0.2222222222222222,
              "#7201a8"
             ],
             [
              0.3333333333333333,
              "#9c179e"
             ],
             [
              0.4444444444444444,
              "#bd3786"
             ],
             [
              0.5555555555555556,
              "#d8576b"
             ],
             [
              0.6666666666666666,
              "#ed7953"
             ],
             [
              0.7777777777777778,
              "#fb9f3a"
             ],
             [
              0.8888888888888888,
              "#fdca26"
             ],
             [
              1,
              "#f0f921"
             ]
            ],
            "type": "heatmap"
           }
          ],
          "heatmapgl": [
           {
            "colorbar": {
             "outlinewidth": 0,
             "ticks": ""
            },
            "colorscale": [
             [
              0,
              "#0d0887"
             ],
             [
              0.1111111111111111,
              "#46039f"
             ],
             [
              0.2222222222222222,
              "#7201a8"
             ],
             [
              0.3333333333333333,
              "#9c179e"
             ],
             [
              0.4444444444444444,
              "#bd3786"
             ],
             [
              0.5555555555555556,
              "#d8576b"
             ],
             [
              0.6666666666666666,
              "#ed7953"
             ],
             [
              0.7777777777777778,
              "#fb9f3a"
             ],
             [
              0.8888888888888888,
              "#fdca26"
             ],
             [
              1,
              "#f0f921"
             ]
            ],
            "type": "heatmapgl"
           }
          ],
          "histogram": [
           {
            "marker": {
             "pattern": {
              "fillmode": "overlay",
              "size": 10,
              "solidity": 0.2
             }
            },
            "type": "histogram"
           }
          ],
          "histogram2d": [
           {
            "colorbar": {
             "outlinewidth": 0,
             "ticks": ""
            },
            "colorscale": [
             [
              0,
              "#0d0887"
             ],
             [
              0.1111111111111111,
              "#46039f"
             ],
             [
              0.2222222222222222,
              "#7201a8"
             ],
             [
              0.3333333333333333,
              "#9c179e"
             ],
             [
              0.4444444444444444,
              "#bd3786"
             ],
             [
              0.5555555555555556,
              "#d8576b"
             ],
             [
              0.6666666666666666,
              "#ed7953"
             ],
             [
              0.7777777777777778,
              "#fb9f3a"
             ],
             [
              0.8888888888888888,
              "#fdca26"
             ],
             [
              1,
              "#f0f921"
             ]
            ],
            "type": "histogram2d"
           }
          ],
          "histogram2dcontour": [
           {
            "colorbar": {
             "outlinewidth": 0,
             "ticks": ""
            },
            "colorscale": [
             [
              0,
              "#0d0887"
             ],
             [
              0.1111111111111111,
              "#46039f"
             ],
             [
              0.2222222222222222,
              "#7201a8"
             ],
             [
              0.3333333333333333,
              "#9c179e"
             ],
             [
              0.4444444444444444,
              "#bd3786"
             ],
             [
              0.5555555555555556,
              "#d8576b"
             ],
             [
              0.6666666666666666,
              "#ed7953"
             ],
             [
              0.7777777777777778,
              "#fb9f3a"
             ],
             [
              0.8888888888888888,
              "#fdca26"
             ],
             [
              1,
              "#f0f921"
             ]
            ],
            "type": "histogram2dcontour"
           }
          ],
          "mesh3d": [
           {
            "colorbar": {
             "outlinewidth": 0,
             "ticks": ""
            },
            "type": "mesh3d"
           }
          ],
          "parcoords": [
           {
            "line": {
             "colorbar": {
              "outlinewidth": 0,
              "ticks": ""
             }
            },
            "type": "parcoords"
           }
          ],
          "pie": [
           {
            "automargin": true,
            "type": "pie"
           }
          ],
          "scatter": [
           {
            "fillpattern": {
             "fillmode": "overlay",
             "size": 10,
             "solidity": 0.2
            },
            "type": "scatter"
           }
          ],
          "scatter3d": [
           {
            "line": {
             "colorbar": {
              "outlinewidth": 0,
              "ticks": ""
             }
            },
            "marker": {
             "colorbar": {
              "outlinewidth": 0,
              "ticks": ""
             }
            },
            "type": "scatter3d"
           }
          ],
          "scattercarpet": [
           {
            "marker": {
             "colorbar": {
              "outlinewidth": 0,
              "ticks": ""
             }
            },
            "type": "scattercarpet"
           }
          ],
          "scattergeo": [
           {
            "marker": {
             "colorbar": {
              "outlinewidth": 0,
              "ticks": ""
             }
            },
            "type": "scattergeo"
           }
          ],
          "scattergl": [
           {
            "marker": {
             "colorbar": {
              "outlinewidth": 0,
              "ticks": ""
             }
            },
            "type": "scattergl"
           }
          ],
          "scattermapbox": [
           {
            "marker": {
             "colorbar": {
              "outlinewidth": 0,
              "ticks": ""
             }
            },
            "type": "scattermapbox"
           }
          ],
          "scatterpolar": [
           {
            "marker": {
             "colorbar": {
              "outlinewidth": 0,
              "ticks": ""
             }
            },
            "type": "scatterpolar"
           }
          ],
          "scatterpolargl": [
           {
            "marker": {
             "colorbar": {
              "outlinewidth": 0,
              "ticks": ""
             }
            },
            "type": "scatterpolargl"
           }
          ],
          "scatterternary": [
           {
            "marker": {
             "colorbar": {
              "outlinewidth": 0,
              "ticks": ""
             }
            },
            "type": "scatterternary"
           }
          ],
          "surface": [
           {
            "colorbar": {
             "outlinewidth": 0,
             "ticks": ""
            },
            "colorscale": [
             [
              0,
              "#0d0887"
             ],
             [
              0.1111111111111111,
              "#46039f"
             ],
             [
              0.2222222222222222,
              "#7201a8"
             ],
             [
              0.3333333333333333,
              "#9c179e"
             ],
             [
              0.4444444444444444,
              "#bd3786"
             ],
             [
              0.5555555555555556,
              "#d8576b"
             ],
             [
              0.6666666666666666,
              "#ed7953"
             ],
             [
              0.7777777777777778,
              "#fb9f3a"
             ],
             [
              0.8888888888888888,
              "#fdca26"
             ],
             [
              1,
              "#f0f921"
             ]
            ],
            "type": "surface"
           }
          ],
          "table": [
           {
            "cells": {
             "fill": {
              "color": "#EBF0F8"
             },
             "line": {
              "color": "white"
             }
            },
            "header": {
             "fill": {
              "color": "#C8D4E3"
             },
             "line": {
              "color": "white"
             }
            },
            "type": "table"
           }
          ]
         },
         "layout": {
          "annotationdefaults": {
           "arrowcolor": "#2a3f5f",
           "arrowhead": 0,
           "arrowwidth": 1
          },
          "autotypenumbers": "strict",
          "coloraxis": {
           "colorbar": {
            "outlinewidth": 0,
            "ticks": ""
           }
          },
          "colorscale": {
           "diverging": [
            [
             0,
             "#8e0152"
            ],
            [
             0.1,
             "#c51b7d"
            ],
            [
             0.2,
             "#de77ae"
            ],
            [
             0.3,
             "#f1b6da"
            ],
            [
             0.4,
             "#fde0ef"
            ],
            [
             0.5,
             "#f7f7f7"
            ],
            [
             0.6,
             "#e6f5d0"
            ],
            [
             0.7,
             "#b8e186"
            ],
            [
             0.8,
             "#7fbc41"
            ],
            [
             0.9,
             "#4d9221"
            ],
            [
             1,
             "#276419"
            ]
           ],
           "sequential": [
            [
             0,
             "#0d0887"
            ],
            [
             0.1111111111111111,
             "#46039f"
            ],
            [
             0.2222222222222222,
             "#7201a8"
            ],
            [
             0.3333333333333333,
             "#9c179e"
            ],
            [
             0.4444444444444444,
             "#bd3786"
            ],
            [
             0.5555555555555556,
             "#d8576b"
            ],
            [
             0.6666666666666666,
             "#ed7953"
            ],
            [
             0.7777777777777778,
             "#fb9f3a"
            ],
            [
             0.8888888888888888,
             "#fdca26"
            ],
            [
             1,
             "#f0f921"
            ]
           ],
           "sequentialminus": [
            [
             0,
             "#0d0887"
            ],
            [
             0.1111111111111111,
             "#46039f"
            ],
            [
             0.2222222222222222,
             "#7201a8"
            ],
            [
             0.3333333333333333,
             "#9c179e"
            ],
            [
             0.4444444444444444,
             "#bd3786"
            ],
            [
             0.5555555555555556,
             "#d8576b"
            ],
            [
             0.6666666666666666,
             "#ed7953"
            ],
            [
             0.7777777777777778,
             "#fb9f3a"
            ],
            [
             0.8888888888888888,
             "#fdca26"
            ],
            [
             1,
             "#f0f921"
            ]
           ]
          },
          "colorway": [
           "#636efa",
           "#EF553B",
           "#00cc96",
           "#ab63fa",
           "#FFA15A",
           "#19d3f3",
           "#FF6692",
           "#B6E880",
           "#FF97FF",
           "#FECB52"
          ],
          "font": {
           "color": "#2a3f5f"
          },
          "geo": {
           "bgcolor": "white",
           "lakecolor": "white",
           "landcolor": "#E5ECF6",
           "showlakes": true,
           "showland": true,
           "subunitcolor": "white"
          },
          "hoverlabel": {
           "align": "left"
          },
          "hovermode": "closest",
          "mapbox": {
           "style": "light"
          },
          "paper_bgcolor": "white",
          "plot_bgcolor": "#E5ECF6",
          "polar": {
           "angularaxis": {
            "gridcolor": "white",
            "linecolor": "white",
            "ticks": ""
           },
           "bgcolor": "#E5ECF6",
           "radialaxis": {
            "gridcolor": "white",
            "linecolor": "white",
            "ticks": ""
           }
          },
          "scene": {
           "xaxis": {
            "backgroundcolor": "#E5ECF6",
            "gridcolor": "white",
            "gridwidth": 2,
            "linecolor": "white",
            "showbackground": true,
            "ticks": "",
            "zerolinecolor": "white"
           },
           "yaxis": {
            "backgroundcolor": "#E5ECF6",
            "gridcolor": "white",
            "gridwidth": 2,
            "linecolor": "white",
            "showbackground": true,
            "ticks": "",
            "zerolinecolor": "white"
           },
           "zaxis": {
            "backgroundcolor": "#E5ECF6",
            "gridcolor": "white",
            "gridwidth": 2,
            "linecolor": "white",
            "showbackground": true,
            "ticks": "",
            "zerolinecolor": "white"
           }
          },
          "shapedefaults": {
           "line": {
            "color": "#2a3f5f"
           }
          },
          "ternary": {
           "aaxis": {
            "gridcolor": "white",
            "linecolor": "white",
            "ticks": ""
           },
           "baxis": {
            "gridcolor": "white",
            "linecolor": "white",
            "ticks": ""
           },
           "bgcolor": "#E5ECF6",
           "caxis": {
            "gridcolor": "white",
            "linecolor": "white",
            "ticks": ""
           }
          },
          "title": {
           "x": 0.05
          },
          "xaxis": {
           "automargin": true,
           "gridcolor": "white",
           "linecolor": "white",
           "ticks": "",
           "title": {
            "standoff": 15
           },
           "zerolinecolor": "white",
           "zerolinewidth": 2
          },
          "yaxis": {
           "automargin": true,
           "gridcolor": "white",
           "linecolor": "white",
           "ticks": "",
           "title": {
            "standoff": 15
           },
           "zerolinecolor": "white",
           "zerolinewidth": 2
          }
         }
        },
        "width": 700,
        "xaxis": {
         "anchor": "y",
         "domain": [
          0,
          1
         ],
         "range": [
          0,
          130
         ],
         "showgrid": false,
         "zeroline": false
        },
        "yaxis": {
         "anchor": "x",
         "domain": [
          0,
          1
         ],
         "range": [
          0,
          90
         ],
         "showgrid": false,
         "zeroline": false
        }
       }
      }
     },
     "metadata": {},
     "output_type": "display_data"
    }
   ],
   "source": [
    "import plotly.graph_objects as go\n",
    "import pandas as pd\n",
    "import numpy as np\n",
    "from PIL import Image\n",
    "import matplotlib.image as mpimg\n",
    "from plotly.subplots import make_subplots\n",
    "import base64\n",
    "\n",
    "# Creating the football pitch\n",
    "# Define pitch dimensions\n",
    "pitch_length = 130.0\n",
    "pitch_width = 90.0\n",
    "\n",
    "# Create subplot\n",
    "fig = make_subplots(rows=1, cols=1, specs=[[{'type': 'scatter'}]])\n",
    "\n",
    "# Plot football pitch\n",
    "pitch_outline = go.Scatter(x=[0, 0, pitch_length, pitch_length, 0], y=[0, pitch_width, pitch_width, 0, 0], mode='lines', line=dict(color='white'))\n",
    "centre_line = go.Scatter(x=[pitch_length/2, pitch_length/2], y=[0, pitch_width], mode='lines', line=dict(color='white'))\n",
    "\n",
    "left_penalty_area = go.Scatter(x=[0, 16.5, 16.5, 0, 0], y=[65, 65, 25, 25, 65], mode='lines', line=dict(color='white'))\n",
    "right_penalty_area = go.Scatter(x=[pitch_length, pitch_length - 16.5, pitch_length - 16.5, pitch_length, pitch_length], y=[65, 65, 25, 25, 65], mode='lines', line=dict(color='white'))\n",
    "\n",
    "left_six_yard_box = go.Scatter(x=[0, 5.5, 5.5, 0, 0], y=[54, 54, 36, 36, 54], mode='lines', line=dict(color='white'))\n",
    "right_six_yard_box = go.Scatter(x=[pitch_length, pitch_length - 5.5, pitch_length - 5.5, pitch_length, pitch_length], y=[54, 54, 36, 36, 54], mode='lines', line=dict(color='white'))\n",
    "\n",
    "# Scatter traces for circles\n",
    "centre_circle = go.Scatter(x=[pitch_length/2], y=[pitch_width/2], mode='markers', marker=dict(color='rgba(0,0,0,0)', size=40 * 2, line=dict(color='white', width=2)), showlegend=False)\n",
    "centre_spot = go.Scatter(x=[pitch_length/2], y=[pitch_width/2], mode='markers', marker=dict(color='white', size=6, line=dict(color='white')), showlegend=False)\n",
    "left_pen_spot = go.Scatter(x=[11], y=[pitch_width/2], mode='markers', marker=dict(color='white', size=6, line=dict(color='white')), showlegend=False)\n",
    "right_pen_spot = go.Scatter(x=[pitch_length - 11], y=[pitch_width/2], mode='markers', marker=dict(color='white', size=6, line=dict(color='white')), showlegend=False)\n",
    "\n",
    "# Add Scatter traces for arcs\n",
    "theta_left = np.linspace(130, 230, 100)\n",
    "left_arc_x = -18.3 * np.cos(np.radians(theta_left)) + 5\n",
    "left_arc_y = 18.3 * np.sin(np.radians(theta_left)) + 45\n",
    "\n",
    "theta = np.linspace(130, 230, 100)\n",
    "right_arc_x = 18.3 * np.cos(np.radians(theta)) + 125\n",
    "right_arc_y = 18.3 * np.sin(np.radians(theta)) + 45\n",
    "\n",
    "left_arc_trace = go.Scatter(x=left_arc_x, y=left_arc_y, mode='lines', line=dict(color='white'))\n",
    "right_arc_trace = go.Scatter(x=right_arc_x, y=right_arc_y, mode='lines', line=dict(color='white'))\n",
    "\n",
    "# Add traces\n",
    "fig.add_trace(pitch_outline)\n",
    "fig.add_trace(centre_line)\n",
    "fig.add_trace(left_penalty_area)\n",
    "fig.add_trace(right_penalty_area)\n",
    "fig.add_trace(left_six_yard_box)\n",
    "fig.add_trace(right_six_yard_box)\n",
    "fig.add_trace(centre_circle)\n",
    "fig.add_trace(centre_spot)\n",
    "fig.add_trace(left_pen_spot)\n",
    "fig.add_trace(right_pen_spot)\n",
    "fig.add_trace(left_arc_trace)\n",
    "fig.add_trace(right_arc_trace)\n",
    "\n",
    "fig.update_xaxes(showgrid=False, zeroline=False)\n",
    "fig.update_yaxes(showgrid=False, zeroline=False)\n",
    "\n",
    "\n",
    "# Adding the data\n",
    "# Goals scored\n",
    "df_jwp_goals = df_jwp_shots[df_jwp_shots[\"result\"] == \"Goal\"]\n",
    "df_jwp_goals_2223 = df_jwp_goals.query(\"season == '2022'\").reset_index()\n",
    "\n",
    "# Setting goal locations\n",
    "X_goals = df_jwp_goals_2223['X'].astype(float) * 100 * (pitch_length / 100)\n",
    "Y_goals = df_jwp_goals_2223['Y'].astype(float) * 100 * (pitch_width / 100)\n",
    "\n",
    "# Team badges for hover labels\n",
    "# Specify the desired width and height for the scaled images\n",
    "desired_width = 100\n",
    "desired_height = 100\n",
    "\n",
    "# Load and resize the images\n",
    "image_paths = ['Liverpool.png', 'Everton.png', 'Tottenham.png', 'Chelsea.png', 'Fulham.png', 'Brighton.png', 'Nottingham Forest.png']\n",
    "\n",
    "for image_path in image_paths:\n",
    "    image = Image.open(f'./images/{image_path}')\n",
    "    resized_image = image.resize((desired_width, desired_height), Image.LANCZOS)\n",
    "    resized_image.save(f\"./images/resized_{image_path}\", optimize=True, quality=95)\n",
    "\n",
    "print(\"Images resized successfully.\")\n",
    "\n",
    "\n",
    "# Hover label details\n",
    "# Setting team colours\n",
    "team_colors = {\n",
    "    'Liverpool': 'red',\n",
    "    'Nottingham Forest': 'red',\n",
    "    'Tottenham': 'white',\n",
    "    'Chelsea': 'blue',\n",
    "    'Everton': 'blue',\n",
    "    'Fulham': 'white',\n",
    "    'Brighton': 'lightblue'\n",
    "}\n",
    "\n",
    "df_jwp_goals_2223[\"team_names\"] = pd.Series(np.where(df_jwp_goals_2223[\"h_team\"] == \"Southampton\",\n",
    "                                df_jwp_goals_2223[\"a_team\"],\n",
    "                                df_jwp_goals_2223[\"h_team\"]),\n",
    "                       name=\"team_names\")\n",
    "df_jwp_goals_2223[\"oppo_colour\"] = team_names.map(team_colors)\n",
    "\n",
    "# Load the team badge image\n",
    "df_jwp_goals_2223[\"team_badges_base64\"] = [base64.b64encode(open(f'./images/resized_{team}.png', 'rb').read()).decode('utf-8') for team in df_jwp_goals_2223[\"team_names\"]]\n",
    "\n",
    "# Display the image on the pitch at its respective position\n",
    "image_size = 3  # Adjust the size of the displayed images\n",
    "\n",
    "\n",
    "# Define custom hover template\n",
    "custom_hover_template = \"<b>%{text}</b><br><img src='data:image/png;base64,%{customdata}' height='50' width='50'><extra></extra>\"\n",
    "\n",
    "goals_trace = go.Scatter(\n",
    "    x=X_goals,\n",
    "    y=Y_goals,\n",
    "    mode='markers',\n",
    "    marker=dict(color=df_jwp_goals_2223[\"oppo_colour\"], size=8, line=dict(color='black', width=1)),\n",
    "    name='Goals',\n",
    "    text=df_jwp_goals_2223[\"team_names\"],  # Display team names on hover\n",
    "    customdata=df_jwp_goals_2223[\"team_badges_base64\"],  # Store team badges as base64-encoded strings\n",
    "    hovertemplate=custom_hover_template  # Custom hover template\n",
    ")\n",
    "fig.add_trace(goals_trace)\n",
    "\n",
    "\n",
    "# Final plot general adjustments\n",
    "fig.update_layout(\n",
    "    xaxis=dict(range=[0, pitch_length]),\n",
    "    yaxis=dict(range=[0, pitch_width]),\n",
    "    width=700,\n",
    "    height=500\n",
    ")"
   ]
  },
  {
   "cell_type": "code",
   "execution_count": 7,
   "metadata": {},
   "outputs": [
    {
     "data": {
      "text/html": [
       "\n",
       "        <iframe\n",
       "            width=\"100%\"\n",
       "            height=\"650\"\n",
       "            src=\"http://127.0.0.1:8050/\"\n",
       "            frameborder=\"0\"\n",
       "            allowfullscreen\n",
       "            \n",
       "        ></iframe>\n",
       "        "
      ],
      "text/plain": [
       "<IPython.lib.display.IFrame at 0x118184f90>"
      ]
     },
     "metadata": {},
     "output_type": "display_data"
    }
   ],
   "source": [
    "import dash\n",
    "from dash import dcc, html\n",
    "from dash.dependencies import Input, Output\n",
    "import plotly.graph_objects as go\n",
    "import pandas as pd\n",
    "import numpy as np\n",
    "from PIL import Image\n",
    "import base64\n",
    "from plotly.subplots import make_subplots\n",
    "\n",
    "# Load the data\n",
    "# Replace the following line with your data loading logic\n",
    "df_jwp_shots = df_jwp_shots\n",
    "\n",
    "# Creating the football pitch\n",
    "def create_football_pitch():\n",
    "    # Define pitch dimensions\n",
    "    pitch_length = 130.0\n",
    "    pitch_width = 90.0\n",
    "\n",
    "    # Create subplot\n",
    "    fig = make_subplots(rows=1, cols=1, specs=[[{'type': 'scatter'}]])\n",
    "\n",
    "    # Plot football pitch\n",
    "    pitch_outline = go.Scatter(x=[0, 0, pitch_length, pitch_length, 0], y=[0, pitch_width, pitch_width, 0, 0], mode='lines', line=dict(color='white'))\n",
    "    centre_line = go.Scatter(x=[pitch_length/2, pitch_length/2], y=[0, pitch_width], mode='lines', line=dict(color='white'))\n",
    "\n",
    "    left_penalty_area = go.Scatter(x=[0, 16.5, 16.5, 0, 0], y=[65, 65, 25, 25, 65], mode='lines', line=dict(color='white'))\n",
    "    right_penalty_area = go.Scatter(x=[pitch_length, pitch_length - 16.5, pitch_length - 16.5, pitch_length, pitch_length], y=[65, 65, 25, 25, 65], mode='lines', line=dict(color='white'))\n",
    "\n",
    "    left_six_yard_box = go.Scatter(x=[0, 5.5, 5.5, 0, 0], y=[54, 54, 36, 36, 54], mode='lines', line=dict(color='white'))\n",
    "    right_six_yard_box = go.Scatter(x=[pitch_length, pitch_length - 5.5, pitch_length - 5.5, pitch_length, pitch_length], y=[54, 54, 36, 36, 54], mode='lines', line=dict(color='white'))\n",
    "\n",
    "    # Scatter traces for circles\n",
    "    centre_circle = go.Scatter(x=[pitch_length/2], y=[pitch_width/2], mode='markers', marker=dict(color='rgba(0,0,0,0)', size=40 * 2, line=dict(color='white', width=2)), showlegend=False)\n",
    "    centre_spot = go.Scatter(x=[pitch_length/2], y=[pitch_width/2], mode='markers', marker=dict(color='white', size=6, line=dict(color='white')), showlegend=False)\n",
    "    left_pen_spot = go.Scatter(x=[11], y=[pitch_width/2], mode='markers', marker=dict(color='white', size=6, line=dict(color='white')), showlegend=False)\n",
    "    right_pen_spot = go.Scatter(x=[pitch_length - 11], y=[pitch_width/2], mode='markers', marker=dict(color='white', size=6, line=dict(color='white')), showlegend=False)\n",
    "\n",
    "    # Add Scatter traces for arcs\n",
    "    theta_left = np.linspace(130, 230, 100)\n",
    "    left_arc_x = -18.3 * np.cos(np.radians(theta_left)) + 5\n",
    "    left_arc_y = 18.3 * np.sin(np.radians(theta_left)) + 45\n",
    "\n",
    "    theta = np.linspace(130, 230, 100)\n",
    "    right_arc_x = 18.3 * np.cos(np.radians(theta)) + 125\n",
    "    right_arc_y = 18.3 * np.sin(np.radians(theta)) + 45\n",
    "\n",
    "    left_arc_trace = go.Scatter(x=left_arc_x, y=left_arc_y, mode='lines', line=dict(color='white'))\n",
    "    right_arc_trace = go.Scatter(x=right_arc_x, y=right_arc_y, mode='lines', line=dict(color='white'))\n",
    "\n",
    "    # Add traces\n",
    "    fig.add_trace(pitch_outline)\n",
    "    fig.add_trace(centre_line)\n",
    "    fig.add_trace(left_penalty_area)\n",
    "    fig.add_trace(right_penalty_area)\n",
    "    fig.add_trace(left_six_yard_box)\n",
    "    fig.add_trace(right_six_yard_box)\n",
    "    fig.add_trace(centre_circle)\n",
    "    fig.add_trace(centre_spot)\n",
    "    fig.add_trace(left_pen_spot)\n",
    "    fig.add_trace(right_pen_spot)\n",
    "    fig.add_trace(left_arc_trace)\n",
    "    fig.add_trace(right_arc_trace)\n",
    "\n",
    "    fig.update_xaxes(showgrid=False, zeroline=False)\n",
    "    fig.update_yaxes(showgrid=False, zeroline=False)\n",
    "\n",
    "    return fig\n",
    "\n",
    "# Set up the app\n",
    "app = dash.Dash(__name__)\n",
    "\n",
    "app.layout = html.Div(\n",
    "    className=\"container\",\n",
    "    children=[\n",
    "        dcc.Graph(id=\"football-pitch\", figure=create_football_pitch()),\n",
    "        dcc.Graph(\n",
    "            id=\"goal-scatter\",\n",
    "            config={'staticPlot': False}\n",
    "        ),\n",
    "    ],\n",
    ")\n",
    "\n",
    "@app.callback(\n",
    "    Output(\"goal-scatter\", \"figure\"),\n",
    "    Input(\"football-pitch\", \"hoverData\")\n",
    ")\n",
    "def update_goal_scatter(hoverData):\n",
    "    fig_goals = go.Figure()\n",
    "\n",
    "    if hoverData is not None:\n",
    "        selected_team = hoverData[\"points\"][0][\"hovertext\"]\n",
    "        filtered_goals = df_jwp_goals_2223[df_jwp_goals_2223[\"team_names\"] == selected_team]\n",
    "\n",
    "        goals_trace = go.Scatter(\n",
    "            x=filtered_goals[\"X\"].astype(float) * 100 * (130 / 100),\n",
    "            y=filtered_goals[\"Y\"].astype(float) * 100 * (90 / 100),\n",
    "            mode='markers',\n",
    "            marker=dict(color=filtered_goals[\"oppo_colour\"], size=8, line=dict(color='black', width=1)),\n",
    "            name='Goals',\n",
    "            text=filtered_goals[\"team_names\"],  # Display team names on hover\n",
    "            customdata=filtered_goals[\"team_badges_base64\"],  # Store team badges as base64-encoded strings\n",
    "            hovertemplate=custom_hover_template  # Custom hover template\n",
    "        )\n",
    "        fig_goals.add_trace(goals_trace)\n",
    "\n",
    "    return fig_goals\n",
    "\n",
    "if __name__ == \"__main__\":\n",
    "    app.run_server(debug=True)\n"
   ]
  }
 ],
 "metadata": {
  "kernelspec": {
   "display_name": "Python 3",
   "language": "python",
   "name": "python3"
  },
  "language_info": {
   "codemirror_mode": {
    "name": "ipython",
    "version": 3
   },
   "file_extension": ".py",
   "mimetype": "text/x-python",
   "name": "python",
   "nbconvert_exporter": "python",
   "pygments_lexer": "ipython3",
   "version": "3.11.4"
  },
  "orig_nbformat": 4
 },
 "nbformat": 4,
 "nbformat_minor": 2
}
